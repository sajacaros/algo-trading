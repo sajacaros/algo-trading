{
 "nbformat": 4,
 "nbformat_minor": 0,
 "metadata": {
  "colab": {
   "name": "algo-trading-22/05/12",
   "provenance": [],
   "collapsed_sections": []
  },
  "kernelspec": {
   "name": "python3",
   "display_name": "Python 3"
  },
  "language_info": {
   "name": "python"
  }
 },
 "cells": [
  {
   "cell_type": "markdown",
   "source": [
    "# 137. 단순 수익 대 로그 수익"
   ],
   "metadata": {
    "id": "QQ5OXJFzuPi6"
   }
  },
  {
   "cell_type": "code",
   "execution_count": 35,
   "metadata": {
    "id": "nmL-9Bs_jFZl"
   },
   "outputs": [],
   "source": [
    "import pandas as pd\n",
    "import numpy as np"
   ]
  },
  {
   "cell_type": "code",
   "source": [
    "df = pd.DataFrame(index=[2016,2017,2018], data=[100,50,95], columns=[\"price\"])"
   ],
   "metadata": {
    "id": "7vureeB7pzCb"
   },
   "execution_count": 36,
   "outputs": []
  },
  {
   "cell_type": "code",
   "source": [
    "df"
   ],
   "metadata": {
    "colab": {
     "base_uri": "https://localhost:8080/",
     "height": 143
    },
    "id": "JBXDC9WEp61M",
    "outputId": "a53b5696-ea0e-432a-e9e6-c156ddf84c99"
   },
   "execution_count": 37,
   "outputs": [
    {
     "data": {
      "text/plain": "      price\n2016    100\n2017     50\n2018     95",
      "text/html": "<div>\n<style scoped>\n    .dataframe tbody tr th:only-of-type {\n        vertical-align: middle;\n    }\n\n    .dataframe tbody tr th {\n        vertical-align: top;\n    }\n\n    .dataframe thead th {\n        text-align: right;\n    }\n</style>\n<table border=\"1\" class=\"dataframe\">\n  <thead>\n    <tr style=\"text-align: right;\">\n      <th></th>\n      <th>price</th>\n    </tr>\n  </thead>\n  <tbody>\n    <tr>\n      <th>2016</th>\n      <td>100</td>\n    </tr>\n    <tr>\n      <th>2017</th>\n      <td>50</td>\n    </tr>\n    <tr>\n      <th>2018</th>\n      <td>95</td>\n    </tr>\n  </tbody>\n</table>\n</div>"
     },
     "execution_count": 37,
     "metadata": {},
     "output_type": "execute_result"
    }
   ]
  },
  {
   "cell_type": "markdown",
   "source": [
    "## 단순 수익 평균"
   ],
   "metadata": {
    "id": "qMprRSCUubz6"
   }
  },
  {
   "cell_type": "code",
   "source": [
    "simple_returns = df.pct_change().dropna()\n",
    "simple_returns"
   ],
   "metadata": {
    "colab": {
     "base_uri": "https://localhost:8080/",
     "height": 112
    },
    "id": "cbOVBZkZqASj",
    "outputId": "3d7a55d0-7249-46e2-a5e3-16f5f6993c39"
   },
   "execution_count": 38,
   "outputs": [
    {
     "data": {
      "text/plain": "      price\n2017   -0.5\n2018    0.9",
      "text/html": "<div>\n<style scoped>\n    .dataframe tbody tr th:only-of-type {\n        vertical-align: middle;\n    }\n\n    .dataframe tbody tr th {\n        vertical-align: top;\n    }\n\n    .dataframe thead th {\n        text-align: right;\n    }\n</style>\n<table border=\"1\" class=\"dataframe\">\n  <thead>\n    <tr style=\"text-align: right;\">\n      <th></th>\n      <th>price</th>\n    </tr>\n  </thead>\n  <tbody>\n    <tr>\n      <th>2017</th>\n      <td>-0.5</td>\n    </tr>\n    <tr>\n      <th>2018</th>\n      <td>0.9</td>\n    </tr>\n  </tbody>\n</table>\n</div>"
     },
     "execution_count": 38,
     "metadata": {},
     "output_type": "execute_result"
    }
   ]
  },
  {
   "cell_type": "code",
   "source": [
    "simple_returns.mean()"
   ],
   "metadata": {
    "colab": {
     "base_uri": "https://localhost:8080/"
    },
    "id": "JYKJ_bYEqFu7",
    "outputId": "ff3ad0b4-ed4b-4d78-c4ec-cc39309d5b23"
   },
   "execution_count": 39,
   "outputs": [
    {
     "data": {
      "text/plain": "price    0.2\ndtype: float64"
     },
     "execution_count": 39,
     "metadata": {},
     "output_type": "execute_result"
    }
   ]
  },
  {
   "cell_type": "code",
   "source": [
    "100 * 1.2 * 1.2"
   ],
   "metadata": {
    "colab": {
     "base_uri": "https://localhost:8080/"
    },
    "id": "nEMoRzZFqIvD",
    "outputId": "2766755e-0b85-4984-a0d6-a7b18700c1fd"
   },
   "execution_count": 40,
   "outputs": [
    {
     "data": {
      "text/plain": "144.0"
     },
     "execution_count": 40,
     "metadata": {},
     "output_type": "execute_result"
    }
   ]
  },
  {
   "cell_type": "markdown",
   "source": [
    "## 로그 수익 평균"
   ],
   "metadata": {
    "id": "Px4l_Q76us18"
   }
  },
  {
   "cell_type": "code",
   "source": [
    "df"
   ],
   "metadata": {
    "colab": {
     "base_uri": "https://localhost:8080/",
     "height": 143
    },
    "id": "J8B6qdy_qWkq",
    "outputId": "454a1cba-1eab-435d-c31e-c62bcb611b8a"
   },
   "execution_count": 41,
   "outputs": [
    {
     "data": {
      "text/plain": "      price\n2016    100\n2017     50\n2018     95",
      "text/html": "<div>\n<style scoped>\n    .dataframe tbody tr th:only-of-type {\n        vertical-align: middle;\n    }\n\n    .dataframe tbody tr th {\n        vertical-align: top;\n    }\n\n    .dataframe thead th {\n        text-align: right;\n    }\n</style>\n<table border=\"1\" class=\"dataframe\">\n  <thead>\n    <tr style=\"text-align: right;\">\n      <th></th>\n      <th>price</th>\n    </tr>\n  </thead>\n  <tbody>\n    <tr>\n      <th>2016</th>\n      <td>100</td>\n    </tr>\n    <tr>\n      <th>2017</th>\n      <td>50</td>\n    </tr>\n    <tr>\n      <th>2018</th>\n      <td>95</td>\n    </tr>\n  </tbody>\n</table>\n</div>"
     },
     "execution_count": 41,
     "metadata": {},
     "output_type": "execute_result"
    }
   ]
  },
  {
   "cell_type": "code",
   "source": [
    "df/df.shift(1)"
   ],
   "metadata": {
    "colab": {
     "base_uri": "https://localhost:8080/",
     "height": 143
    },
    "id": "LDvPV91SsPfi",
    "outputId": "1d689f83-9341-4cd7-adf1-ad1879206011"
   },
   "execution_count": 42,
   "outputs": [
    {
     "data": {
      "text/plain": "      price\n2016    NaN\n2017    0.5\n2018    1.9",
      "text/html": "<div>\n<style scoped>\n    .dataframe tbody tr th:only-of-type {\n        vertical-align: middle;\n    }\n\n    .dataframe tbody tr th {\n        vertical-align: top;\n    }\n\n    .dataframe thead th {\n        text-align: right;\n    }\n</style>\n<table border=\"1\" class=\"dataframe\">\n  <thead>\n    <tr style=\"text-align: right;\">\n      <th></th>\n      <th>price</th>\n    </tr>\n  </thead>\n  <tbody>\n    <tr>\n      <th>2016</th>\n      <td>NaN</td>\n    </tr>\n    <tr>\n      <th>2017</th>\n      <td>0.5</td>\n    </tr>\n    <tr>\n      <th>2018</th>\n      <td>1.9</td>\n    </tr>\n  </tbody>\n</table>\n</div>"
     },
     "execution_count": 42,
     "metadata": {},
     "output_type": "execute_result"
    }
   ]
  },
  {
   "cell_type": "code",
   "source": [
    "log_returns = np.log(df/df.shift(1)).dropna()\n",
    "log_returns"
   ],
   "metadata": {
    "colab": {
     "base_uri": "https://localhost:8080/",
     "height": 112
    },
    "id": "gUUgyJKBqLWz",
    "outputId": "5ca9c482-03b6-4230-96d0-02df2755789a"
   },
   "execution_count": 43,
   "outputs": [
    {
     "data": {
      "text/plain": "         price\n2017 -0.693147\n2018  0.641854",
      "text/html": "<div>\n<style scoped>\n    .dataframe tbody tr th:only-of-type {\n        vertical-align: middle;\n    }\n\n    .dataframe tbody tr th {\n        vertical-align: top;\n    }\n\n    .dataframe thead th {\n        text-align: right;\n    }\n</style>\n<table border=\"1\" class=\"dataframe\">\n  <thead>\n    <tr style=\"text-align: right;\">\n      <th></th>\n      <th>price</th>\n    </tr>\n  </thead>\n  <tbody>\n    <tr>\n      <th>2017</th>\n      <td>-0.693147</td>\n    </tr>\n    <tr>\n      <th>2018</th>\n      <td>0.641854</td>\n    </tr>\n  </tbody>\n</table>\n</div>"
     },
     "execution_count": 43,
     "metadata": {},
     "output_type": "execute_result"
    }
   ]
  },
  {
   "cell_type": "code",
   "source": [
    "import matplotlib.pyplot as plt\n",
    "\n",
    "x = np.arange(0, 15, 0.5)\n",
    "log_y = np.log(x)\n",
    "\n",
    "plt.xlabel('x')\n",
    "plt.ylabel('log(x)')\n",
    "plt.grid(color=\"gray\", alpha=.5, linestyle='--')\n",
    "plt.xticks(range(17))\n",
    "plt.plot(x, log_y, label='log(x)')\n",
    "plt.legend()\n",
    "plt.show()\n"
   ],
   "metadata": {
    "colab": {
     "base_uri": "https://localhost:8080/",
     "height": 316
    },
    "id": "W7-Fb2GlqZ0C",
    "outputId": "4e39cc55-c3aa-4ab3-b988-3f033297ac19"
   },
   "execution_count": 44,
   "outputs": [
    {
     "name": "stderr",
     "output_type": "stream",
     "text": [
      "C:\\Users\\dukim\\AppData\\Local\\Temp\\ipykernel_7136\\3303726538.py:4: RuntimeWarning: divide by zero encountered in log\n",
      "  log_y = np.log(x)\n"
     ]
    },
    {
     "data": {
      "text/plain": "<Figure size 432x288 with 1 Axes>",
      "image/png": "[encoded data removed]"
     },
     "metadata": {
      "needs_background": "light"
     },
     "output_type": "display_data"
    }
   ]
  },
  {
   "cell_type": "code",
   "source": [
    "log_returns.mean()"
   ],
   "metadata": {
    "colab": {
     "base_uri": "https://localhost:8080/"
    },
    "id": "wU5zEO40sx0R",
    "outputId": "aaaa9ba3-13a1-4e73-d935-6c1afa08f290"
   },
   "execution_count": 45,
   "outputs": [
    {
     "data": {
      "text/plain": "price   -0.025647\ndtype: float64"
     },
     "execution_count": 45,
     "metadata": {},
     "output_type": "execute_result"
    }
   ]
  },
  {
   "cell_type": "code",
   "source": [
    "100 * np.exp(2 * log_returns.mean())"
   ],
   "metadata": {
    "colab": {
     "base_uri": "https://localhost:8080/"
    },
    "id": "OS397A-euF8Q",
    "outputId": "f94965b1-7a54-4f31-bb89-e1886d805665"
   },
   "execution_count": 46,
   "outputs": [
    {
     "data": {
      "text/plain": "price    95.0\ndtype: float64"
     },
     "execution_count": 46,
     "metadata": {},
     "output_type": "execute_result"
    }
   ]
  },
  {
   "cell_type": "markdown",
   "source": [
    "## 결론\n",
    "일반적으로 단순 수익 평균 보단 로그 수익 평균이 더 나음"
   ],
   "metadata": {
    "id": "AnZYyGtcvHXf"
   }
  },
  {
   "cell_type": "markdown",
   "source": [
    "# 138 엑셀에서 금융 데이터 가져오기"
   ],
   "metadata": {
    "id": "buBR-bN9vY_N"
   }
  },
  {
   "cell_type": "code",
   "source": [
    "!pip install --upgrade pandas\n",
    "!pip install --upgrade xlrd\n",
    "import pandas as pd\n",
    "import pkg_resources\n",
    "pkg_resources.get_distribution(\"xlrd\").version"
   ],
   "metadata": {
    "colab": {
     "base_uri": "https://localhost:8080/",
     "height": 144
    },
    "id": "MUUj4y-C_1a6",
    "outputId": "26de814e-d643-4e2f-8aa7-08e50a7ffddc"
   },
   "execution_count": 47,
   "outputs": [
    {
     "name": "stdout",
     "output_type": "stream",
     "text": [
      "Requirement already satisfied: pandas in c:\\users\\dukim\\workspace\\study\\algo-trading\\venv\\lib\\site-packages (1.4.2)\n",
      "Requirement already satisfied: python-dateutil>=2.8.1 in c:\\users\\dukim\\workspace\\study\\algo-trading\\venv\\lib\\site-packages (from pandas) (2.8.2)\n",
      "Requirement already satisfied: numpy>=1.18.5 in c:\\users\\dukim\\workspace\\study\\algo-trading\\venv\\lib\\site-packages (from pandas) (1.22.4)\n",
      "Requirement already satisfied: pytz>=2020.1 in c:\\users\\dukim\\workspace\\study\\algo-trading\\venv\\lib\\site-packages (from pandas) (2022.1)\n",
      "Requirement already satisfied: six>=1.5 in c:\\users\\dukim\\workspace\\study\\algo-trading\\venv\\lib\\site-packages (from python-dateutil>=2.8.1->pandas) (1.16.0)\n",
      "Requirement already satisfied: xlrd in c:\\users\\dukim\\workspace\\study\\algo-trading\\venv\\lib\\site-packages (2.0.1)\n"
     ]
    },
    {
     "data": {
      "text/plain": "'2.0.1'"
     },
     "execution_count": 47,
     "metadata": {},
     "output_type": "execute_result"
    }
   ]
  },
  {
   "cell_type": "code",
   "source": [
    "pd.read_excel(\"../data/SP500.xls\")"
   ],
   "metadata": {
    "colab": {
     "base_uri": "https://localhost:8080/",
     "height": 424
    },
    "id": "LLAktchn_3Sg",
    "outputId": "ecf39ac2-c64a-4a6a-c41d-fcbeecdd6bfb"
   },
   "execution_count": 48,
   "outputs": [
    {
     "data": {
      "text/plain": "            Date         Open         High          Low        Close  \\\n0     1970-12-31    92.269997    92.790001    91.360001    92.150002   \n1     1971-01-04    92.150002    92.190002    90.639999    91.150002   \n2     1971-01-05    91.150002    92.279999    90.690002    91.800003   \n3     1971-01-06    91.800003    93.000000    91.500000    92.349998   \n4     1971-01-07    92.349998    93.260002    91.750000    92.379997   \n...          ...          ...          ...          ...          ...   \n12102 2018-12-21  2465.379883  2504.409912  2408.550049  2416.620117   \n12103 2018-12-24  2400.560059  2410.340088  2351.100098  2351.100098   \n12104 2018-12-26  2363.120117  2467.760010  2346.580078  2467.699951   \n12105 2018-12-27  2442.500000  2489.100098  2397.939941  2488.830078   \n12106 2018-12-28  2498.770020  2520.270020  2472.889893  2485.739990   \n\n         Adj Close      Volume  \n0        92.150002    13390000  \n1        91.150002    10010000  \n2        91.800003    12600000  \n3        92.349998    16960000  \n4        92.379997    16460000  \n...            ...         ...  \n12102  2416.620117  -980924592  \n12103  2351.100098 -1681037296  \n12104  2467.699951   -60977296  \n12105  2488.830078  -198357296  \n12106  2485.739990  -592347296  \n\n[12107 rows x 7 columns]",
      "text/html": "<div>\n<style scoped>\n    .dataframe tbody tr th:only-of-type {\n        vertical-align: middle;\n    }\n\n    .dataframe tbody tr th {\n        vertical-align: top;\n    }\n\n    .dataframe thead th {\n        text-align: right;\n    }\n</style>\n<table border=\"1\" class=\"dataframe\">\n  <thead>\n    <tr style=\"text-align: right;\">\n      <th></th>\n      <th>Date</th>\n      <th>Open</th>\n      <th>High</th>\n      <th>Low</th>\n      <th>Close</th>\n      <th>Adj Close</th>\n      <th>Volume</th>\n    </tr>\n  </thead>\n  <tbody>\n    <tr>\n      <th>0</th>\n      <td>1970-12-31</td>\n      <td>92.269997</td>\n      <td>92.790001</td>\n      <td>91.360001</td>\n      <td>92.150002</td>\n      <td>92.150002</td>\n      <td>13390000</td>\n    </tr>\n    <tr>\n      <th>1</th>\n      <td>1971-01-04</td>\n      <td>92.150002</td>\n      <td>92.190002</td>\n      <td>90.639999</td>\n      <td>91.150002</td>\n      <td>91.150002</td>\n      <td>10010000</td>\n    </tr>\n    <tr>\n      <th>2</th>\n      <td>1971-01-05</td>\n      <td>91.150002</td>\n      <td>92.279999</td>\n      <td>90.690002</td>\n      <td>91.800003</td>\n      <td>91.800003</td>\n      <td>12600000</td>\n    </tr>\n    <tr>\n      <th>3</th>\n      <td>1971-01-06</td>\n      <td>91.800003</td>\n      <td>93.000000</td>\n      <td>91.500000</td>\n      <td>92.349998</td>\n      <td>92.349998</td>\n      <td>16960000</td>\n    </tr>\n    <tr>\n      <th>4</th>\n      <td>1971-01-07</td>\n      <td>92.349998</td>\n      <td>93.260002</td>\n      <td>91.750000</td>\n      <td>92.379997</td>\n      <td>92.379997</td>\n      <td>16460000</td>\n    </tr>\n    <tr>\n      <th>...</th>\n      <td>...</td>\n      <td>...</td>\n      <td>...</td>\n      <td>...</td>\n      <td>...</td>\n      <td>...</td>\n      <td>...</td>\n    </tr>\n    <tr>\n      <th>12102</th>\n      <td>2018-12-21</td>\n      <td>2465.379883</td>\n      <td>2504.409912</td>\n      <td>2408.550049</td>\n      <td>2416.620117</td>\n      <td>2416.620117</td>\n      <td>-980924592</td>\n    </tr>\n    <tr>\n      <th>12103</th>\n      <td>2018-12-24</td>\n      <td>2400.560059</td>\n      <td>2410.340088</td>\n      <td>2351.100098</td>\n      <td>2351.100098</td>\n      <td>2351.100098</td>\n      <td>-1681037296</td>\n    </tr>\n    <tr>\n      <th>12104</th>\n      <td>2018-12-26</td>\n      <td>2363.120117</td>\n      <td>2467.760010</td>\n      <td>2346.580078</td>\n      <td>2467.699951</td>\n      <td>2467.699951</td>\n      <td>-60977296</td>\n    </tr>\n    <tr>\n      <th>12105</th>\n      <td>2018-12-27</td>\n      <td>2442.500000</td>\n      <td>2489.100098</td>\n      <td>2397.939941</td>\n      <td>2488.830078</td>\n      <td>2488.830078</td>\n      <td>-198357296</td>\n    </tr>\n    <tr>\n      <th>12106</th>\n      <td>2018-12-28</td>\n      <td>2498.770020</td>\n      <td>2520.270020</td>\n      <td>2472.889893</td>\n      <td>2485.739990</td>\n      <td>2485.739990</td>\n      <td>-592347296</td>\n    </tr>\n  </tbody>\n</table>\n<p>12107 rows × 7 columns</p>\n</div>"
     },
     "execution_count": 48,
     "metadata": {},
     "output_type": "execute_result"
    }
   ]
  },
  {
   "cell_type": "code",
   "source": [
    "pd.read_excel(\"../data/SP500.xls\", parse_dates=[\"Date\"], index_col=\"Date\")"
   ],
   "metadata": {
    "colab": {
     "base_uri": "https://localhost:8080/",
     "height": 455
    },
    "id": "SNRpZawWECYl",
    "outputId": "5e64b0e9-f0b3-4d90-a166-14301f0ae922"
   },
   "execution_count": 49,
   "outputs": [
    {
     "data": {
      "text/plain": "                   Open         High          Low        Close    Adj Close  \\\nDate                                                                          \n1970-12-31    92.269997    92.790001    91.360001    92.150002    92.150002   \n1971-01-04    92.150002    92.190002    90.639999    91.150002    91.150002   \n1971-01-05    91.150002    92.279999    90.690002    91.800003    91.800003   \n1971-01-06    91.800003    93.000000    91.500000    92.349998    92.349998   \n1971-01-07    92.349998    93.260002    91.750000    92.379997    92.379997   \n...                 ...          ...          ...          ...          ...   \n2018-12-21  2465.379883  2504.409912  2408.550049  2416.620117  2416.620117   \n2018-12-24  2400.560059  2410.340088  2351.100098  2351.100098  2351.100098   \n2018-12-26  2363.120117  2467.760010  2346.580078  2467.699951  2467.699951   \n2018-12-27  2442.500000  2489.100098  2397.939941  2488.830078  2488.830078   \n2018-12-28  2498.770020  2520.270020  2472.889893  2485.739990  2485.739990   \n\n                Volume  \nDate                    \n1970-12-31    13390000  \n1971-01-04    10010000  \n1971-01-05    12600000  \n1971-01-06    16960000  \n1971-01-07    16460000  \n...                ...  \n2018-12-21  -980924592  \n2018-12-24 -1681037296  \n2018-12-26   -60977296  \n2018-12-27  -198357296  \n2018-12-28  -592347296  \n\n[12107 rows x 6 columns]",
      "text/html": "<div>\n<style scoped>\n    .dataframe tbody tr th:only-of-type {\n        vertical-align: middle;\n    }\n\n    .dataframe tbody tr th {\n        vertical-align: top;\n    }\n\n    .dataframe thead th {\n        text-align: right;\n    }\n</style>\n<table border=\"1\" class=\"dataframe\">\n  <thead>\n    <tr style=\"text-align: right;\">\n      <th></th>\n      <th>Open</th>\n      <th>High</th>\n      <th>Low</th>\n      <th>Close</th>\n      <th>Adj Close</th>\n      <th>Volume</th>\n    </tr>\n    <tr>\n      <th>Date</th>\n      <th></th>\n      <th></th>\n      <th></th>\n      <th></th>\n      <th></th>\n      <th></th>\n    </tr>\n  </thead>\n  <tbody>\n    <tr>\n      <th>1970-12-31</th>\n      <td>92.269997</td>\n      <td>92.790001</td>\n      <td>91.360001</td>\n      <td>92.150002</td>\n      <td>92.150002</td>\n      <td>13390000</td>\n    </tr>\n    <tr>\n      <th>1971-01-04</th>\n      <td>92.150002</td>\n      <td>92.190002</td>\n      <td>90.639999</td>\n      <td>91.150002</td>\n      <td>91.150002</td>\n      <td>10010000</td>\n    </tr>\n    <tr>\n      <th>1971-01-05</th>\n      <td>91.150002</td>\n      <td>92.279999</td>\n      <td>90.690002</td>\n      <td>91.800003</td>\n      <td>91.800003</td>\n      <td>12600000</td>\n    </tr>\n    <tr>\n      <th>1971-01-06</th>\n      <td>91.800003</td>\n      <td>93.000000</td>\n      <td>91.500000</td>\n      <td>92.349998</td>\n      <td>92.349998</td>\n      <td>16960000</td>\n    </tr>\n    <tr>\n      <th>1971-01-07</th>\n      <td>92.349998</td>\n      <td>93.260002</td>\n      <td>91.750000</td>\n      <td>92.379997</td>\n      <td>92.379997</td>\n      <td>16460000</td>\n    </tr>\n    <tr>\n      <th>...</th>\n      <td>...</td>\n      <td>...</td>\n      <td>...</td>\n      <td>...</td>\n      <td>...</td>\n      <td>...</td>\n    </tr>\n    <tr>\n      <th>2018-12-21</th>\n      <td>2465.379883</td>\n      <td>2504.409912</td>\n      <td>2408.550049</td>\n      <td>2416.620117</td>\n      <td>2416.620117</td>\n      <td>-980924592</td>\n    </tr>\n    <tr>\n      <th>2018-12-24</th>\n      <td>2400.560059</td>\n      <td>2410.340088</td>\n      <td>2351.100098</td>\n      <td>2351.100098</td>\n      <td>2351.100098</td>\n      <td>-1681037296</td>\n    </tr>\n    <tr>\n      <th>2018-12-26</th>\n      <td>2363.120117</td>\n      <td>2467.760010</td>\n      <td>2346.580078</td>\n      <td>2467.699951</td>\n      <td>2467.699951</td>\n      <td>-60977296</td>\n    </tr>\n    <tr>\n      <th>2018-12-27</th>\n      <td>2442.500000</td>\n      <td>2489.100098</td>\n      <td>2397.939941</td>\n      <td>2488.830078</td>\n      <td>2488.830078</td>\n      <td>-198357296</td>\n    </tr>\n    <tr>\n      <th>2018-12-28</th>\n      <td>2498.770020</td>\n      <td>2520.270020</td>\n      <td>2472.889893</td>\n      <td>2485.739990</td>\n      <td>2485.739990</td>\n      <td>-592347296</td>\n    </tr>\n  </tbody>\n</table>\n<p>12107 rows × 6 columns</p>\n</div>"
     },
     "execution_count": 49,
     "metadata": {},
     "output_type": "execute_result"
    }
   ]
  },
  {
   "cell_type": "code",
   "source": [
    "pd.read_excel(\"../data/SP500.xls\", parse_dates=[\"Date\"], index_col=\"Date\", usecols=\"A:E\")"
   ],
   "metadata": {
    "colab": {
     "base_uri": "https://localhost:8080/",
     "height": 455
    },
    "id": "J4lfc1K8ESPN",
    "outputId": "3aa6a773-526f-4361-838b-fd48aabac218"
   },
   "execution_count": 50,
   "outputs": [
    {
     "data": {
      "text/plain": "                   Open         High          Low        Close\nDate                                                          \n1970-12-31    92.269997    92.790001    91.360001    92.150002\n1971-01-04    92.150002    92.190002    90.639999    91.150002\n1971-01-05    91.150002    92.279999    90.690002    91.800003\n1971-01-06    91.800003    93.000000    91.500000    92.349998\n1971-01-07    92.349998    93.260002    91.750000    92.379997\n...                 ...          ...          ...          ...\n2018-12-21  2465.379883  2504.409912  2408.550049  2416.620117\n2018-12-24  2400.560059  2410.340088  2351.100098  2351.100098\n2018-12-26  2363.120117  2467.760010  2346.580078  2467.699951\n2018-12-27  2442.500000  2489.100098  2397.939941  2488.830078\n2018-12-28  2498.770020  2520.270020  2472.889893  2485.739990\n\n[12107 rows x 4 columns]",
      "text/html": "<div>\n<style scoped>\n    .dataframe tbody tr th:only-of-type {\n        vertical-align: middle;\n    }\n\n    .dataframe tbody tr th {\n        vertical-align: top;\n    }\n\n    .dataframe thead th {\n        text-align: right;\n    }\n</style>\n<table border=\"1\" class=\"dataframe\">\n  <thead>\n    <tr style=\"text-align: right;\">\n      <th></th>\n      <th>Open</th>\n      <th>High</th>\n      <th>Low</th>\n      <th>Close</th>\n    </tr>\n    <tr>\n      <th>Date</th>\n      <th></th>\n      <th></th>\n      <th></th>\n      <th></th>\n    </tr>\n  </thead>\n  <tbody>\n    <tr>\n      <th>1970-12-31</th>\n      <td>92.269997</td>\n      <td>92.790001</td>\n      <td>91.360001</td>\n      <td>92.150002</td>\n    </tr>\n    <tr>\n      <th>1971-01-04</th>\n      <td>92.150002</td>\n      <td>92.190002</td>\n      <td>90.639999</td>\n      <td>91.150002</td>\n    </tr>\n    <tr>\n      <th>1971-01-05</th>\n      <td>91.150002</td>\n      <td>92.279999</td>\n      <td>90.690002</td>\n      <td>91.800003</td>\n    </tr>\n    <tr>\n      <th>1971-01-06</th>\n      <td>91.800003</td>\n      <td>93.000000</td>\n      <td>91.500000</td>\n      <td>92.349998</td>\n    </tr>\n    <tr>\n      <th>1971-01-07</th>\n      <td>92.349998</td>\n      <td>93.260002</td>\n      <td>91.750000</td>\n      <td>92.379997</td>\n    </tr>\n    <tr>\n      <th>...</th>\n      <td>...</td>\n      <td>...</td>\n      <td>...</td>\n      <td>...</td>\n    </tr>\n    <tr>\n      <th>2018-12-21</th>\n      <td>2465.379883</td>\n      <td>2504.409912</td>\n      <td>2408.550049</td>\n      <td>2416.620117</td>\n    </tr>\n    <tr>\n      <th>2018-12-24</th>\n      <td>2400.560059</td>\n      <td>2410.340088</td>\n      <td>2351.100098</td>\n      <td>2351.100098</td>\n    </tr>\n    <tr>\n      <th>2018-12-26</th>\n      <td>2363.120117</td>\n      <td>2467.760010</td>\n      <td>2346.580078</td>\n      <td>2467.699951</td>\n    </tr>\n    <tr>\n      <th>2018-12-27</th>\n      <td>2442.500000</td>\n      <td>2489.100098</td>\n      <td>2397.939941</td>\n      <td>2488.830078</td>\n    </tr>\n    <tr>\n      <th>2018-12-28</th>\n      <td>2498.770020</td>\n      <td>2520.270020</td>\n      <td>2472.889893</td>\n      <td>2485.739990</td>\n    </tr>\n  </tbody>\n</table>\n<p>12107 rows × 4 columns</p>\n</div>"
     },
     "execution_count": 50,
     "metadata": {},
     "output_type": "execute_result"
    }
   ]
  },
  {
   "cell_type": "code",
   "source": [
    "pd.read_excel(\"../data/SP500.xls\", sheet_name=\"Sales\")"
   ],
   "metadata": {
    "colab": {
     "base_uri": "https://localhost:8080/",
     "height": 206
    },
    "id": "-1X7Z8qPE6St",
    "outputId": "0b7a54db-dd21-4ec8-bf9a-63af09a9a13f"
   },
   "execution_count": 51,
   "outputs": [
    {
     "data": {
      "text/plain": "  Unnamed: 0      City  Sales\n0       Mike  New York     25\n1        Jim    Boston     43\n2     Steven    London     76\n3        Joe    Madrid     12\n4        Tom     Paris     89",
      "text/html": "<div>\n<style scoped>\n    .dataframe tbody tr th:only-of-type {\n        vertical-align: middle;\n    }\n\n    .dataframe tbody tr th {\n        vertical-align: top;\n    }\n\n    .dataframe thead th {\n        text-align: right;\n    }\n</style>\n<table border=\"1\" class=\"dataframe\">\n  <thead>\n    <tr style=\"text-align: right;\">\n      <th></th>\n      <th>Unnamed: 0</th>\n      <th>City</th>\n      <th>Sales</th>\n    </tr>\n  </thead>\n  <tbody>\n    <tr>\n      <th>0</th>\n      <td>Mike</td>\n      <td>New York</td>\n      <td>25</td>\n    </tr>\n    <tr>\n      <th>1</th>\n      <td>Jim</td>\n      <td>Boston</td>\n      <td>43</td>\n    </tr>\n    <tr>\n      <th>2</th>\n      <td>Steven</td>\n      <td>London</td>\n      <td>76</td>\n    </tr>\n    <tr>\n      <th>3</th>\n      <td>Joe</td>\n      <td>Madrid</td>\n      <td>12</td>\n    </tr>\n    <tr>\n      <th>4</th>\n      <td>Tom</td>\n      <td>Paris</td>\n      <td>89</td>\n    </tr>\n  </tbody>\n</table>\n</div>"
     },
     "execution_count": 51,
     "metadata": {},
     "output_type": "execute_result"
    }
   ]
  },
  {
   "cell_type": "code",
   "source": [
    "SP500 = pd.read_excel(\"../data/SP500.xls\", parse_dates=[\"Date\"], index_col=\"Date\", usecols=\"A:E\")"
   ],
   "metadata": {
    "id": "KIA0L4IkFIf1"
   },
   "execution_count": 52,
   "outputs": []
  },
  {
   "cell_type": "code",
   "source": [
    "SP500.head()"
   ],
   "metadata": {
    "colab": {
     "base_uri": "https://localhost:8080/",
     "height": 238
    },
    "id": "7z1YCMNUFIqV",
    "outputId": "85609698-2145-4542-9206-3e52d860091f"
   },
   "execution_count": 53,
   "outputs": [
    {
     "data": {
      "text/plain": "                 Open       High        Low      Close\nDate                                                  \n1970-12-31  92.269997  92.790001  91.360001  92.150002\n1971-01-04  92.150002  92.190002  90.639999  91.150002\n1971-01-05  91.150002  92.279999  90.690002  91.800003\n1971-01-06  91.800003  93.000000  91.500000  92.349998\n1971-01-07  92.349998  93.260002  91.750000  92.379997",
      "text/html": "<div>\n<style scoped>\n    .dataframe tbody tr th:only-of-type {\n        vertical-align: middle;\n    }\n\n    .dataframe tbody tr th {\n        vertical-align: top;\n    }\n\n    .dataframe thead th {\n        text-align: right;\n    }\n</style>\n<table border=\"1\" class=\"dataframe\">\n  <thead>\n    <tr style=\"text-align: right;\">\n      <th></th>\n      <th>Open</th>\n      <th>High</th>\n      <th>Low</th>\n      <th>Close</th>\n    </tr>\n    <tr>\n      <th>Date</th>\n      <th></th>\n      <th></th>\n      <th></th>\n      <th></th>\n    </tr>\n  </thead>\n  <tbody>\n    <tr>\n      <th>1970-12-31</th>\n      <td>92.269997</td>\n      <td>92.790001</td>\n      <td>91.360001</td>\n      <td>92.150002</td>\n    </tr>\n    <tr>\n      <th>1971-01-04</th>\n      <td>92.150002</td>\n      <td>92.190002</td>\n      <td>90.639999</td>\n      <td>91.150002</td>\n    </tr>\n    <tr>\n      <th>1971-01-05</th>\n      <td>91.150002</td>\n      <td>92.279999</td>\n      <td>90.690002</td>\n      <td>91.800003</td>\n    </tr>\n    <tr>\n      <th>1971-01-06</th>\n      <td>91.800003</td>\n      <td>93.000000</td>\n      <td>91.500000</td>\n      <td>92.349998</td>\n    </tr>\n    <tr>\n      <th>1971-01-07</th>\n      <td>92.349998</td>\n      <td>93.260002</td>\n      <td>91.750000</td>\n      <td>92.379997</td>\n    </tr>\n  </tbody>\n</table>\n</div>"
     },
     "execution_count": 53,
     "metadata": {},
     "output_type": "execute_result"
    }
   ]
  },
  {
   "cell_type": "code",
   "source": [
    "SP500.tail()"
   ],
   "metadata": {
    "colab": {
     "base_uri": "https://localhost:8080/",
     "height": 238
    },
    "id": "EQLQ2yWlFVSU",
    "outputId": "265a3e54-f0da-465f-9951-3140ca8e1fff"
   },
   "execution_count": 54,
   "outputs": [
    {
     "data": {
      "text/plain": "                   Open         High          Low        Close\nDate                                                          \n2018-12-21  2465.379883  2504.409912  2408.550049  2416.620117\n2018-12-24  2400.560059  2410.340088  2351.100098  2351.100098\n2018-12-26  2363.120117  2467.760010  2346.580078  2467.699951\n2018-12-27  2442.500000  2489.100098  2397.939941  2488.830078\n2018-12-28  2498.770020  2520.270020  2472.889893  2485.739990",
      "text/html": "<div>\n<style scoped>\n    .dataframe tbody tr th:only-of-type {\n        vertical-align: middle;\n    }\n\n    .dataframe tbody tr th {\n        vertical-align: top;\n    }\n\n    .dataframe thead th {\n        text-align: right;\n    }\n</style>\n<table border=\"1\" class=\"dataframe\">\n  <thead>\n    <tr style=\"text-align: right;\">\n      <th></th>\n      <th>Open</th>\n      <th>High</th>\n      <th>Low</th>\n      <th>Close</th>\n    </tr>\n    <tr>\n      <th>Date</th>\n      <th></th>\n      <th></th>\n      <th></th>\n      <th></th>\n    </tr>\n  </thead>\n  <tbody>\n    <tr>\n      <th>2018-12-21</th>\n      <td>2465.379883</td>\n      <td>2504.409912</td>\n      <td>2408.550049</td>\n      <td>2416.620117</td>\n    </tr>\n    <tr>\n      <th>2018-12-24</th>\n      <td>2400.560059</td>\n      <td>2410.340088</td>\n      <td>2351.100098</td>\n      <td>2351.100098</td>\n    </tr>\n    <tr>\n      <th>2018-12-26</th>\n      <td>2363.120117</td>\n      <td>2467.760010</td>\n      <td>2346.580078</td>\n      <td>2467.699951</td>\n    </tr>\n    <tr>\n      <th>2018-12-27</th>\n      <td>2442.500000</td>\n      <td>2489.100098</td>\n      <td>2397.939941</td>\n      <td>2488.830078</td>\n    </tr>\n    <tr>\n      <th>2018-12-28</th>\n      <td>2498.770020</td>\n      <td>2520.270020</td>\n      <td>2472.889893</td>\n      <td>2485.739990</td>\n    </tr>\n  </tbody>\n</table>\n</div>"
     },
     "execution_count": 54,
     "metadata": {},
     "output_type": "execute_result"
    }
   ]
  },
  {
   "cell_type": "code",
   "source": [
    "SP500.info()"
   ],
   "metadata": {
    "colab": {
     "base_uri": "https://localhost:8080/"
    },
    "id": "8pIjfccWFVVM",
    "outputId": "8f9597e2-efbb-4584-9955-f27271a5d462"
   },
   "execution_count": 55,
   "outputs": [
    {
     "name": "stdout",
     "output_type": "stream",
     "text": [
      "<class 'pandas.core.frame.DataFrame'>\n",
      "DatetimeIndex: 12107 entries, 1970-12-31 to 2018-12-28\n",
      "Data columns (total 4 columns):\n",
      " #   Column  Non-Null Count  Dtype  \n",
      "---  ------  --------------  -----  \n",
      " 0   Open    12107 non-null  float64\n",
      " 1   High    12107 non-null  float64\n",
      " 2   Low     12107 non-null  float64\n",
      " 3   Close   12107 non-null  float64\n",
      "dtypes: float64(4)\n",
      "memory usage: 472.9 KB\n"
     ]
    }
   ]
  },
  {
   "cell_type": "code",
   "source": [
    "SP500.to_csv(\"../temp/SP500.csv\")"
   ],
   "metadata": {
    "id": "a_nazGvHFVX0"
   },
   "execution_count": 56,
   "outputs": []
  },
  {
   "cell_type": "code",
   "source": [
    "SP500.to_excel(\"../temp/SP500_red.xlsx\")"
   ],
   "metadata": {
    "colab": {
     "base_uri": "https://localhost:8080/"
    },
    "id": "EljBun26FVaj",
    "outputId": "adf2d16d-0242-47e5-d25f-59da1c55a279"
   },
   "execution_count": 58,
   "outputs": []
  },
  {
   "cell_type": "markdown",
   "source": [
    "#139 rolling() 메소드로 단순 이동 평균(SMA) 계산하기"
   ],
   "metadata": {
    "id": "Kit2HLWS9PWj"
   }
  },
  {
   "cell_type": "code",
   "source": [
    "import pandas as pd\n",
    "import matplotlib.pyplot as plt\n",
    "plt.style.use(\"seaborn\")"
   ],
   "metadata": {
    "id": "mOU44l5TGPtt"
   },
   "execution_count": 59,
   "outputs": []
  },
  {
   "cell_type": "code",
   "source": [
    "SP500 = pd.read_csv(\"../temp/SP500.csv\", parse_dates=[\"Date\"], index_col=\"Date\")"
   ],
   "metadata": {
    "id": "x5CVdjYZN_lR"
   },
   "execution_count": 60,
   "outputs": []
  },
  {
   "cell_type": "code",
   "source": [
    "SP500.head()"
   ],
   "metadata": {
    "colab": {
     "base_uri": "https://localhost:8080/",
     "height": 238
    },
    "id": "kzPMxss2N_oR",
    "outputId": "9f431053-875d-445f-c7ca-a698625366b9"
   },
   "execution_count": 61,
   "outputs": [
    {
     "data": {
      "text/plain": "                 Open       High        Low      Close\nDate                                                  \n1970-12-31  92.269997  92.790001  91.360001  92.150002\n1971-01-04  92.150002  92.190002  90.639999  91.150002\n1971-01-05  91.150002  92.279999  90.690002  91.800003\n1971-01-06  91.800003  93.000000  91.500000  92.349998\n1971-01-07  92.349998  93.260002  91.750000  92.379997",
      "text/html": "<div>\n<style scoped>\n    .dataframe tbody tr th:only-of-type {\n        vertical-align: middle;\n    }\n\n    .dataframe tbody tr th {\n        vertical-align: top;\n    }\n\n    .dataframe thead th {\n        text-align: right;\n    }\n</style>\n<table border=\"1\" class=\"dataframe\">\n  <thead>\n    <tr style=\"text-align: right;\">\n      <th></th>\n      <th>Open</th>\n      <th>High</th>\n      <th>Low</th>\n      <th>Close</th>\n    </tr>\n    <tr>\n      <th>Date</th>\n      <th></th>\n      <th></th>\n      <th></th>\n      <th></th>\n    </tr>\n  </thead>\n  <tbody>\n    <tr>\n      <th>1970-12-31</th>\n      <td>92.269997</td>\n      <td>92.790001</td>\n      <td>91.360001</td>\n      <td>92.150002</td>\n    </tr>\n    <tr>\n      <th>1971-01-04</th>\n      <td>92.150002</td>\n      <td>92.190002</td>\n      <td>90.639999</td>\n      <td>91.150002</td>\n    </tr>\n    <tr>\n      <th>1971-01-05</th>\n      <td>91.150002</td>\n      <td>92.279999</td>\n      <td>90.690002</td>\n      <td>91.800003</td>\n    </tr>\n    <tr>\n      <th>1971-01-06</th>\n      <td>91.800003</td>\n      <td>93.000000</td>\n      <td>91.500000</td>\n      <td>92.349998</td>\n    </tr>\n    <tr>\n      <th>1971-01-07</th>\n      <td>92.349998</td>\n      <td>93.260002</td>\n      <td>91.750000</td>\n      <td>92.379997</td>\n    </tr>\n  </tbody>\n</table>\n</div>"
     },
     "execution_count": 61,
     "metadata": {},
     "output_type": "execute_result"
    }
   ]
  },
  {
   "cell_type": "code",
   "source": [
    "SP500.tail()"
   ],
   "metadata": {
    "colab": {
     "base_uri": "https://localhost:8080/",
     "height": 238
    },
    "id": "RQrXOlsQN_rJ",
    "outputId": "7a82c917-da41-424b-c252-41b23bd4955d"
   },
   "execution_count": 62,
   "outputs": [
    {
     "data": {
      "text/plain": "                   Open         High          Low        Close\nDate                                                          \n2018-12-21  2465.379883  2504.409912  2408.550049  2416.620117\n2018-12-24  2400.560059  2410.340088  2351.100098  2351.100098\n2018-12-26  2363.120117  2467.760010  2346.580078  2467.699951\n2018-12-27  2442.500000  2489.100098  2397.939941  2488.830078\n2018-12-28  2498.770020  2520.270020  2472.889893  2485.739990",
      "text/html": "<div>\n<style scoped>\n    .dataframe tbody tr th:only-of-type {\n        vertical-align: middle;\n    }\n\n    .dataframe tbody tr th {\n        vertical-align: top;\n    }\n\n    .dataframe thead th {\n        text-align: right;\n    }\n</style>\n<table border=\"1\" class=\"dataframe\">\n  <thead>\n    <tr style=\"text-align: right;\">\n      <th></th>\n      <th>Open</th>\n      <th>High</th>\n      <th>Low</th>\n      <th>Close</th>\n    </tr>\n    <tr>\n      <th>Date</th>\n      <th></th>\n      <th></th>\n      <th></th>\n      <th></th>\n    </tr>\n  </thead>\n  <tbody>\n    <tr>\n      <th>2018-12-21</th>\n      <td>2465.379883</td>\n      <td>2504.409912</td>\n      <td>2408.550049</td>\n      <td>2416.620117</td>\n    </tr>\n    <tr>\n      <th>2018-12-24</th>\n      <td>2400.560059</td>\n      <td>2410.340088</td>\n      <td>2351.100098</td>\n      <td>2351.100098</td>\n    </tr>\n    <tr>\n      <th>2018-12-26</th>\n      <td>2363.120117</td>\n      <td>2467.760010</td>\n      <td>2346.580078</td>\n      <td>2467.699951</td>\n    </tr>\n    <tr>\n      <th>2018-12-27</th>\n      <td>2442.500000</td>\n      <td>2489.100098</td>\n      <td>2397.939941</td>\n      <td>2488.830078</td>\n    </tr>\n    <tr>\n      <th>2018-12-28</th>\n      <td>2498.770020</td>\n      <td>2520.270020</td>\n      <td>2472.889893</td>\n      <td>2485.739990</td>\n    </tr>\n  </tbody>\n</table>\n</div>"
     },
     "execution_count": 62,
     "metadata": {},
     "output_type": "execute_result"
    }
   ]
  },
  {
   "cell_type": "code",
   "source": [
    "SP500.info()"
   ],
   "metadata": {
    "colab": {
     "base_uri": "https://localhost:8080/"
    },
    "id": "BZMTdRPMN_tx",
    "outputId": "7f5d2e6f-00f9-4875-ec40-51d424bff672"
   },
   "execution_count": 63,
   "outputs": [
    {
     "name": "stdout",
     "output_type": "stream",
     "text": [
      "<class 'pandas.core.frame.DataFrame'>\n",
      "DatetimeIndex: 12107 entries, 1970-12-31 to 2018-12-28\n",
      "Data columns (total 4 columns):\n",
      " #   Column  Non-Null Count  Dtype  \n",
      "---  ------  --------------  -----  \n",
      " 0   Open    12107 non-null  float64\n",
      " 1   High    12107 non-null  float64\n",
      " 2   Low     12107 non-null  float64\n",
      " 3   Close   12107 non-null  float64\n",
      "dtypes: float64(4)\n",
      "memory usage: 472.9 KB\n"
     ]
    }
   ]
  },
  {
   "cell_type": "code",
   "source": [
    "SP500 = SP500.Close.to_frame()"
   ],
   "metadata": {
    "id": "h9BlthHdN_wi"
   },
   "execution_count": 64,
   "outputs": []
  },
  {
   "cell_type": "code",
   "source": [
    "SP500.head()"
   ],
   "metadata": {
    "colab": {
     "base_uri": "https://localhost:8080/",
     "height": 238
    },
    "id": "ZaqusxKkN_zJ",
    "outputId": "502d2c7c-cbc5-4218-c711-a0ebb9b300f5"
   },
   "execution_count": 65,
   "outputs": [
    {
     "data": {
      "text/plain": "                Close\nDate                 \n1970-12-31  92.150002\n1971-01-04  91.150002\n1971-01-05  91.800003\n1971-01-06  92.349998\n1971-01-07  92.379997",
      "text/html": "<div>\n<style scoped>\n    .dataframe tbody tr th:only-of-type {\n        vertical-align: middle;\n    }\n\n    .dataframe tbody tr th {\n        vertical-align: top;\n    }\n\n    .dataframe thead th {\n        text-align: right;\n    }\n</style>\n<table border=\"1\" class=\"dataframe\">\n  <thead>\n    <tr style=\"text-align: right;\">\n      <th></th>\n      <th>Close</th>\n    </tr>\n    <tr>\n      <th>Date</th>\n      <th></th>\n    </tr>\n  </thead>\n  <tbody>\n    <tr>\n      <th>1970-12-31</th>\n      <td>92.150002</td>\n    </tr>\n    <tr>\n      <th>1971-01-04</th>\n      <td>91.150002</td>\n    </tr>\n    <tr>\n      <th>1971-01-05</th>\n      <td>91.800003</td>\n    </tr>\n    <tr>\n      <th>1971-01-06</th>\n      <td>92.349998</td>\n    </tr>\n    <tr>\n      <th>1971-01-07</th>\n      <td>92.379997</td>\n    </tr>\n  </tbody>\n</table>\n</div>"
     },
     "execution_count": 65,
     "metadata": {},
     "output_type": "execute_result"
    }
   ]
  },
  {
   "cell_type": "code",
   "source": [
    "SP500.plot(figsize=(12,8), fontsize=15)\n",
    "plt.legend(loc=\"upper left\", fontsize=15)\n",
    "plt.show()"
   ],
   "metadata": {
    "colab": {
     "base_uri": "https://localhost:8080/",
     "height": 473
    },
    "id": "NSo5GbZyN_2D",
    "outputId": "0f60c2ae-20a3-4543-b53c-79484e39b962"
   },
   "execution_count": 66,
   "outputs": [
    {
     "data": {
      "text/plain": "<Figure size 864x576 with 1 Axes>",
      "image/png": "[encoded data removed]"
     },
     "metadata": {},
     "output_type": "display_data"
    }
   ]
  },
  {
   "cell_type": "code",
   "source": [
    "SP500 = SP500.loc[\"2008-12-31\":\"2018-12-31\"].copy()"
   ],
   "metadata": {
    "id": "ldg0GK6JN_4m"
   },
   "execution_count": 67,
   "outputs": []
  },
  {
   "cell_type": "code",
   "source": [
    "SP500.rolling(window=10)"
   ],
   "metadata": {
    "colab": {
     "base_uri": "https://localhost:8080/"
    },
    "id": "3V7gO64oOOUQ",
    "outputId": "63084b57-84e4-4505-aece-196ae14dcd2e"
   },
   "execution_count": 68,
   "outputs": [
    {
     "data": {
      "text/plain": "Rolling [window=10,center=False,axis=0,method=single]"
     },
     "execution_count": 68,
     "metadata": {},
     "output_type": "execute_result"
    }
   ]
  },
  {
   "cell_type": "code",
   "source": [
    "type(SP500.rolling(window=10))"
   ],
   "metadata": {
    "colab": {
     "base_uri": "https://localhost:8080/"
    },
    "id": "Oh_ZBRpHOOXI",
    "outputId": "d60f17e9-f7ac-49e2-f994-963d49ce9c1c"
   },
   "execution_count": 69,
   "outputs": [
    {
     "data": {
      "text/plain": "pandas.core.window.rolling.Rolling"
     },
     "execution_count": 69,
     "metadata": {},
     "output_type": "execute_result"
    }
   ]
  },
  {
   "cell_type": "code",
   "source": [
    "SP500.head(15)"
   ],
   "metadata": {
    "colab": {
     "base_uri": "https://localhost:8080/",
     "height": 551
    },
    "id": "yXoWFDp9OOZ4",
    "outputId": "2e74065b-c224-4e48-973c-8c6a997c0418"
   },
   "execution_count": 70,
   "outputs": [
    {
     "data": {
      "text/plain": "                 Close\nDate                  \n2008-12-31  903.250000\n2009-01-02  931.799988\n2009-01-05  927.450012\n2009-01-06  934.700012\n2009-01-07  906.650024\n2009-01-08  909.729980\n2009-01-09  890.349976\n2009-01-12  870.260010\n2009-01-13  871.789978\n2009-01-14  842.619995\n2009-01-15  843.739990\n2009-01-16  850.119995\n2009-01-20  805.219971\n2009-01-21  840.239990\n2009-01-22  827.500000",
      "text/html": "<div>\n<style scoped>\n    .dataframe tbody tr th:only-of-type {\n        vertical-align: middle;\n    }\n\n    .dataframe tbody tr th {\n        vertical-align: top;\n    }\n\n    .dataframe thead th {\n        text-align: right;\n    }\n</style>\n<table border=\"1\" class=\"dataframe\">\n  <thead>\n    <tr style=\"text-align: right;\">\n      <th></th>\n      <th>Close</th>\n    </tr>\n    <tr>\n      <th>Date</th>\n      <th></th>\n    </tr>\n  </thead>\n  <tbody>\n    <tr>\n      <th>2008-12-31</th>\n      <td>903.250000</td>\n    </tr>\n    <tr>\n      <th>2009-01-02</th>\n      <td>931.799988</td>\n    </tr>\n    <tr>\n      <th>2009-01-05</th>\n      <td>927.450012</td>\n    </tr>\n    <tr>\n      <th>2009-01-06</th>\n      <td>934.700012</td>\n    </tr>\n    <tr>\n      <th>2009-01-07</th>\n      <td>906.650024</td>\n    </tr>\n    <tr>\n      <th>2009-01-08</th>\n      <td>909.729980</td>\n    </tr>\n    <tr>\n      <th>2009-01-09</th>\n      <td>890.349976</td>\n    </tr>\n    <tr>\n      <th>2009-01-12</th>\n      <td>870.260010</td>\n    </tr>\n    <tr>\n      <th>2009-01-13</th>\n      <td>871.789978</td>\n    </tr>\n    <tr>\n      <th>2009-01-14</th>\n      <td>842.619995</td>\n    </tr>\n    <tr>\n      <th>2009-01-15</th>\n      <td>843.739990</td>\n    </tr>\n    <tr>\n      <th>2009-01-16</th>\n      <td>850.119995</td>\n    </tr>\n    <tr>\n      <th>2009-01-20</th>\n      <td>805.219971</td>\n    </tr>\n    <tr>\n      <th>2009-01-21</th>\n      <td>840.239990</td>\n    </tr>\n    <tr>\n      <th>2009-01-22</th>\n      <td>827.500000</td>\n    </tr>\n  </tbody>\n</table>\n</div>"
     },
     "execution_count": 70,
     "metadata": {},
     "output_type": "execute_result"
    }
   ]
  },
  {
   "cell_type": "code",
   "source": [
    "SP500.rolling(window = 10).mean()"
   ],
   "metadata": {
    "colab": {
     "base_uri": "https://localhost:8080/",
     "height": 455
    },
    "id": "7Gy0OxGvOOcg",
    "outputId": "1e0d47b8-aa4a-494d-a0f2-426bd46b49f1"
   },
   "execution_count": 71,
   "outputs": [
    {
     "data": {
      "text/plain": "                  Close\nDate                   \n2008-12-31          NaN\n2009-01-02          NaN\n2009-01-05          NaN\n2009-01-06          NaN\n2009-01-07          NaN\n...                 ...\n2018-12-21  2565.915991\n2018-12-24  2537.254004\n2018-12-26  2520.345996\n2018-12-27  2504.121997\n2018-12-28  2487.641992\n\n[2516 rows x 1 columns]",
      "text/html": "<div>\n<style scoped>\n    .dataframe tbody tr th:only-of-type {\n        vertical-align: middle;\n    }\n\n    .dataframe tbody tr th {\n        vertical-align: top;\n    }\n\n    .dataframe thead th {\n        text-align: right;\n    }\n</style>\n<table border=\"1\" class=\"dataframe\">\n  <thead>\n    <tr style=\"text-align: right;\">\n      <th></th>\n      <th>Close</th>\n    </tr>\n    <tr>\n      <th>Date</th>\n      <th></th>\n    </tr>\n  </thead>\n  <tbody>\n    <tr>\n      <th>2008-12-31</th>\n      <td>NaN</td>\n    </tr>\n    <tr>\n      <th>2009-01-02</th>\n      <td>NaN</td>\n    </tr>\n    <tr>\n      <th>2009-01-05</th>\n      <td>NaN</td>\n    </tr>\n    <tr>\n      <th>2009-01-06</th>\n      <td>NaN</td>\n    </tr>\n    <tr>\n      <th>2009-01-07</th>\n      <td>NaN</td>\n    </tr>\n    <tr>\n      <th>...</th>\n      <td>...</td>\n    </tr>\n    <tr>\n      <th>2018-12-21</th>\n      <td>2565.915991</td>\n    </tr>\n    <tr>\n      <th>2018-12-24</th>\n      <td>2537.254004</td>\n    </tr>\n    <tr>\n      <th>2018-12-26</th>\n      <td>2520.345996</td>\n    </tr>\n    <tr>\n      <th>2018-12-27</th>\n      <td>2504.121997</td>\n    </tr>\n    <tr>\n      <th>2018-12-28</th>\n      <td>2487.641992</td>\n    </tr>\n  </tbody>\n</table>\n<p>2516 rows × 1 columns</p>\n</div>"
     },
     "execution_count": 71,
     "metadata": {},
     "output_type": "execute_result"
    }
   ]
  },
  {
   "cell_type": "code",
   "source": [
    "SP500.rolling(window=10, min_periods=5).mean()"
   ],
   "metadata": {
    "colab": {
     "base_uri": "https://localhost:8080/",
     "height": 455
    },
    "id": "mbZRFigmOOfQ",
    "outputId": "7e0c8bc8-e5d6-4140-fe9b-8620583a82d0"
   },
   "execution_count": 72,
   "outputs": [
    {
     "data": {
      "text/plain": "                  Close\nDate                   \n2008-12-31          NaN\n2009-01-02          NaN\n2009-01-05          NaN\n2009-01-06          NaN\n2009-01-07   920.770007\n...                 ...\n2018-12-21  2565.915991\n2018-12-24  2537.254004\n2018-12-26  2520.345996\n2018-12-27  2504.121997\n2018-12-28  2487.641992\n\n[2516 rows x 1 columns]",
      "text/html": "<div>\n<style scoped>\n    .dataframe tbody tr th:only-of-type {\n        vertical-align: middle;\n    }\n\n    .dataframe tbody tr th {\n        vertical-align: top;\n    }\n\n    .dataframe thead th {\n        text-align: right;\n    }\n</style>\n<table border=\"1\" class=\"dataframe\">\n  <thead>\n    <tr style=\"text-align: right;\">\n      <th></th>\n      <th>Close</th>\n    </tr>\n    <tr>\n      <th>Date</th>\n      <th></th>\n    </tr>\n  </thead>\n  <tbody>\n    <tr>\n      <th>2008-12-31</th>\n      <td>NaN</td>\n    </tr>\n    <tr>\n      <th>2009-01-02</th>\n      <td>NaN</td>\n    </tr>\n    <tr>\n      <th>2009-01-05</th>\n      <td>NaN</td>\n    </tr>\n    <tr>\n      <th>2009-01-06</th>\n      <td>NaN</td>\n    </tr>\n    <tr>\n      <th>2009-01-07</th>\n      <td>920.770007</td>\n    </tr>\n    <tr>\n      <th>...</th>\n      <td>...</td>\n    </tr>\n    <tr>\n      <th>2018-12-21</th>\n      <td>2565.915991</td>\n    </tr>\n    <tr>\n      <th>2018-12-24</th>\n      <td>2537.254004</td>\n    </tr>\n    <tr>\n      <th>2018-12-26</th>\n      <td>2520.345996</td>\n    </tr>\n    <tr>\n      <th>2018-12-27</th>\n      <td>2504.121997</td>\n    </tr>\n    <tr>\n      <th>2018-12-28</th>\n      <td>2487.641992</td>\n    </tr>\n  </tbody>\n</table>\n<p>2516 rows × 1 columns</p>\n</div>"
     },
     "execution_count": 72,
     "metadata": {},
     "output_type": "execute_result"
    }
   ]
  },
  {
   "cell_type": "code",
   "source": [
    "diff = pd.DataFrame()\n",
    "diff['non period'] = SP500.rolling(window = 10).mean().head(10)\n",
    "diff['period'] = SP500.rolling(window = 10, min_periods=5).mean().head(10)\n",
    "diff"
   ],
   "metadata": {
    "colab": {
     "base_uri": "https://localhost:8080/",
     "height": 394
    },
    "id": "RCPFGg9iQSCQ",
    "outputId": "a4005210-ba77-4a4e-da34-56e7920a65fa"
   },
   "execution_count": 73,
   "outputs": [
    {
     "data": {
      "text/plain": "            non period      period\nDate                              \n2008-12-31         NaN         NaN\n2009-01-02         NaN         NaN\n2009-01-05         NaN         NaN\n2009-01-06         NaN         NaN\n2009-01-07         NaN  920.770007\n2009-01-08         NaN  918.930003\n2009-01-09         NaN  914.847142\n2009-01-12         NaN  909.273750\n2009-01-13         NaN  905.108887\n2009-01-14  898.859997  898.859997",
      "text/html": "<div>\n<style scoped>\n    .dataframe tbody tr th:only-of-type {\n        vertical-align: middle;\n    }\n\n    .dataframe tbody tr th {\n        vertical-align: top;\n    }\n\n    .dataframe thead th {\n        text-align: right;\n    }\n</style>\n<table border=\"1\" class=\"dataframe\">\n  <thead>\n    <tr style=\"text-align: right;\">\n      <th></th>\n      <th>non period</th>\n      <th>period</th>\n    </tr>\n    <tr>\n      <th>Date</th>\n      <th></th>\n      <th></th>\n    </tr>\n  </thead>\n  <tbody>\n    <tr>\n      <th>2008-12-31</th>\n      <td>NaN</td>\n      <td>NaN</td>\n    </tr>\n    <tr>\n      <th>2009-01-02</th>\n      <td>NaN</td>\n      <td>NaN</td>\n    </tr>\n    <tr>\n      <th>2009-01-05</th>\n      <td>NaN</td>\n      <td>NaN</td>\n    </tr>\n    <tr>\n      <th>2009-01-06</th>\n      <td>NaN</td>\n      <td>NaN</td>\n    </tr>\n    <tr>\n      <th>2009-01-07</th>\n      <td>NaN</td>\n      <td>920.770007</td>\n    </tr>\n    <tr>\n      <th>2009-01-08</th>\n      <td>NaN</td>\n      <td>918.930003</td>\n    </tr>\n    <tr>\n      <th>2009-01-09</th>\n      <td>NaN</td>\n      <td>914.847142</td>\n    </tr>\n    <tr>\n      <th>2009-01-12</th>\n      <td>NaN</td>\n      <td>909.273750</td>\n    </tr>\n    <tr>\n      <th>2009-01-13</th>\n      <td>NaN</td>\n      <td>905.108887</td>\n    </tr>\n    <tr>\n      <th>2009-01-14</th>\n      <td>898.859997</td>\n      <td>898.859997</td>\n    </tr>\n  </tbody>\n</table>\n</div>"
     },
     "execution_count": 73,
     "metadata": {},
     "output_type": "execute_result"
    }
   ]
  },
  {
   "cell_type": "markdown",
   "source": [
    "#140 SMA로 세우는 모멘텀 트레이딩 전략"
   ],
   "metadata": {
    "id": "RrWRJ20f9VHd"
   }
  },
  {
   "cell_type": "code",
   "source": [
    "SP500.head()"
   ],
   "metadata": {
    "colab": {
     "base_uri": "https://localhost:8080/",
     "height": 238
    },
    "id": "mcm2VU3UQ23n",
    "outputId": "cdeceb58-32a7-4548-a46f-b9fd6c053380"
   },
   "execution_count": 74,
   "outputs": [
    {
     "data": {
      "text/plain": "                 Close\nDate                  \n2008-12-31  903.250000\n2009-01-02  931.799988\n2009-01-05  927.450012\n2009-01-06  934.700012\n2009-01-07  906.650024",
      "text/html": "<div>\n<style scoped>\n    .dataframe tbody tr th:only-of-type {\n        vertical-align: middle;\n    }\n\n    .dataframe tbody tr th {\n        vertical-align: top;\n    }\n\n    .dataframe thead th {\n        text-align: right;\n    }\n</style>\n<table border=\"1\" class=\"dataframe\">\n  <thead>\n    <tr style=\"text-align: right;\">\n      <th></th>\n      <th>Close</th>\n    </tr>\n    <tr>\n      <th>Date</th>\n      <th></th>\n    </tr>\n  </thead>\n  <tbody>\n    <tr>\n      <th>2008-12-31</th>\n      <td>903.250000</td>\n    </tr>\n    <tr>\n      <th>2009-01-02</th>\n      <td>931.799988</td>\n    </tr>\n    <tr>\n      <th>2009-01-05</th>\n      <td>927.450012</td>\n    </tr>\n    <tr>\n      <th>2009-01-06</th>\n      <td>934.700012</td>\n    </tr>\n    <tr>\n      <th>2009-01-07</th>\n      <td>906.650024</td>\n    </tr>\n  </tbody>\n</table>\n</div>"
     },
     "execution_count": 74,
     "metadata": {},
     "output_type": "execute_result"
    }
   ]
  },
  {
   "cell_type": "code",
   "source": [
    "SP500.tail()"
   ],
   "metadata": {
    "colab": {
     "base_uri": "https://localhost:8080/",
     "height": 238
    },
    "id": "LmIZRIyGQ3i3",
    "outputId": "19fe2e80-8845-4a4b-bf30-d05f457b55c1"
   },
   "execution_count": 75,
   "outputs": [
    {
     "data": {
      "text/plain": "                  Close\nDate                   \n2018-12-21  2416.620117\n2018-12-24  2351.100098\n2018-12-26  2467.699951\n2018-12-27  2488.830078\n2018-12-28  2485.739990",
      "text/html": "<div>\n<style scoped>\n    .dataframe tbody tr th:only-of-type {\n        vertical-align: middle;\n    }\n\n    .dataframe tbody tr th {\n        vertical-align: top;\n    }\n\n    .dataframe thead th {\n        text-align: right;\n    }\n</style>\n<table border=\"1\" class=\"dataframe\">\n  <thead>\n    <tr style=\"text-align: right;\">\n      <th></th>\n      <th>Close</th>\n    </tr>\n    <tr>\n      <th>Date</th>\n      <th></th>\n    </tr>\n  </thead>\n  <tbody>\n    <tr>\n      <th>2018-12-21</th>\n      <td>2416.620117</td>\n    </tr>\n    <tr>\n      <th>2018-12-24</th>\n      <td>2351.100098</td>\n    </tr>\n    <tr>\n      <th>2018-12-26</th>\n      <td>2467.699951</td>\n    </tr>\n    <tr>\n      <th>2018-12-27</th>\n      <td>2488.830078</td>\n    </tr>\n    <tr>\n      <th>2018-12-28</th>\n      <td>2485.739990</td>\n    </tr>\n  </tbody>\n</table>\n</div>"
     },
     "execution_count": 75,
     "metadata": {},
     "output_type": "execute_result"
    }
   ]
  },
  {
   "cell_type": "code",
   "source": [
    "SP500[\"SMA50\"] = SP500.rolling(window=50, min_periods=50).mean()"
   ],
   "metadata": {
    "id": "VGzt5zhMQ3lp"
   },
   "execution_count": 76,
   "outputs": []
  },
  {
   "cell_type": "code",
   "source": [
    "SP500"
   ],
   "metadata": {
    "colab": {
     "base_uri": "https://localhost:8080/",
     "height": 455
    },
    "id": "S6M3_FqsQ3oI",
    "outputId": "0f585931-b346-4d5e-dd6e-ed43bba5f2a9"
   },
   "execution_count": 77,
   "outputs": [
    {
     "data": {
      "text/plain": "                  Close        SMA50\nDate                                \n2008-12-31   903.250000          NaN\n2009-01-02   931.799988          NaN\n2009-01-05   927.450012          NaN\n2009-01-06   934.700012          NaN\n2009-01-07   906.650024          NaN\n...                 ...          ...\n2018-12-21  2416.620117  2692.420195\n2018-12-24  2351.100098  2684.874795\n2018-12-26  2467.699951  2678.886196\n2018-12-27  2488.830078  2673.646997\n2018-12-28  2485.739990  2667.163398\n\n[2516 rows x 2 columns]",
      "text/html": "<div>\n<style scoped>\n    .dataframe tbody tr th:only-of-type {\n        vertical-align: middle;\n    }\n\n    .dataframe tbody tr th {\n        vertical-align: top;\n    }\n\n    .dataframe thead th {\n        text-align: right;\n    }\n</style>\n<table border=\"1\" class=\"dataframe\">\n  <thead>\n    <tr style=\"text-align: right;\">\n      <th></th>\n      <th>Close</th>\n      <th>SMA50</th>\n    </tr>\n    <tr>\n      <th>Date</th>\n      <th></th>\n      <th></th>\n    </tr>\n  </thead>\n  <tbody>\n    <tr>\n      <th>2008-12-31</th>\n      <td>903.250000</td>\n      <td>NaN</td>\n    </tr>\n    <tr>\n      <th>2009-01-02</th>\n      <td>931.799988</td>\n      <td>NaN</td>\n    </tr>\n    <tr>\n      <th>2009-01-05</th>\n      <td>927.450012</td>\n      <td>NaN</td>\n    </tr>\n    <tr>\n      <th>2009-01-06</th>\n      <td>934.700012</td>\n      <td>NaN</td>\n    </tr>\n    <tr>\n      <th>2009-01-07</th>\n      <td>906.650024</td>\n      <td>NaN</td>\n    </tr>\n    <tr>\n      <th>...</th>\n      <td>...</td>\n      <td>...</td>\n    </tr>\n    <tr>\n      <th>2018-12-21</th>\n      <td>2416.620117</td>\n      <td>2692.420195</td>\n    </tr>\n    <tr>\n      <th>2018-12-24</th>\n      <td>2351.100098</td>\n      <td>2684.874795</td>\n    </tr>\n    <tr>\n      <th>2018-12-26</th>\n      <td>2467.699951</td>\n      <td>2678.886196</td>\n    </tr>\n    <tr>\n      <th>2018-12-27</th>\n      <td>2488.830078</td>\n      <td>2673.646997</td>\n    </tr>\n    <tr>\n      <th>2018-12-28</th>\n      <td>2485.739990</td>\n      <td>2667.163398</td>\n    </tr>\n  </tbody>\n</table>\n<p>2516 rows × 2 columns</p>\n</div>"
     },
     "execution_count": 77,
     "metadata": {},
     "output_type": "execute_result"
    }
   ]
  },
  {
   "cell_type": "code",
   "source": [
    "SP500.plot(figsize=(12, 8), fontsize=15)\n",
    "plt.legend(loc=\"upper left\", fontsize=15)\n",
    "plt.show()"
   ],
   "metadata": {
    "colab": {
     "base_uri": "https://localhost:8080/",
     "height": 473
    },
    "id": "2WjG1oqWQ3qp",
    "outputId": "a0713480-ab39-4e13-d480-fa612df20478"
   },
   "execution_count": 78,
   "outputs": [
    {
     "data": {
      "text/plain": "<Figure size 864x576 with 1 Axes>",
      "image/png": "[encoded data removed]"
     },
     "metadata": {},
     "output_type": "display_data"
    }
   ]
  },
  {
   "cell_type": "code",
   "source": [
    "SP500[\"SMA200\"] = SP500.Close.rolling(window=200).mean()"
   ],
   "metadata": {
    "id": "vc27D3ViRq63"
   },
   "execution_count": 79,
   "outputs": []
  },
  {
   "cell_type": "code",
   "source": [
    "SP500.tail()"
   ],
   "metadata": {
    "colab": {
     "base_uri": "https://localhost:8080/",
     "height": 238
    },
    "id": "KJmI9D56Rq9o",
    "outputId": "c9968161-a410-4dbe-f502-e9765c1902d6"
   },
   "execution_count": 80,
   "outputs": [
    {
     "data": {
      "text/plain": "                  Close        SMA50      SMA200\nDate                                            \n2018-12-21  2416.620117  2692.420195  2753.65980\n2018-12-24  2351.100098  2684.874795  2751.48245\n2018-12-26  2467.699951  2678.886196  2749.90585\n2018-12-27  2488.830078  2673.646997  2748.52345\n2018-12-28  2485.739990  2667.163398  2747.20475",
      "text/html": "<div>\n<style scoped>\n    .dataframe tbody tr th:only-of-type {\n        vertical-align: middle;\n    }\n\n    .dataframe tbody tr th {\n        vertical-align: top;\n    }\n\n    .dataframe thead th {\n        text-align: right;\n    }\n</style>\n<table border=\"1\" class=\"dataframe\">\n  <thead>\n    <tr style=\"text-align: right;\">\n      <th></th>\n      <th>Close</th>\n      <th>SMA50</th>\n      <th>SMA200</th>\n    </tr>\n    <tr>\n      <th>Date</th>\n      <th></th>\n      <th></th>\n      <th></th>\n    </tr>\n  </thead>\n  <tbody>\n    <tr>\n      <th>2018-12-21</th>\n      <td>2416.620117</td>\n      <td>2692.420195</td>\n      <td>2753.65980</td>\n    </tr>\n    <tr>\n      <th>2018-12-24</th>\n      <td>2351.100098</td>\n      <td>2684.874795</td>\n      <td>2751.48245</td>\n    </tr>\n    <tr>\n      <th>2018-12-26</th>\n      <td>2467.699951</td>\n      <td>2678.886196</td>\n      <td>2749.90585</td>\n    </tr>\n    <tr>\n      <th>2018-12-27</th>\n      <td>2488.830078</td>\n      <td>2673.646997</td>\n      <td>2748.52345</td>\n    </tr>\n    <tr>\n      <th>2018-12-28</th>\n      <td>2485.739990</td>\n      <td>2667.163398</td>\n      <td>2747.20475</td>\n    </tr>\n  </tbody>\n</table>\n</div>"
     },
     "execution_count": 80,
     "metadata": {},
     "output_type": "execute_result"
    }
   ]
  },
  {
   "cell_type": "code",
   "source": [
    "SP500.info()"
   ],
   "metadata": {
    "colab": {
     "base_uri": "https://localhost:8080/"
    },
    "id": "iQNcE8o6RrAH",
    "outputId": "c4a1fc57-6a78-4ff1-b52f-f49c2e699577"
   },
   "execution_count": 81,
   "outputs": [
    {
     "name": "stdout",
     "output_type": "stream",
     "text": [
      "<class 'pandas.core.frame.DataFrame'>\n",
      "DatetimeIndex: 2516 entries, 2008-12-31 to 2018-12-28\n",
      "Data columns (total 3 columns):\n",
      " #   Column  Non-Null Count  Dtype  \n",
      "---  ------  --------------  -----  \n",
      " 0   Close   2516 non-null   float64\n",
      " 1   SMA50   2467 non-null   float64\n",
      " 2   SMA200  2317 non-null   float64\n",
      "dtypes: float64(3)\n",
      "memory usage: 78.6 KB\n"
     ]
    }
   ]
  },
  {
   "cell_type": "code",
   "source": [
    "SP500.plot(figsize=(12, 8), fontsize=15)\n",
    "plt.legend(loc=\"upper left\", fontsize=15)\n",
    "plt.show()"
   ],
   "metadata": {
    "colab": {
     "base_uri": "https://localhost:8080/",
     "height": 473
    },
    "id": "xh3Pb8QCRrCv",
    "outputId": "fa9a45c7-9bf6-4d6b-a776-3b686a970966"
   },
   "execution_count": 82,
   "outputs": [
    {
     "data": {
      "text/plain": "<Figure size 864x576 with 1 Axes>",
      "image/png": "[encoded data removed]"
     },
     "metadata": {},
     "output_type": "display_data"
    }
   ]
  },
  {
   "cell_type": "code",
   "source": [
    "SP500.iloc[:, -2:].plot(figsize=(15,10), fontsize=15)\n",
    "plt.legend(fontsize=15)\n",
    "plt.show()"
   ],
   "metadata": {
    "colab": {
     "base_uri": "https://localhost:8080/",
     "height": 570
    },
    "id": "rxKWga0wRrFH",
    "outputId": "b08400da-4e50-424b-8e8a-3ce1dc817c5d"
   },
   "execution_count": 83,
   "outputs": [
    {
     "data": {
      "text/plain": "<Figure size 1080x720 with 1 Axes>",
      "image/png": "[encoded data removed]"
     },
     "metadata": {},
     "output_type": "display_data"
    }
   ]
  },
  {
   "cell_type": "markdown",
   "source": [
    "#141 지수 가중 이동 평균(EWMA)"
   ],
   "metadata": {
    "id": "xvVdZRSu9ZMP"
   }
  },
  {
   "cell_type": "code",
   "source": [
    "import pandas as pd\n",
    "import matplotlib.pyplot as plt\n",
    "plt.style.use(\"seaborn\")"
   ],
   "metadata": {
    "id": "9S4TRelOWqAk"
   },
   "execution_count": 84,
   "outputs": []
  },
  {
   "cell_type": "code",
   "source": [
    "SP500 = pd.read_csv(\"../temp/SP500.csv\", parse_dates=[\"Date\"], index_col=\"Date\", usecols=[\"Date\",\"Close\"])"
   ],
   "metadata": {
    "id": "tYLz-5zXWqQ0"
   },
   "execution_count": 86,
   "outputs": []
  },
  {
   "cell_type": "code",
   "source": [
    "SP500.head()"
   ],
   "metadata": {
    "colab": {
     "base_uri": "https://localhost:8080/",
     "height": 238
    },
    "id": "S7pB8xMJWqTk",
    "outputId": "46397eb0-ee06-4ccf-ec4f-263de0262fa6"
   },
   "execution_count": 87,
   "outputs": [
    {
     "data": {
      "text/plain": "                Close\nDate                 \n1970-12-31  92.150002\n1971-01-04  91.150002\n1971-01-05  91.800003\n1971-01-06  92.349998\n1971-01-07  92.379997",
      "text/html": "<div>\n<style scoped>\n    .dataframe tbody tr th:only-of-type {\n        vertical-align: middle;\n    }\n\n    .dataframe tbody tr th {\n        vertical-align: top;\n    }\n\n    .dataframe thead th {\n        text-align: right;\n    }\n</style>\n<table border=\"1\" class=\"dataframe\">\n  <thead>\n    <tr style=\"text-align: right;\">\n      <th></th>\n      <th>Close</th>\n    </tr>\n    <tr>\n      <th>Date</th>\n      <th></th>\n    </tr>\n  </thead>\n  <tbody>\n    <tr>\n      <th>1970-12-31</th>\n      <td>92.150002</td>\n    </tr>\n    <tr>\n      <th>1971-01-04</th>\n      <td>91.150002</td>\n    </tr>\n    <tr>\n      <th>1971-01-05</th>\n      <td>91.800003</td>\n    </tr>\n    <tr>\n      <th>1971-01-06</th>\n      <td>92.349998</td>\n    </tr>\n    <tr>\n      <th>1971-01-07</th>\n      <td>92.379997</td>\n    </tr>\n  </tbody>\n</table>\n</div>"
     },
     "execution_count": 87,
     "metadata": {},
     "output_type": "execute_result"
    }
   ]
  },
  {
   "cell_type": "code",
   "source": [
    "SP500 = SP500.loc[\"2008-12-31\":\"2018-12-31\"].copy()"
   ],
   "metadata": {
    "id": "dnqubf2hWqV9"
   },
   "execution_count": 88,
   "outputs": []
  },
  {
   "cell_type": "code",
   "source": [
    "SP500.Close.rolling(window=10).mean()"
   ],
   "metadata": {
    "colab": {
     "base_uri": "https://localhost:8080/"
    },
    "id": "4H7pcUuSWqYc",
    "outputId": "ad4a5e41-739a-4d06-9adc-fa6ce1d0ea26"
   },
   "execution_count": 89,
   "outputs": [
    {
     "data": {
      "text/plain": "Date\n2008-12-31            NaN\n2009-01-02            NaN\n2009-01-05            NaN\n2009-01-06            NaN\n2009-01-07            NaN\n                 ...     \n2018-12-21    2565.915991\n2018-12-24    2537.254004\n2018-12-26    2520.345996\n2018-12-27    2504.121997\n2018-12-28    2487.641992\nName: Close, Length: 2516, dtype: float64"
     },
     "execution_count": 89,
     "metadata": {},
     "output_type": "execute_result"
    }
   ]
  },
  {
   "cell_type": "code",
   "source": [
    "SP500.Close.ewm(span=10, min_periods=10).mean()"
   ],
   "metadata": {
    "colab": {
     "base_uri": "https://localhost:8080/"
    },
    "id": "IoGbQtT8Wqa8",
    "outputId": "efebc2f2-d49d-4935-d567-b2f83e032761"
   },
   "execution_count": 90,
   "outputs": [
    {
     "data": {
      "text/plain": "Date\n2008-12-31            NaN\n2009-01-02            NaN\n2009-01-05            NaN\n2009-01-06            NaN\n2009-01-07            NaN\n                 ...     \n2018-12-21    2547.124619\n2018-12-24    2511.483797\n2018-12-26    2503.523098\n2018-12-27    2500.851640\n2018-12-28    2498.104067\nName: Close, Length: 2516, dtype: float64"
     },
     "execution_count": 90,
     "metadata": {},
     "output_type": "execute_result"
    }
   ]
  },
  {
   "cell_type": "code",
   "source": [
    "SP500[\"SMA\"] = SP500.Close.rolling(window=100).mean()\n",
    "SP500[\"EMA\"] = SP500.Close.ewm(span=100, min_periods=100).mean()"
   ],
   "metadata": {
    "id": "y2Jj7AZfWqdp"
   },
   "execution_count": 91,
   "outputs": []
  },
  {
   "cell_type": "code",
   "source": [
    "SP500"
   ],
   "metadata": {
    "colab": {
     "base_uri": "https://localhost:8080/",
     "height": 455
    },
    "id": "yMbHE9obXW1c",
    "outputId": "9db35718-914a-4d3c-f94a-ecc8103eb853"
   },
   "execution_count": 92,
   "outputs": [
    {
     "data": {
      "text/plain": "                  Close          SMA          EMA\nDate                                             \n2008-12-31   903.250000          NaN          NaN\n2009-01-02   931.799988          NaN          NaN\n2009-01-05   927.450012          NaN          NaN\n2009-01-06   934.700012          NaN          NaN\n2009-01-07   906.650024          NaN          NaN\n...                 ...          ...          ...\n2018-12-21  2416.620117  2785.905496  2732.088580\n2018-12-24  2351.100098  2781.282896  2724.544253\n2018-12-26  2467.699951  2777.687695  2719.458228\n2018-12-27  2488.830078  2774.172495  2714.891334\n2018-12-28  2485.739990  2770.525896  2710.353683\n\n[2516 rows x 3 columns]",
      "text/html": "<div>\n<style scoped>\n    .dataframe tbody tr th:only-of-type {\n        vertical-align: middle;\n    }\n\n    .dataframe tbody tr th {\n        vertical-align: top;\n    }\n\n    .dataframe thead th {\n        text-align: right;\n    }\n</style>\n<table border=\"1\" class=\"dataframe\">\n  <thead>\n    <tr style=\"text-align: right;\">\n      <th></th>\n      <th>Close</th>\n      <th>SMA</th>\n      <th>EMA</th>\n    </tr>\n    <tr>\n      <th>Date</th>\n      <th></th>\n      <th></th>\n      <th></th>\n    </tr>\n  </thead>\n  <tbody>\n    <tr>\n      <th>2008-12-31</th>\n      <td>903.250000</td>\n      <td>NaN</td>\n      <td>NaN</td>\n    </tr>\n    <tr>\n      <th>2009-01-02</th>\n      <td>931.799988</td>\n      <td>NaN</td>\n      <td>NaN</td>\n    </tr>\n    <tr>\n      <th>2009-01-05</th>\n      <td>927.450012</td>\n      <td>NaN</td>\n      <td>NaN</td>\n    </tr>\n    <tr>\n      <th>2009-01-06</th>\n      <td>934.700012</td>\n      <td>NaN</td>\n      <td>NaN</td>\n    </tr>\n    <tr>\n      <th>2009-01-07</th>\n      <td>906.650024</td>\n      <td>NaN</td>\n      <td>NaN</td>\n    </tr>\n    <tr>\n      <th>...</th>\n      <td>...</td>\n      <td>...</td>\n      <td>...</td>\n    </tr>\n    <tr>\n      <th>2018-12-21</th>\n      <td>2416.620117</td>\n      <td>2785.905496</td>\n      <td>2732.088580</td>\n    </tr>\n    <tr>\n      <th>2018-12-24</th>\n      <td>2351.100098</td>\n      <td>2781.282896</td>\n      <td>2724.544253</td>\n    </tr>\n    <tr>\n      <th>2018-12-26</th>\n      <td>2467.699951</td>\n      <td>2777.687695</td>\n      <td>2719.458228</td>\n    </tr>\n    <tr>\n      <th>2018-12-27</th>\n      <td>2488.830078</td>\n      <td>2774.172495</td>\n      <td>2714.891334</td>\n    </tr>\n    <tr>\n      <th>2018-12-28</th>\n      <td>2485.739990</td>\n      <td>2770.525896</td>\n      <td>2710.353683</td>\n    </tr>\n  </tbody>\n</table>\n<p>2516 rows × 3 columns</p>\n</div>"
     },
     "execution_count": 92,
     "metadata": {},
     "output_type": "execute_result"
    }
   ]
  },
  {
   "cell_type": "code",
   "source": [
    "SP500.iloc[:, -2:].plot(figsize=(15,10), fontsize=15)\n",
    "plt.legend(fontsize=15)\n",
    "plt.show()"
   ],
   "metadata": {
    "colab": {
     "base_uri": "https://localhost:8080/",
     "height": 570
    },
    "id": "LBs87H3YWqf0",
    "outputId": "03eee6b4-8294-4a35-8280-0f82021ec6e6"
   },
   "execution_count": 93,
   "outputs": [
    {
     "data": {
      "text/plain": "<Figure size 1080x720 with 1 Axes>",
      "image/png": "[encoded data removed]"
     },
     "metadata": {},
     "output_type": "display_data"
    }
   ]
  },
  {
   "cell_type": "markdown",
   "source": [
    "#142 금융 시계열 정렬 및 병합하기(실습)"
   ],
   "metadata": {
    "id": "s4Qr9nb_9dns"
   }
  },
  {
   "cell_type": "code",
   "source": [
    "import pandas as pd"
   ],
   "metadata": {
    "id": "8-77eKeGuG3z"
   },
   "execution_count": 94,
   "outputs": []
  },
  {
   "cell_type": "code",
   "source": [
    "stocks = pd.read_csv(\"../data/stocks.csv\", header=[0,1], index_col=[0], parse_dates=[0]).Close"
   ],
   "metadata": {
    "id": "Ms4tWSM1uN1M"
   },
   "execution_count": 96,
   "outputs": []
  },
  {
   "cell_type": "code",
   "source": [
    "stocks.head()"
   ],
   "metadata": {
    "colab": {
     "base_uri": "https://localhost:8080/",
     "height": 237
    },
    "id": "ebmg1EVMuN3t",
    "outputId": "7db9b759-cd45-4a11-c531-36998bc67989"
   },
   "execution_count": 97,
   "outputs": [
    {
     "data": {
      "text/plain": "Symbols          MSFT         GE      AAPL\nDate                                      \n2010-01-04  30.950001  14.855769  7.643214\n2010-01-05  30.959999  14.932692  7.656429\n2010-01-06  30.770000  14.855769  7.534643\n2010-01-07  30.450001  15.625000  7.520714\n2010-01-08  30.660000  15.961538  7.570714",
      "text/html": "<div>\n<style scoped>\n    .dataframe tbody tr th:only-of-type {\n        vertical-align: middle;\n    }\n\n    .dataframe tbody tr th {\n        vertical-align: top;\n    }\n\n    .dataframe thead th {\n        text-align: right;\n    }\n</style>\n<table border=\"1\" class=\"dataframe\">\n  <thead>\n    <tr style=\"text-align: right;\">\n      <th>Symbols</th>\n      <th>MSFT</th>\n      <th>GE</th>\n      <th>AAPL</th>\n    </tr>\n    <tr>\n      <th>Date</th>\n      <th></th>\n      <th></th>\n      <th></th>\n    </tr>\n  </thead>\n  <tbody>\n    <tr>\n      <th>2010-01-04</th>\n      <td>30.950001</td>\n      <td>14.855769</td>\n      <td>7.643214</td>\n    </tr>\n    <tr>\n      <th>2010-01-05</th>\n      <td>30.959999</td>\n      <td>14.932692</td>\n      <td>7.656429</td>\n    </tr>\n    <tr>\n      <th>2010-01-06</th>\n      <td>30.770000</td>\n      <td>14.855769</td>\n      <td>7.534643</td>\n    </tr>\n    <tr>\n      <th>2010-01-07</th>\n      <td>30.450001</td>\n      <td>15.625000</td>\n      <td>7.520714</td>\n    </tr>\n    <tr>\n      <th>2010-01-08</th>\n      <td>30.660000</td>\n      <td>15.961538</td>\n      <td>7.570714</td>\n    </tr>\n  </tbody>\n</table>\n</div>"
     },
     "execution_count": 97,
     "metadata": {},
     "output_type": "execute_result"
    }
   ]
  },
  {
   "cell_type": "code",
   "source": [
    "type(stocks.loc[\"2010-01-01\":\"2014-12-31\", \"AAPL\"])"
   ],
   "metadata": {
    "colab": {
     "base_uri": "https://localhost:8080/"
    },
    "id": "q89ZvKLTuN5x",
    "outputId": "9c07b620-8a39-494b-ee6d-9a795e7d4e0b"
   },
   "execution_count": 98,
   "outputs": [
    {
     "data": {
      "text/plain": "pandas.core.series.Series"
     },
     "execution_count": 98,
     "metadata": {},
     "output_type": "execute_result"
    }
   ]
  },
  {
   "cell_type": "code",
   "source": [
    "aapl = stocks.loc[\"2010-01-01\":\"2014-12-31\", \"AAPL\"].to_frame()\n",
    "aapl.head()"
   ],
   "metadata": {
    "colab": {
     "base_uri": "https://localhost:8080/",
     "height": 237
    },
    "id": "N0-HSKWSvLN6",
    "outputId": "5f874d71-a119-4e6f-ee53-0a301ec9ed74"
   },
   "execution_count": 99,
   "outputs": [
    {
     "data": {
      "text/plain": "                AAPL\nDate                \n2010-01-04  7.643214\n2010-01-05  7.656429\n2010-01-06  7.534643\n2010-01-07  7.520714\n2010-01-08  7.570714",
      "text/html": "<div>\n<style scoped>\n    .dataframe tbody tr th:only-of-type {\n        vertical-align: middle;\n    }\n\n    .dataframe tbody tr th {\n        vertical-align: top;\n    }\n\n    .dataframe thead th {\n        text-align: right;\n    }\n</style>\n<table border=\"1\" class=\"dataframe\">\n  <thead>\n    <tr style=\"text-align: right;\">\n      <th></th>\n      <th>AAPL</th>\n    </tr>\n    <tr>\n      <th>Date</th>\n      <th></th>\n    </tr>\n  </thead>\n  <tbody>\n    <tr>\n      <th>2010-01-04</th>\n      <td>7.643214</td>\n    </tr>\n    <tr>\n      <th>2010-01-05</th>\n      <td>7.656429</td>\n    </tr>\n    <tr>\n      <th>2010-01-06</th>\n      <td>7.534643</td>\n    </tr>\n    <tr>\n      <th>2010-01-07</th>\n      <td>7.520714</td>\n    </tr>\n    <tr>\n      <th>2010-01-08</th>\n      <td>7.570714</td>\n    </tr>\n  </tbody>\n</table>\n</div>"
     },
     "execution_count": 99,
     "metadata": {},
     "output_type": "execute_result"
    }
   ]
  },
  {
   "cell_type": "code",
   "source": [
    "ge = stocks.loc[\"2012-01-01\":\"2016-12-31\", \"GE\"].to_frame()\n",
    "ge.head()"
   ],
   "metadata": {
    "colab": {
     "base_uri": "https://localhost:8080/",
     "height": 237
    },
    "id": "56A2Oa7VuG6y",
    "outputId": "0c5eac97-c1f3-4e7c-90b7-a95be985da2c"
   },
   "execution_count": 100,
   "outputs": [
    {
     "data": {
      "text/plain": "                   GE\nDate                 \n2012-01-03  17.653847\n2012-01-04  17.846153\n2012-01-05  17.836538\n2012-01-06  17.932692\n2012-01-09  18.134615",
      "text/html": "<div>\n<style scoped>\n    .dataframe tbody tr th:only-of-type {\n        vertical-align: middle;\n    }\n\n    .dataframe tbody tr th {\n        vertical-align: top;\n    }\n\n    .dataframe thead th {\n        text-align: right;\n    }\n</style>\n<table border=\"1\" class=\"dataframe\">\n  <thead>\n    <tr style=\"text-align: right;\">\n      <th></th>\n      <th>GE</th>\n    </tr>\n    <tr>\n      <th>Date</th>\n      <th></th>\n    </tr>\n  </thead>\n  <tbody>\n    <tr>\n      <th>2012-01-03</th>\n      <td>17.653847</td>\n    </tr>\n    <tr>\n      <th>2012-01-04</th>\n      <td>17.846153</td>\n    </tr>\n    <tr>\n      <th>2012-01-05</th>\n      <td>17.836538</td>\n    </tr>\n    <tr>\n      <th>2012-01-06</th>\n      <td>17.932692</td>\n    </tr>\n    <tr>\n      <th>2012-01-09</th>\n      <td>18.134615</td>\n    </tr>\n  </tbody>\n</table>\n</div>"
     },
     "execution_count": 100,
     "metadata": {},
     "output_type": "execute_result"
    }
   ]
  },
  {
   "cell_type": "code",
   "source": [
    "aapl[\"GE\"] = ge.GE"
   ],
   "metadata": {
    "id": "wpp6_grIuG_R"
   },
   "execution_count": 101,
   "outputs": []
  },
  {
   "cell_type": "code",
   "source": [
    "aapl.head()"
   ],
   "metadata": {
    "colab": {
     "base_uri": "https://localhost:8080/",
     "height": 237
    },
    "id": "6T1QCrmDuHC1",
    "outputId": "dd4c03e1-8b14-4b96-b521-5c7843b70298"
   },
   "execution_count": 102,
   "outputs": [
    {
     "data": {
      "text/plain": "                AAPL  GE\nDate                    \n2010-01-04  7.643214 NaN\n2010-01-05  7.656429 NaN\n2010-01-06  7.534643 NaN\n2010-01-07  7.520714 NaN\n2010-01-08  7.570714 NaN",
      "text/html": "<div>\n<style scoped>\n    .dataframe tbody tr th:only-of-type {\n        vertical-align: middle;\n    }\n\n    .dataframe tbody tr th {\n        vertical-align: top;\n    }\n\n    .dataframe thead th {\n        text-align: right;\n    }\n</style>\n<table border=\"1\" class=\"dataframe\">\n  <thead>\n    <tr style=\"text-align: right;\">\n      <th></th>\n      <th>AAPL</th>\n      <th>GE</th>\n    </tr>\n    <tr>\n      <th>Date</th>\n      <th></th>\n      <th></th>\n    </tr>\n  </thead>\n  <tbody>\n    <tr>\n      <th>2010-01-04</th>\n      <td>7.643214</td>\n      <td>NaN</td>\n    </tr>\n    <tr>\n      <th>2010-01-05</th>\n      <td>7.656429</td>\n      <td>NaN</td>\n    </tr>\n    <tr>\n      <th>2010-01-06</th>\n      <td>7.534643</td>\n      <td>NaN</td>\n    </tr>\n    <tr>\n      <th>2010-01-07</th>\n      <td>7.520714</td>\n      <td>NaN</td>\n    </tr>\n    <tr>\n      <th>2010-01-08</th>\n      <td>7.570714</td>\n      <td>NaN</td>\n    </tr>\n  </tbody>\n</table>\n</div>"
     },
     "execution_count": 102,
     "metadata": {},
     "output_type": "execute_result"
    }
   ]
  },
  {
   "cell_type": "code",
   "source": [
    "aapl.tail()"
   ],
   "metadata": {
    "colab": {
     "base_uri": "https://localhost:8080/",
     "height": 237
    },
    "id": "TFNVrM-TvyuG",
    "outputId": "40f574f3-e171-4fc3-9815-859f3c4d37a7"
   },
   "execution_count": 103,
   "outputs": [
    {
     "data": {
      "text/plain": "                 AAPL         GE\nDate                            \n2014-12-24  28.002501  24.836538\n2014-12-26  28.497499  24.788462\n2014-12-29  28.477501  24.711538\n2014-12-30  28.129999  24.586538\n2014-12-31  27.594999  24.298077",
      "text/html": "<div>\n<style scoped>\n    .dataframe tbody tr th:only-of-type {\n        vertical-align: middle;\n    }\n\n    .dataframe tbody tr th {\n        vertical-align: top;\n    }\n\n    .dataframe thead th {\n        text-align: right;\n    }\n</style>\n<table border=\"1\" class=\"dataframe\">\n  <thead>\n    <tr style=\"text-align: right;\">\n      <th></th>\n      <th>AAPL</th>\n      <th>GE</th>\n    </tr>\n    <tr>\n      <th>Date</th>\n      <th></th>\n      <th></th>\n    </tr>\n  </thead>\n  <tbody>\n    <tr>\n      <th>2014-12-24</th>\n      <td>28.002501</td>\n      <td>24.836538</td>\n    </tr>\n    <tr>\n      <th>2014-12-26</th>\n      <td>28.497499</td>\n      <td>24.788462</td>\n    </tr>\n    <tr>\n      <th>2014-12-29</th>\n      <td>28.477501</td>\n      <td>24.711538</td>\n    </tr>\n    <tr>\n      <th>2014-12-30</th>\n      <td>28.129999</td>\n      <td>24.586538</td>\n    </tr>\n    <tr>\n      <th>2014-12-31</th>\n      <td>27.594999</td>\n      <td>24.298077</td>\n    </tr>\n  </tbody>\n</table>\n</div>"
     },
     "execution_count": 103,
     "metadata": {},
     "output_type": "execute_result"
    }
   ]
  },
  {
   "cell_type": "code",
   "source": [
    "aapl.dropna()"
   ],
   "metadata": {
    "colab": {
     "base_uri": "https://localhost:8080/",
     "height": 455
    },
    "id": "1VqEwLSPvywy",
    "outputId": "37f33a20-70b2-424b-b6c4-edb3b8c60f0b"
   },
   "execution_count": 104,
   "outputs": [
    {
     "data": {
      "text/plain": "                 AAPL         GE\nDate                            \n2012-01-03  14.686786  17.653847\n2012-01-04  14.765714  17.846153\n2012-01-05  14.929643  17.836538\n2012-01-06  15.085714  17.932692\n2012-01-09  15.061786  18.134615\n...               ...        ...\n2014-12-24  28.002501  24.836538\n2014-12-26  28.497499  24.788462\n2014-12-29  28.477501  24.711538\n2014-12-30  28.129999  24.586538\n2014-12-31  27.594999  24.298077\n\n[754 rows x 2 columns]",
      "text/html": "<div>\n<style scoped>\n    .dataframe tbody tr th:only-of-type {\n        vertical-align: middle;\n    }\n\n    .dataframe tbody tr th {\n        vertical-align: top;\n    }\n\n    .dataframe thead th {\n        text-align: right;\n    }\n</style>\n<table border=\"1\" class=\"dataframe\">\n  <thead>\n    <tr style=\"text-align: right;\">\n      <th></th>\n      <th>AAPL</th>\n      <th>GE</th>\n    </tr>\n    <tr>\n      <th>Date</th>\n      <th></th>\n      <th></th>\n    </tr>\n  </thead>\n  <tbody>\n    <tr>\n      <th>2012-01-03</th>\n      <td>14.686786</td>\n      <td>17.653847</td>\n    </tr>\n    <tr>\n      <th>2012-01-04</th>\n      <td>14.765714</td>\n      <td>17.846153</td>\n    </tr>\n    <tr>\n      <th>2012-01-05</th>\n      <td>14.929643</td>\n      <td>17.836538</td>\n    </tr>\n    <tr>\n      <th>2012-01-06</th>\n      <td>15.085714</td>\n      <td>17.932692</td>\n    </tr>\n    <tr>\n      <th>2012-01-09</th>\n      <td>15.061786</td>\n      <td>18.134615</td>\n    </tr>\n    <tr>\n      <th>...</th>\n      <td>...</td>\n      <td>...</td>\n    </tr>\n    <tr>\n      <th>2014-12-24</th>\n      <td>28.002501</td>\n      <td>24.836538</td>\n    </tr>\n    <tr>\n      <th>2014-12-26</th>\n      <td>28.497499</td>\n      <td>24.788462</td>\n    </tr>\n    <tr>\n      <th>2014-12-29</th>\n      <td>28.477501</td>\n      <td>24.711538</td>\n    </tr>\n    <tr>\n      <th>2014-12-30</th>\n      <td>28.129999</td>\n      <td>24.586538</td>\n    </tr>\n    <tr>\n      <th>2014-12-31</th>\n      <td>27.594999</td>\n      <td>24.298077</td>\n    </tr>\n  </tbody>\n</table>\n<p>754 rows × 2 columns</p>\n</div>"
     },
     "execution_count": 104,
     "metadata": {},
     "output_type": "execute_result"
    }
   ]
  },
  {
   "cell_type": "code",
   "source": [
    "ge.reindex(aapl.index).dropna()"
   ],
   "metadata": {
    "colab": {
     "base_uri": "https://localhost:8080/",
     "height": 455
    },
    "id": "AAF4mRd6vyzg",
    "outputId": "df92f4d9-5178-478c-f493-f17517c8c8fc"
   },
   "execution_count": 105,
   "outputs": [
    {
     "data": {
      "text/plain": "                   GE\nDate                 \n2012-01-03  17.653847\n2012-01-04  17.846153\n2012-01-05  17.836538\n2012-01-06  17.932692\n2012-01-09  18.134615\n...               ...\n2014-12-24  24.836538\n2014-12-26  24.788462\n2014-12-29  24.711538\n2014-12-30  24.586538\n2014-12-31  24.298077\n\n[754 rows x 1 columns]",
      "text/html": "<div>\n<style scoped>\n    .dataframe tbody tr th:only-of-type {\n        vertical-align: middle;\n    }\n\n    .dataframe tbody tr th {\n        vertical-align: top;\n    }\n\n    .dataframe thead th {\n        text-align: right;\n    }\n</style>\n<table border=\"1\" class=\"dataframe\">\n  <thead>\n    <tr style=\"text-align: right;\">\n      <th></th>\n      <th>GE</th>\n    </tr>\n    <tr>\n      <th>Date</th>\n      <th></th>\n    </tr>\n  </thead>\n  <tbody>\n    <tr>\n      <th>2012-01-03</th>\n      <td>17.653847</td>\n    </tr>\n    <tr>\n      <th>2012-01-04</th>\n      <td>17.846153</td>\n    </tr>\n    <tr>\n      <th>2012-01-05</th>\n      <td>17.836538</td>\n    </tr>\n    <tr>\n      <th>2012-01-06</th>\n      <td>17.932692</td>\n    </tr>\n    <tr>\n      <th>2012-01-09</th>\n      <td>18.134615</td>\n    </tr>\n    <tr>\n      <th>...</th>\n      <td>...</td>\n    </tr>\n    <tr>\n      <th>2014-12-24</th>\n      <td>24.836538</td>\n    </tr>\n    <tr>\n      <th>2014-12-26</th>\n      <td>24.788462</td>\n    </tr>\n    <tr>\n      <th>2014-12-29</th>\n      <td>24.711538</td>\n    </tr>\n    <tr>\n      <th>2014-12-30</th>\n      <td>24.586538</td>\n    </tr>\n    <tr>\n      <th>2014-12-31</th>\n      <td>24.298077</td>\n    </tr>\n  </tbody>\n</table>\n<p>754 rows × 1 columns</p>\n</div>"
     },
     "execution_count": 105,
     "metadata": {},
     "output_type": "execute_result"
    }
   ]
  },
  {
   "cell_type": "code",
   "source": [
    "# 날짜가 적은 시계열에 맞추는게 일반적 \n",
    "msft = stocks.loc[\"2010-01-01\":\"2016-12-31\", \"MSFT\"].resample(\"W-Fri\").last().to_frame()\n",
    "msft.head()"
   ],
   "metadata": {
    "colab": {
     "base_uri": "https://localhost:8080/",
     "height": 237
    },
    "id": "iUDVFM4Wvy2J",
    "outputId": "acc2c26f-49cf-4097-cfe6-89ec101f50e3"
   },
   "execution_count": 106,
   "outputs": [
    {
     "data": {
      "text/plain": "                 MSFT\nDate                 \n2010-01-08  30.660000\n2010-01-15  30.860001\n2010-01-22  28.959999\n2010-01-29  28.180000\n2010-02-05  28.020000",
      "text/html": "<div>\n<style scoped>\n    .dataframe tbody tr th:only-of-type {\n        vertical-align: middle;\n    }\n\n    .dataframe tbody tr th {\n        vertical-align: top;\n    }\n\n    .dataframe thead th {\n        text-align: right;\n    }\n</style>\n<table border=\"1\" class=\"dataframe\">\n  <thead>\n    <tr style=\"text-align: right;\">\n      <th></th>\n      <th>MSFT</th>\n    </tr>\n    <tr>\n      <th>Date</th>\n      <th></th>\n    </tr>\n  </thead>\n  <tbody>\n    <tr>\n      <th>2010-01-08</th>\n      <td>30.660000</td>\n    </tr>\n    <tr>\n      <th>2010-01-15</th>\n      <td>30.860001</td>\n    </tr>\n    <tr>\n      <th>2010-01-22</th>\n      <td>28.959999</td>\n    </tr>\n    <tr>\n      <th>2010-01-29</th>\n      <td>28.180000</td>\n    </tr>\n    <tr>\n      <th>2010-02-05</th>\n      <td>28.020000</td>\n    </tr>\n  </tbody>\n</table>\n</div>"
     },
     "execution_count": 106,
     "metadata": {},
     "output_type": "execute_result"
    }
   ]
  },
  {
   "cell_type": "code",
   "source": [
    "aapl[\"MSFT\"] = msft.MSFT"
   ],
   "metadata": {
    "id": "dHXDRM8vwazz"
   },
   "execution_count": 107,
   "outputs": []
  },
  {
   "cell_type": "code",
   "source": [
    "aapl.head(10)"
   ],
   "metadata": {
    "colab": {
     "base_uri": "https://localhost:8080/",
     "height": 394
    },
    "id": "o2vGfhOdwdGI",
    "outputId": "4d70a2a2-8310-4855-926b-3688f005c482"
   },
   "execution_count": 108,
   "outputs": [
    {
     "data": {
      "text/plain": "                AAPL  GE       MSFT\nDate                               \n2010-01-04  7.643214 NaN        NaN\n2010-01-05  7.656429 NaN        NaN\n2010-01-06  7.534643 NaN        NaN\n2010-01-07  7.520714 NaN        NaN\n2010-01-08  7.570714 NaN  30.660000\n2010-01-11  7.503929 NaN        NaN\n2010-01-12  7.418571 NaN        NaN\n2010-01-13  7.523214 NaN        NaN\n2010-01-14  7.479643 NaN        NaN\n2010-01-15  7.354643 NaN  30.860001",
      "text/html": "<div>\n<style scoped>\n    .dataframe tbody tr th:only-of-type {\n        vertical-align: middle;\n    }\n\n    .dataframe tbody tr th {\n        vertical-align: top;\n    }\n\n    .dataframe thead th {\n        text-align: right;\n    }\n</style>\n<table border=\"1\" class=\"dataframe\">\n  <thead>\n    <tr style=\"text-align: right;\">\n      <th></th>\n      <th>AAPL</th>\n      <th>GE</th>\n      <th>MSFT</th>\n    </tr>\n    <tr>\n      <th>Date</th>\n      <th></th>\n      <th></th>\n      <th></th>\n    </tr>\n  </thead>\n  <tbody>\n    <tr>\n      <th>2010-01-04</th>\n      <td>7.643214</td>\n      <td>NaN</td>\n      <td>NaN</td>\n    </tr>\n    <tr>\n      <th>2010-01-05</th>\n      <td>7.656429</td>\n      <td>NaN</td>\n      <td>NaN</td>\n    </tr>\n    <tr>\n      <th>2010-01-06</th>\n      <td>7.534643</td>\n      <td>NaN</td>\n      <td>NaN</td>\n    </tr>\n    <tr>\n      <th>2010-01-07</th>\n      <td>7.520714</td>\n      <td>NaN</td>\n      <td>NaN</td>\n    </tr>\n    <tr>\n      <th>2010-01-08</th>\n      <td>7.570714</td>\n      <td>NaN</td>\n      <td>30.660000</td>\n    </tr>\n    <tr>\n      <th>2010-01-11</th>\n      <td>7.503929</td>\n      <td>NaN</td>\n      <td>NaN</td>\n    </tr>\n    <tr>\n      <th>2010-01-12</th>\n      <td>7.418571</td>\n      <td>NaN</td>\n      <td>NaN</td>\n    </tr>\n    <tr>\n      <th>2010-01-13</th>\n      <td>7.523214</td>\n      <td>NaN</td>\n      <td>NaN</td>\n    </tr>\n    <tr>\n      <th>2010-01-14</th>\n      <td>7.479643</td>\n      <td>NaN</td>\n      <td>NaN</td>\n    </tr>\n    <tr>\n      <th>2010-01-15</th>\n      <td>7.354643</td>\n      <td>NaN</td>\n      <td>30.860001</td>\n    </tr>\n  </tbody>\n</table>\n</div>"
     },
     "execution_count": 108,
     "metadata": {},
     "output_type": "execute_result"
    }
   ]
  },
  {
   "cell_type": "code",
   "source": [
    "msft[\"AAPL\"] = aapl.AAPL"
   ],
   "metadata": {
    "id": "8vKHnc5Gvy4l"
   },
   "execution_count": 109,
   "outputs": []
  },
  {
   "cell_type": "code",
   "source": [
    "msft.head(10)"
   ],
   "metadata": {
    "colab": {
     "base_uri": "https://localhost:8080/",
     "height": 394
    },
    "id": "2tjLE7WJvy6z",
    "outputId": "1bc11acd-2f79-419d-b763-0f512113ee1d"
   },
   "execution_count": 110,
   "outputs": [
    {
     "data": {
      "text/plain": "                 MSFT      AAPL\nDate                           \n2010-01-08  30.660000  7.570714\n2010-01-15  30.860001  7.354643\n2010-01-22  28.959999  7.062500\n2010-01-29  28.180000  6.859286\n2010-02-05  28.020000  6.980714\n2010-02-12  27.930000  7.156429\n2010-02-19  28.770000  7.202500\n2010-02-26  28.670000  7.307857\n2010-03-05  28.590000  7.819643\n2010-03-12  29.270000  8.092857",
      "text/html": "<div>\n<style scoped>\n    .dataframe tbody tr th:only-of-type {\n        vertical-align: middle;\n    }\n\n    .dataframe tbody tr th {\n        vertical-align: top;\n    }\n\n    .dataframe thead th {\n        text-align: right;\n    }\n</style>\n<table border=\"1\" class=\"dataframe\">\n  <thead>\n    <tr style=\"text-align: right;\">\n      <th></th>\n      <th>MSFT</th>\n      <th>AAPL</th>\n    </tr>\n    <tr>\n      <th>Date</th>\n      <th></th>\n      <th></th>\n    </tr>\n  </thead>\n  <tbody>\n    <tr>\n      <th>2010-01-08</th>\n      <td>30.660000</td>\n      <td>7.570714</td>\n    </tr>\n    <tr>\n      <th>2010-01-15</th>\n      <td>30.860001</td>\n      <td>7.354643</td>\n    </tr>\n    <tr>\n      <th>2010-01-22</th>\n      <td>28.959999</td>\n      <td>7.062500</td>\n    </tr>\n    <tr>\n      <th>2010-01-29</th>\n      <td>28.180000</td>\n      <td>6.859286</td>\n    </tr>\n    <tr>\n      <th>2010-02-05</th>\n      <td>28.020000</td>\n      <td>6.980714</td>\n    </tr>\n    <tr>\n      <th>2010-02-12</th>\n      <td>27.930000</td>\n      <td>7.156429</td>\n    </tr>\n    <tr>\n      <th>2010-02-19</th>\n      <td>28.770000</td>\n      <td>7.202500</td>\n    </tr>\n    <tr>\n      <th>2010-02-26</th>\n      <td>28.670000</td>\n      <td>7.307857</td>\n    </tr>\n    <tr>\n      <th>2010-03-05</th>\n      <td>28.590000</td>\n      <td>7.819643</td>\n    </tr>\n    <tr>\n      <th>2010-03-12</th>\n      <td>29.270000</td>\n      <td>8.092857</td>\n    </tr>\n  </tbody>\n</table>\n</div>"
     },
     "execution_count": 110,
     "metadata": {},
     "output_type": "execute_result"
    }
   ]
  },
  {
   "cell_type": "markdown",
   "source": [
    "#143 유용한 DatetimeIndex 속성 및 메서드"
   ],
   "metadata": {
    "id": "c5aXMFgp9iJF"
   }
  },
  {
   "cell_type": "code",
   "source": [
    "close = stocks.copy()"
   ],
   "metadata": {
    "id": "DjdUhkr8xw7l"
   },
   "execution_count": 111,
   "outputs": []
  },
  {
   "cell_type": "code",
   "source": [
    "close.head()"
   ],
   "metadata": {
    "colab": {
     "base_uri": "https://localhost:8080/",
     "height": 237
    },
    "id": "2jufUoSixw_L",
    "outputId": "eed6aeca-006f-47e5-e03a-acf74cbce0d6"
   },
   "execution_count": 112,
   "outputs": [
    {
     "data": {
      "text/plain": "Symbols          MSFT         GE      AAPL\nDate                                      \n2010-01-04  30.950001  14.855769  7.643214\n2010-01-05  30.959999  14.932692  7.656429\n2010-01-06  30.770000  14.855769  7.534643\n2010-01-07  30.450001  15.625000  7.520714\n2010-01-08  30.660000  15.961538  7.570714",
      "text/html": "<div>\n<style scoped>\n    .dataframe tbody tr th:only-of-type {\n        vertical-align: middle;\n    }\n\n    .dataframe tbody tr th {\n        vertical-align: top;\n    }\n\n    .dataframe thead th {\n        text-align: right;\n    }\n</style>\n<table border=\"1\" class=\"dataframe\">\n  <thead>\n    <tr style=\"text-align: right;\">\n      <th>Symbols</th>\n      <th>MSFT</th>\n      <th>GE</th>\n      <th>AAPL</th>\n    </tr>\n    <tr>\n      <th>Date</th>\n      <th></th>\n      <th></th>\n      <th></th>\n    </tr>\n  </thead>\n  <tbody>\n    <tr>\n      <th>2010-01-04</th>\n      <td>30.950001</td>\n      <td>14.855769</td>\n      <td>7.643214</td>\n    </tr>\n    <tr>\n      <th>2010-01-05</th>\n      <td>30.959999</td>\n      <td>14.932692</td>\n      <td>7.656429</td>\n    </tr>\n    <tr>\n      <th>2010-01-06</th>\n      <td>30.770000</td>\n      <td>14.855769</td>\n      <td>7.534643</td>\n    </tr>\n    <tr>\n      <th>2010-01-07</th>\n      <td>30.450001</td>\n      <td>15.625000</td>\n      <td>7.520714</td>\n    </tr>\n    <tr>\n      <th>2010-01-08</th>\n      <td>30.660000</td>\n      <td>15.961538</td>\n      <td>7.570714</td>\n    </tr>\n  </tbody>\n</table>\n</div>"
     },
     "execution_count": 112,
     "metadata": {},
     "output_type": "execute_result"
    }
   ]
  },
  {
   "cell_type": "code",
   "source": [
    "close.info()"
   ],
   "metadata": {
    "colab": {
     "base_uri": "https://localhost:8080/"
    },
    "id": "cSshPbQhxxCT",
    "outputId": "a65f490a-2626-4d32-a6ad-728e7f153a92"
   },
   "execution_count": 113,
   "outputs": [
    {
     "name": "stdout",
     "output_type": "stream",
     "text": [
      "<class 'pandas.core.frame.DataFrame'>\n",
      "DatetimeIndex: 2769 entries, 2010-01-04 to 2020-12-31\n",
      "Data columns (total 3 columns):\n",
      " #   Column  Non-Null Count  Dtype  \n",
      "---  ------  --------------  -----  \n",
      " 0   MSFT    2769 non-null   float64\n",
      " 1   GE      2769 non-null   float64\n",
      " 2   AAPL    2769 non-null   float64\n",
      "dtypes: float64(3)\n",
      "memory usage: 151.1 KB\n"
     ]
    }
   ]
  },
  {
   "cell_type": "code",
   "source": [
    "close.index"
   ],
   "metadata": {
    "colab": {
     "base_uri": "https://localhost:8080/"
    },
    "id": "fc23h2CsxxFh",
    "outputId": "62779c0d-c2e0-42db-c6d5-133e55c4ea52"
   },
   "execution_count": 114,
   "outputs": [
    {
     "data": {
      "text/plain": "DatetimeIndex(['2010-01-04', '2010-01-05', '2010-01-06', '2010-01-07',\n               '2010-01-08', '2010-01-11', '2010-01-12', '2010-01-13',\n               '2010-01-14', '2010-01-15',\n               ...\n               '2020-12-17', '2020-12-18', '2020-12-21', '2020-12-22',\n               '2020-12-23', '2020-12-24', '2020-12-28', '2020-12-29',\n               '2020-12-30', '2020-12-31'],\n              dtype='datetime64[ns]', name='Date', length=2769, freq=None)"
     },
     "execution_count": 114,
     "metadata": {},
     "output_type": "execute_result"
    }
   ]
  },
  {
   "cell_type": "code",
   "source": [
    "close.index.day"
   ],
   "metadata": {
    "colab": {
     "base_uri": "https://localhost:8080/"
    },
    "id": "Xd0zjO4wysUg",
    "outputId": "01f9e906-b774-49e6-fbd2-743e037e28c9"
   },
   "execution_count": 115,
   "outputs": [
    {
     "data": {
      "text/plain": "Int64Index([ 4,  5,  6,  7,  8, 11, 12, 13, 14, 15,\n            ...\n            17, 18, 21, 22, 23, 24, 28, 29, 30, 31],\n           dtype='int64', name='Date', length=2769)"
     },
     "execution_count": 115,
     "metadata": {},
     "output_type": "execute_result"
    }
   ]
  },
  {
   "cell_type": "code",
   "source": [
    "close.index.month"
   ],
   "metadata": {
    "colab": {
     "base_uri": "https://localhost:8080/"
    },
    "id": "M5mQW5NuysXV",
    "outputId": "e316724f-e34b-4680-e80c-da38abc81140"
   },
   "execution_count": 116,
   "outputs": [
    {
     "data": {
      "text/plain": "Int64Index([ 1,  1,  1,  1,  1,  1,  1,  1,  1,  1,\n            ...\n            12, 12, 12, 12, 12, 12, 12, 12, 12, 12],\n           dtype='int64', name='Date', length=2769)"
     },
     "execution_count": 116,
     "metadata": {},
     "output_type": "execute_result"
    }
   ]
  },
  {
   "cell_type": "code",
   "source": [
    "close.index.year"
   ],
   "metadata": {
    "colab": {
     "base_uri": "https://localhost:8080/"
    },
    "id": "MFbo_s3JysaD",
    "outputId": "9622c15c-7166-48fa-ca99-40ce55b88f22"
   },
   "execution_count": 117,
   "outputs": [
    {
     "data": {
      "text/plain": "Int64Index([2010, 2010, 2010, 2010, 2010, 2010, 2010, 2010, 2010, 2010,\n            ...\n            2020, 2020, 2020, 2020, 2020, 2020, 2020, 2020, 2020, 2020],\n           dtype='int64', name='Date', length=2769)"
     },
     "execution_count": 117,
     "metadata": {},
     "output_type": "execute_result"
    }
   ]
  },
  {
   "cell_type": "code",
   "source": [
    "close.index.day_name()"
   ],
   "metadata": {
    "colab": {
     "base_uri": "https://localhost:8080/"
    },
    "id": "e2SAoUzLysdC",
    "outputId": "f6a94134-c695-4abf-8388-f3ff5402652c"
   },
   "execution_count": 118,
   "outputs": [
    {
     "data": {
      "text/plain": "Index(['Monday', 'Tuesday', 'Wednesday', 'Thursday', 'Friday', 'Monday',\n       'Tuesday', 'Wednesday', 'Thursday', 'Friday',\n       ...\n       'Thursday', 'Friday', 'Monday', 'Tuesday', 'Wednesday', 'Thursday',\n       'Monday', 'Tuesday', 'Wednesday', 'Thursday'],\n      dtype='object', name='Date', length=2769)"
     },
     "execution_count": 118,
     "metadata": {},
     "output_type": "execute_result"
    }
   ]
  },
  {
   "cell_type": "code",
   "source": [
    "# close.index.weekday_name # not working"
   ],
   "metadata": {
    "colab": {
     "base_uri": "https://localhost:8080/",
     "height": 172
    },
    "id": "2YDk2jLTy0vT",
    "outputId": "3f6c8028-f706-43ef-e753-26627c005a6f"
   },
   "execution_count": 120,
   "outputs": []
  },
  {
   "cell_type": "code",
   "source": [
    "close.index.month_name()"
   ],
   "metadata": {
    "colab": {
     "base_uri": "https://localhost:8080/"
    },
    "id": "ABoqrj2by0x0",
    "outputId": "6764df88-73b7-4901-93a4-31d392baa321"
   },
   "execution_count": 121,
   "outputs": [
    {
     "data": {
      "text/plain": "Index(['January', 'January', 'January', 'January', 'January', 'January',\n       'January', 'January', 'January', 'January',\n       ...\n       'December', 'December', 'December', 'December', 'December', 'December',\n       'December', 'December', 'December', 'December'],\n      dtype='object', name='Date', length=2769)"
     },
     "execution_count": 121,
     "metadata": {},
     "output_type": "execute_result"
    }
   ]
  },
  {
   "cell_type": "code",
   "source": [
    "close.index.weekday"
   ],
   "metadata": {
    "colab": {
     "base_uri": "https://localhost:8080/"
    },
    "id": "ePMWJKEky00V",
    "outputId": "48b926ee-df3f-4bbf-a816-cf07fc052c2c"
   },
   "execution_count": 122,
   "outputs": [
    {
     "data": {
      "text/plain": "Int64Index([0, 1, 2, 3, 4, 0, 1, 2, 3, 4,\n            ...\n            3, 4, 0, 1, 2, 3, 0, 1, 2, 3],\n           dtype='int64', name='Date', length=2769)"
     },
     "execution_count": 122,
     "metadata": {},
     "output_type": "execute_result"
    }
   ]
  },
  {
   "cell_type": "code",
   "source": [
    "close. index.quarter"
   ],
   "metadata": {
    "colab": {
     "base_uri": "https://localhost:8080/"
    },
    "id": "XEDASbDyy024",
    "outputId": "6af0114b-440e-4bff-bec4-b154efb22438"
   },
   "execution_count": 123,
   "outputs": [
    {
     "data": {
      "text/plain": "Int64Index([1, 1, 1, 1, 1, 1, 1, 1, 1, 1,\n            ...\n            4, 4, 4, 4, 4, 4, 4, 4, 4, 4],\n           dtype='int64', name='Date', length=2769)"
     },
     "execution_count": 123,
     "metadata": {},
     "output_type": "execute_result"
    }
   ]
  },
  {
   "cell_type": "code",
   "source": [
    "close.index.days_in_month"
   ],
   "metadata": {
    "colab": {
     "base_uri": "https://localhost:8080/"
    },
    "id": "Ic-oizuyy05P",
    "outputId": "dc564bd5-ab44-45ec-f1c7-6fd5ff9e3085"
   },
   "execution_count": 124,
   "outputs": [
    {
     "data": {
      "text/plain": "Int64Index([31, 31, 31, 31, 31, 31, 31, 31, 31, 31,\n            ...\n            31, 31, 31, 31, 31, 31, 31, 31, 31, 31],\n           dtype='int64', name='Date', length=2769)"
     },
     "execution_count": 124,
     "metadata": {},
     "output_type": "execute_result"
    }
   ]
  },
  {
   "cell_type": "code",
   "source": [
    "close.index.isocalendar().week"
   ],
   "metadata": {
    "colab": {
     "base_uri": "https://localhost:8080/"
    },
    "id": "5fPcbyKjzqUp",
    "outputId": "c8ae0d6e-d024-4381-d489-275cd3ae0683"
   },
   "execution_count": 125,
   "outputs": [
    {
     "data": {
      "text/plain": "Date\n2010-01-04     1\n2010-01-05     1\n2010-01-06     1\n2010-01-07     1\n2010-01-08     1\n              ..\n2020-12-24    52\n2020-12-28    53\n2020-12-29    53\n2020-12-30    53\n2020-12-31    53\nName: week, Length: 2769, dtype: UInt32"
     },
     "execution_count": 125,
     "metadata": {},
     "output_type": "execute_result"
    }
   ]
  },
  {
   "cell_type": "code",
   "source": [
    "close.index.weekofyear"
   ],
   "metadata": {
    "colab": {
     "base_uri": "https://localhost:8080/"
    },
    "id": "56KTKjLEzqXv",
    "outputId": "092a8d1e-e018-4b6b-d85b-140f01536185"
   },
   "execution_count": 126,
   "outputs": [
    {
     "name": "stderr",
     "output_type": "stream",
     "text": [
      "C:\\Users\\dukim\\AppData\\Local\\Temp\\ipykernel_7136\\3635336598.py:1: FutureWarning: weekofyear and week have been deprecated, please use DatetimeIndex.isocalendar().week instead, which returns a Series. To exactly reproduce the behavior of week and weekofyear and return an Index, you may call pd.Int64Index(idx.isocalendar().week)\n",
      "  close.index.weekofyear\n"
     ]
    },
    {
     "data": {
      "text/plain": "Int64Index([ 1,  1,  1,  1,  1,  2,  2,  2,  2,  2,\n            ...\n            51, 51, 52, 52, 52, 52, 53, 53, 53, 53],\n           dtype='int64', name='Date', length=2769)"
     },
     "execution_count": 126,
     "metadata": {},
     "output_type": "execute_result"
    }
   ]
  },
  {
   "cell_type": "code",
   "source": [
    "close.index.is_month_end"
   ],
   "metadata": {
    "colab": {
     "base_uri": "https://localhost:8080/"
    },
    "id": "KszlEGEjzqa8",
    "outputId": "816c9461-14c9-4d20-a979-2deaebd4a5ea"
   },
   "execution_count": 127,
   "outputs": [
    {
     "data": {
      "text/plain": "array([False, False, False, ..., False, False,  True])"
     },
     "execution_count": 127,
     "metadata": {},
     "output_type": "execute_result"
    }
   ]
  },
  {
   "cell_type": "code",
   "source": [
    "close[\"Day\"] = stocks.index.day_name()\n",
    "close[\"Quarter\"] = stocks.index.quarter"
   ],
   "metadata": {
    "id": "CSOcdfRAzqdw"
   },
   "execution_count": 128,
   "outputs": []
  },
  {
   "cell_type": "code",
   "source": [
    "close.head()"
   ],
   "metadata": {
    "colab": {
     "base_uri": "https://localhost:8080/",
     "height": 237
    },
    "id": "EnCFbMDo0ASM",
    "outputId": "b351dafc-8073-493c-e4b0-8d97d125a270"
   },
   "execution_count": 129,
   "outputs": [
    {
     "data": {
      "text/plain": "Symbols          MSFT         GE      AAPL        Day  Quarter\nDate                                                          \n2010-01-04  30.950001  14.855769  7.643214     Monday        1\n2010-01-05  30.959999  14.932692  7.656429    Tuesday        1\n2010-01-06  30.770000  14.855769  7.534643  Wednesday        1\n2010-01-07  30.450001  15.625000  7.520714   Thursday        1\n2010-01-08  30.660000  15.961538  7.570714     Friday        1",
      "text/html": "<div>\n<style scoped>\n    .dataframe tbody tr th:only-of-type {\n        vertical-align: middle;\n    }\n\n    .dataframe tbody tr th {\n        vertical-align: top;\n    }\n\n    .dataframe thead th {\n        text-align: right;\n    }\n</style>\n<table border=\"1\" class=\"dataframe\">\n  <thead>\n    <tr style=\"text-align: right;\">\n      <th>Symbols</th>\n      <th>MSFT</th>\n      <th>GE</th>\n      <th>AAPL</th>\n      <th>Day</th>\n      <th>Quarter</th>\n    </tr>\n    <tr>\n      <th>Date</th>\n      <th></th>\n      <th></th>\n      <th></th>\n      <th></th>\n      <th></th>\n    </tr>\n  </thead>\n  <tbody>\n    <tr>\n      <th>2010-01-04</th>\n      <td>30.950001</td>\n      <td>14.855769</td>\n      <td>7.643214</td>\n      <td>Monday</td>\n      <td>1</td>\n    </tr>\n    <tr>\n      <th>2010-01-05</th>\n      <td>30.959999</td>\n      <td>14.932692</td>\n      <td>7.656429</td>\n      <td>Tuesday</td>\n      <td>1</td>\n    </tr>\n    <tr>\n      <th>2010-01-06</th>\n      <td>30.770000</td>\n      <td>14.855769</td>\n      <td>7.534643</td>\n      <td>Wednesday</td>\n      <td>1</td>\n    </tr>\n    <tr>\n      <th>2010-01-07</th>\n      <td>30.450001</td>\n      <td>15.625000</td>\n      <td>7.520714</td>\n      <td>Thursday</td>\n      <td>1</td>\n    </tr>\n    <tr>\n      <th>2010-01-08</th>\n      <td>30.660000</td>\n      <td>15.961538</td>\n      <td>7.570714</td>\n      <td>Friday</td>\n      <td>1</td>\n    </tr>\n  </tbody>\n</table>\n</div>"
     },
     "execution_count": 129,
     "metadata": {},
     "output_type": "execute_result"
    }
   ]
  },
  {
   "cell_type": "markdown",
   "source": [
    "#144 bfill, fill 및 보간법으로 NA값 채우기"
   ],
   "metadata": {
    "id": "0kZcKha19noF"
   }
  },
  {
   "cell_type": "code",
   "source": [
    "close.head()"
   ],
   "metadata": {
    "colab": {
     "base_uri": "https://localhost:8080/",
     "height": 206
    },
    "id": "nGriQ_IO0LFj",
    "outputId": "01922e78-012a-4077-9c42-6c1ef3762ce6"
   },
   "execution_count": 130,
   "outputs": [
    {
     "data": {
      "text/plain": "Symbols          MSFT         GE      AAPL        Day  Quarter\nDate                                                          \n2010-01-04  30.950001  14.855769  7.643214     Monday        1\n2010-01-05  30.959999  14.932692  7.656429    Tuesday        1\n2010-01-06  30.770000  14.855769  7.534643  Wednesday        1\n2010-01-07  30.450001  15.625000  7.520714   Thursday        1\n2010-01-08  30.660000  15.961538  7.570714     Friday        1",
      "text/html": "<div>\n<style scoped>\n    .dataframe tbody tr th:only-of-type {\n        vertical-align: middle;\n    }\n\n    .dataframe tbody tr th {\n        vertical-align: top;\n    }\n\n    .dataframe thead th {\n        text-align: right;\n    }\n</style>\n<table border=\"1\" class=\"dataframe\">\n  <thead>\n    <tr style=\"text-align: right;\">\n      <th>Symbols</th>\n      <th>MSFT</th>\n      <th>GE</th>\n      <th>AAPL</th>\n      <th>Day</th>\n      <th>Quarter</th>\n    </tr>\n    <tr>\n      <th>Date</th>\n      <th></th>\n      <th></th>\n      <th></th>\n      <th></th>\n      <th></th>\n    </tr>\n  </thead>\n  <tbody>\n    <tr>\n      <th>2010-01-04</th>\n      <td>30.950001</td>\n      <td>14.855769</td>\n      <td>7.643214</td>\n      <td>Monday</td>\n      <td>1</td>\n    </tr>\n    <tr>\n      <th>2010-01-05</th>\n      <td>30.959999</td>\n      <td>14.932692</td>\n      <td>7.656429</td>\n      <td>Tuesday</td>\n      <td>1</td>\n    </tr>\n    <tr>\n      <th>2010-01-06</th>\n      <td>30.770000</td>\n      <td>14.855769</td>\n      <td>7.534643</td>\n      <td>Wednesday</td>\n      <td>1</td>\n    </tr>\n    <tr>\n      <th>2010-01-07</th>\n      <td>30.450001</td>\n      <td>15.625000</td>\n      <td>7.520714</td>\n      <td>Thursday</td>\n      <td>1</td>\n    </tr>\n    <tr>\n      <th>2010-01-08</th>\n      <td>30.660000</td>\n      <td>15.961538</td>\n      <td>7.570714</td>\n      <td>Friday</td>\n      <td>1</td>\n    </tr>\n  </tbody>\n</table>\n</div>"
     },
     "execution_count": 130,
     "metadata": {},
     "output_type": "execute_result"
    }
   ]
  },
  {
   "cell_type": "code",
   "source": [
    "close.tail()"
   ],
   "metadata": {
    "colab": {
     "base_uri": "https://localhost:8080/",
     "height": 206
    },
    "id": "wRzorvkm0LIn",
    "outputId": "587fdac8-1ea4-43b1-c7e8-3568548a54ed"
   },
   "execution_count": 131,
   "outputs": [
    {
     "data": {
      "text/plain": "Symbols           MSFT     GE        AAPL        Day  Quarter\nDate                                                         \n2020-12-24  222.750000  10.65  131.970001   Thursday        4\n2020-12-28  224.960007  10.64  136.690002     Monday        4\n2020-12-29  224.149994  10.56  134.869995    Tuesday        4\n2020-12-30  221.679993  10.71  133.720001  Wednesday        4\n2020-12-31  222.419998  10.80  132.690002   Thursday        4",
      "text/html": "<div>\n<style scoped>\n    .dataframe tbody tr th:only-of-type {\n        vertical-align: middle;\n    }\n\n    .dataframe tbody tr th {\n        vertical-align: top;\n    }\n\n    .dataframe thead th {\n        text-align: right;\n    }\n</style>\n<table border=\"1\" class=\"dataframe\">\n  <thead>\n    <tr style=\"text-align: right;\">\n      <th>Symbols</th>\n      <th>MSFT</th>\n      <th>GE</th>\n      <th>AAPL</th>\n      <th>Day</th>\n      <th>Quarter</th>\n    </tr>\n    <tr>\n      <th>Date</th>\n      <th></th>\n      <th></th>\n      <th></th>\n      <th></th>\n      <th></th>\n    </tr>\n  </thead>\n  <tbody>\n    <tr>\n      <th>2020-12-24</th>\n      <td>222.750000</td>\n      <td>10.65</td>\n      <td>131.970001</td>\n      <td>Thursday</td>\n      <td>4</td>\n    </tr>\n    <tr>\n      <th>2020-12-28</th>\n      <td>224.960007</td>\n      <td>10.64</td>\n      <td>136.690002</td>\n      <td>Monday</td>\n      <td>4</td>\n    </tr>\n    <tr>\n      <th>2020-12-29</th>\n      <td>224.149994</td>\n      <td>10.56</td>\n      <td>134.869995</td>\n      <td>Tuesday</td>\n      <td>4</td>\n    </tr>\n    <tr>\n      <th>2020-12-30</th>\n      <td>221.679993</td>\n      <td>10.71</td>\n      <td>133.720001</td>\n      <td>Wednesday</td>\n      <td>4</td>\n    </tr>\n    <tr>\n      <th>2020-12-31</th>\n      <td>222.419998</td>\n      <td>10.80</td>\n      <td>132.690002</td>\n      <td>Thursday</td>\n      <td>4</td>\n    </tr>\n  </tbody>\n</table>\n</div>"
     },
     "execution_count": 131,
     "metadata": {},
     "output_type": "execute_result"
    }
   ]
  },
  {
   "cell_type": "code",
   "source": [
    "all_days = pd.date_range(start=\"2009-12-31\", end=\"2019-02-06\", freq=\"D\")\n",
    "all_days"
   ],
   "metadata": {
    "colab": {
     "base_uri": "https://localhost:8080/"
    },
    "id": "8PCb3kLO0LLY",
    "outputId": "94a62f77-f46c-48c6-da0f-d9a3b13a0a02"
   },
   "execution_count": 132,
   "outputs": [
    {
     "data": {
      "text/plain": "DatetimeIndex(['2009-12-31', '2010-01-01', '2010-01-02', '2010-01-03',\n               '2010-01-04', '2010-01-05', '2010-01-06', '2010-01-07',\n               '2010-01-08', '2010-01-09',\n               ...\n               '2019-01-28', '2019-01-29', '2019-01-30', '2019-01-31',\n               '2019-02-01', '2019-02-02', '2019-02-03', '2019-02-04',\n               '2019-02-05', '2019-02-06'],\n              dtype='datetime64[ns]', length=3325, freq='D')"
     },
     "execution_count": 132,
     "metadata": {},
     "output_type": "execute_result"
    }
   ]
  },
  {
   "cell_type": "code",
   "source": [
    "close = close.reindex(all_days)"
   ],
   "metadata": {
    "id": "NV8Sw2BH0LN9"
   },
   "execution_count": 133,
   "outputs": []
  },
  {
   "cell_type": "code",
   "source": [
    "close.head(20)"
   ],
   "metadata": {
    "colab": {
     "base_uri": "https://localhost:8080/",
     "height": 676
    },
    "id": "VD4FPr9e0bAt",
    "outputId": "ed011c46-12bb-41d0-ece1-7f2749c0dc3f"
   },
   "execution_count": 134,
   "outputs": [
    {
     "data": {
      "text/plain": "Symbols          MSFT         GE      AAPL        Day  Quarter\n2009-12-31        NaN        NaN       NaN        NaN      NaN\n2010-01-01        NaN        NaN       NaN        NaN      NaN\n2010-01-02        NaN        NaN       NaN        NaN      NaN\n2010-01-03        NaN        NaN       NaN        NaN      NaN\n2010-01-04  30.950001  14.855769  7.643214     Monday      1.0\n2010-01-05  30.959999  14.932692  7.656429    Tuesday      1.0\n2010-01-06  30.770000  14.855769  7.534643  Wednesday      1.0\n2010-01-07  30.450001  15.625000  7.520714   Thursday      1.0\n2010-01-08  30.660000  15.961538  7.570714     Friday      1.0\n2010-01-09        NaN        NaN       NaN        NaN      NaN\n2010-01-10        NaN        NaN       NaN        NaN      NaN\n2010-01-11  30.270000  16.115385  7.503929     Monday      1.0\n2010-01-12  30.070000  16.125000  7.418571    Tuesday      1.0\n2010-01-13  30.350000  16.182692  7.523214  Wednesday      1.0\n2010-01-14  30.959999  16.057692  7.479643   Thursday      1.0\n2010-01-15  30.860001  15.807692  7.354643     Friday      1.0\n2010-01-16        NaN        NaN       NaN        NaN      NaN\n2010-01-17        NaN        NaN       NaN        NaN      NaN\n2010-01-18        NaN        NaN       NaN        NaN      NaN\n2010-01-19  31.100000  15.903846  7.680000    Tuesday      1.0",
      "text/html": "<div>\n<style scoped>\n    .dataframe tbody tr th:only-of-type {\n        vertical-align: middle;\n    }\n\n    .dataframe tbody tr th {\n        vertical-align: top;\n    }\n\n    .dataframe thead th {\n        text-align: right;\n    }\n</style>\n<table border=\"1\" class=\"dataframe\">\n  <thead>\n    <tr style=\"text-align: right;\">\n      <th>Symbols</th>\n      <th>MSFT</th>\n      <th>GE</th>\n      <th>AAPL</th>\n      <th>Day</th>\n      <th>Quarter</th>\n    </tr>\n  </thead>\n  <tbody>\n    <tr>\n      <th>2009-12-31</th>\n      <td>NaN</td>\n      <td>NaN</td>\n      <td>NaN</td>\n      <td>NaN</td>\n      <td>NaN</td>\n    </tr>\n    <tr>\n      <th>2010-01-01</th>\n      <td>NaN</td>\n      <td>NaN</td>\n      <td>NaN</td>\n      <td>NaN</td>\n      <td>NaN</td>\n    </tr>\n    <tr>\n      <th>2010-01-02</th>\n      <td>NaN</td>\n      <td>NaN</td>\n      <td>NaN</td>\n      <td>NaN</td>\n      <td>NaN</td>\n    </tr>\n    <tr>\n      <th>2010-01-03</th>\n      <td>NaN</td>\n      <td>NaN</td>\n      <td>NaN</td>\n      <td>NaN</td>\n      <td>NaN</td>\n    </tr>\n    <tr>\n      <th>2010-01-04</th>\n      <td>30.950001</td>\n      <td>14.855769</td>\n      <td>7.643214</td>\n      <td>Monday</td>\n      <td>1.0</td>\n    </tr>\n    <tr>\n      <th>2010-01-05</th>\n      <td>30.959999</td>\n      <td>14.932692</td>\n      <td>7.656429</td>\n      <td>Tuesday</td>\n      <td>1.0</td>\n    </tr>\n    <tr>\n      <th>2010-01-06</th>\n      <td>30.770000</td>\n      <td>14.855769</td>\n      <td>7.534643</td>\n      <td>Wednesday</td>\n      <td>1.0</td>\n    </tr>\n    <tr>\n      <th>2010-01-07</th>\n      <td>30.450001</td>\n      <td>15.625000</td>\n      <td>7.520714</td>\n      <td>Thursday</td>\n      <td>1.0</td>\n    </tr>\n    <tr>\n      <th>2010-01-08</th>\n      <td>30.660000</td>\n      <td>15.961538</td>\n      <td>7.570714</td>\n      <td>Friday</td>\n      <td>1.0</td>\n    </tr>\n    <tr>\n      <th>2010-01-09</th>\n      <td>NaN</td>\n      <td>NaN</td>\n      <td>NaN</td>\n      <td>NaN</td>\n      <td>NaN</td>\n    </tr>\n    <tr>\n      <th>2010-01-10</th>\n      <td>NaN</td>\n      <td>NaN</td>\n      <td>NaN</td>\n      <td>NaN</td>\n      <td>NaN</td>\n    </tr>\n    <tr>\n      <th>2010-01-11</th>\n      <td>30.270000</td>\n      <td>16.115385</td>\n      <td>7.503929</td>\n      <td>Monday</td>\n      <td>1.0</td>\n    </tr>\n    <tr>\n      <th>2010-01-12</th>\n      <td>30.070000</td>\n      <td>16.125000</td>\n      <td>7.418571</td>\n      <td>Tuesday</td>\n      <td>1.0</td>\n    </tr>\n    <tr>\n      <th>2010-01-13</th>\n      <td>30.350000</td>\n      <td>16.182692</td>\n      <td>7.523214</td>\n      <td>Wednesday</td>\n      <td>1.0</td>\n    </tr>\n    <tr>\n      <th>2010-01-14</th>\n      <td>30.959999</td>\n      <td>16.057692</td>\n      <td>7.479643</td>\n      <td>Thursday</td>\n      <td>1.0</td>\n    </tr>\n    <tr>\n      <th>2010-01-15</th>\n      <td>30.860001</td>\n      <td>15.807692</td>\n      <td>7.354643</td>\n      <td>Friday</td>\n      <td>1.0</td>\n    </tr>\n    <tr>\n      <th>2010-01-16</th>\n      <td>NaN</td>\n      <td>NaN</td>\n      <td>NaN</td>\n      <td>NaN</td>\n      <td>NaN</td>\n    </tr>\n    <tr>\n      <th>2010-01-17</th>\n      <td>NaN</td>\n      <td>NaN</td>\n      <td>NaN</td>\n      <td>NaN</td>\n      <td>NaN</td>\n    </tr>\n    <tr>\n      <th>2010-01-18</th>\n      <td>NaN</td>\n      <td>NaN</td>\n      <td>NaN</td>\n      <td>NaN</td>\n      <td>NaN</td>\n    </tr>\n    <tr>\n      <th>2010-01-19</th>\n      <td>31.100000</td>\n      <td>15.903846</td>\n      <td>7.680000</td>\n      <td>Tuesday</td>\n      <td>1.0</td>\n    </tr>\n  </tbody>\n</table>\n</div>"
     },
     "execution_count": 134,
     "metadata": {},
     "output_type": "execute_result"
    }
   ]
  },
  {
   "cell_type": "code",
   "source": [
    "close.Day = close.index.day_name()\n",
    "close.Quarter = close.index.quarter"
   ],
   "metadata": {
    "id": "nVwlb04J0bDT"
   },
   "execution_count": 135,
   "outputs": []
  },
  {
   "cell_type": "code",
   "source": [
    "close.head()"
   ],
   "metadata": {
    "colab": {
     "base_uri": "https://localhost:8080/",
     "height": 206
    },
    "id": "p_roZuj60bFr",
    "outputId": "c529dac7-3b29-4195-a941-f5d7e3476fa6"
   },
   "execution_count": 136,
   "outputs": [
    {
     "data": {
      "text/plain": "Symbols          MSFT         GE      AAPL       Day  Quarter\n2009-12-31        NaN        NaN       NaN  Thursday        4\n2010-01-01        NaN        NaN       NaN    Friday        1\n2010-01-02        NaN        NaN       NaN  Saturday        1\n2010-01-03        NaN        NaN       NaN    Sunday        1\n2010-01-04  30.950001  14.855769  7.643214    Monday        1",
      "text/html": "<div>\n<style scoped>\n    .dataframe tbody tr th:only-of-type {\n        vertical-align: middle;\n    }\n\n    .dataframe tbody tr th {\n        vertical-align: top;\n    }\n\n    .dataframe thead th {\n        text-align: right;\n    }\n</style>\n<table border=\"1\" class=\"dataframe\">\n  <thead>\n    <tr style=\"text-align: right;\">\n      <th>Symbols</th>\n      <th>MSFT</th>\n      <th>GE</th>\n      <th>AAPL</th>\n      <th>Day</th>\n      <th>Quarter</th>\n    </tr>\n  </thead>\n  <tbody>\n    <tr>\n      <th>2009-12-31</th>\n      <td>NaN</td>\n      <td>NaN</td>\n      <td>NaN</td>\n      <td>Thursday</td>\n      <td>4</td>\n    </tr>\n    <tr>\n      <th>2010-01-01</th>\n      <td>NaN</td>\n      <td>NaN</td>\n      <td>NaN</td>\n      <td>Friday</td>\n      <td>1</td>\n    </tr>\n    <tr>\n      <th>2010-01-02</th>\n      <td>NaN</td>\n      <td>NaN</td>\n      <td>NaN</td>\n      <td>Saturday</td>\n      <td>1</td>\n    </tr>\n    <tr>\n      <th>2010-01-03</th>\n      <td>NaN</td>\n      <td>NaN</td>\n      <td>NaN</td>\n      <td>Sunday</td>\n      <td>1</td>\n    </tr>\n    <tr>\n      <th>2010-01-04</th>\n      <td>30.950001</td>\n      <td>14.855769</td>\n      <td>7.643214</td>\n      <td>Monday</td>\n      <td>1</td>\n    </tr>\n  </tbody>\n</table>\n</div>"
     },
     "execution_count": 136,
     "metadata": {},
     "output_type": "execute_result"
    }
   ]
  },
  {
   "cell_type": "code",
   "source": [
    "close.fillna(method = \"bfill\")"
   ],
   "metadata": {
    "colab": {
     "base_uri": "https://localhost:8080/",
     "height": 424
    },
    "id": "sgAyjA2e0LQy",
    "outputId": "6650232b-aaa3-47f5-fce5-77bcd294a1bc"
   },
   "execution_count": 137,
   "outputs": [
    {
     "data": {
      "text/plain": "Symbols           MSFT         GE       AAPL        Day  Quarter\n2009-12-31   30.950001  14.855769   7.643214   Thursday        4\n2010-01-01   30.950001  14.855769   7.643214     Friday        1\n2010-01-02   30.950001  14.855769   7.643214   Saturday        1\n2010-01-03   30.950001  14.855769   7.643214     Sunday        1\n2010-01-04   30.950001  14.855769   7.643214     Monday        1\n...                ...        ...        ...        ...      ...\n2019-02-02  105.739998   9.817308  42.812500   Saturday        1\n2019-02-03  105.739998   9.817308  42.812500     Sunday        1\n2019-02-04  105.739998   9.817308  42.812500     Monday        1\n2019-02-05  107.220001  10.221154  43.544998    Tuesday        1\n2019-02-06  106.029999  10.067308  43.560001  Wednesday        1\n\n[3325 rows x 5 columns]",
      "text/html": "<div>\n<style scoped>\n    .dataframe tbody tr th:only-of-type {\n        vertical-align: middle;\n    }\n\n    .dataframe tbody tr th {\n        vertical-align: top;\n    }\n\n    .dataframe thead th {\n        text-align: right;\n    }\n</style>\n<table border=\"1\" class=\"dataframe\">\n  <thead>\n    <tr style=\"text-align: right;\">\n      <th>Symbols</th>\n      <th>MSFT</th>\n      <th>GE</th>\n      <th>AAPL</th>\n      <th>Day</th>\n      <th>Quarter</th>\n    </tr>\n  </thead>\n  <tbody>\n    <tr>\n      <th>2009-12-31</th>\n      <td>30.950001</td>\n      <td>14.855769</td>\n      <td>7.643214</td>\n      <td>Thursday</td>\n      <td>4</td>\n    </tr>\n    <tr>\n      <th>2010-01-01</th>\n      <td>30.950001</td>\n      <td>14.855769</td>\n      <td>7.643214</td>\n      <td>Friday</td>\n      <td>1</td>\n    </tr>\n    <tr>\n      <th>2010-01-02</th>\n      <td>30.950001</td>\n      <td>14.855769</td>\n      <td>7.643214</td>\n      <td>Saturday</td>\n      <td>1</td>\n    </tr>\n    <tr>\n      <th>2010-01-03</th>\n      <td>30.950001</td>\n      <td>14.855769</td>\n      <td>7.643214</td>\n      <td>Sunday</td>\n      <td>1</td>\n    </tr>\n    <tr>\n      <th>2010-01-04</th>\n      <td>30.950001</td>\n      <td>14.855769</td>\n      <td>7.643214</td>\n      <td>Monday</td>\n      <td>1</td>\n    </tr>\n    <tr>\n      <th>...</th>\n      <td>...</td>\n      <td>...</td>\n      <td>...</td>\n      <td>...</td>\n      <td>...</td>\n    </tr>\n    <tr>\n      <th>2019-02-02</th>\n      <td>105.739998</td>\n      <td>9.817308</td>\n      <td>42.812500</td>\n      <td>Saturday</td>\n      <td>1</td>\n    </tr>\n    <tr>\n      <th>2019-02-03</th>\n      <td>105.739998</td>\n      <td>9.817308</td>\n      <td>42.812500</td>\n      <td>Sunday</td>\n      <td>1</td>\n    </tr>\n    <tr>\n      <th>2019-02-04</th>\n      <td>105.739998</td>\n      <td>9.817308</td>\n      <td>42.812500</td>\n      <td>Monday</td>\n      <td>1</td>\n    </tr>\n    <tr>\n      <th>2019-02-05</th>\n      <td>107.220001</td>\n      <td>10.221154</td>\n      <td>43.544998</td>\n      <td>Tuesday</td>\n      <td>1</td>\n    </tr>\n    <tr>\n      <th>2019-02-06</th>\n      <td>106.029999</td>\n      <td>10.067308</td>\n      <td>43.560001</td>\n      <td>Wednesday</td>\n      <td>1</td>\n    </tr>\n  </tbody>\n</table>\n<p>3325 rows × 5 columns</p>\n</div>"
     },
     "execution_count": 137,
     "metadata": {},
     "output_type": "execute_result"
    }
   ]
  },
  {
   "cell_type": "code",
   "source": [
    "close.head(15)"
   ],
   "metadata": {
    "colab": {
     "base_uri": "https://localhost:8080/",
     "height": 520
    },
    "id": "eDr4_XCA0LTL",
    "outputId": "5a68aa26-f9fb-4ea9-dda6-7670e10a1235"
   },
   "execution_count": 138,
   "outputs": [
    {
     "data": {
      "text/plain": "Symbols          MSFT         GE      AAPL        Day  Quarter\n2009-12-31        NaN        NaN       NaN   Thursday        4\n2010-01-01        NaN        NaN       NaN     Friday        1\n2010-01-02        NaN        NaN       NaN   Saturday        1\n2010-01-03        NaN        NaN       NaN     Sunday        1\n2010-01-04  30.950001  14.855769  7.643214     Monday        1\n2010-01-05  30.959999  14.932692  7.656429    Tuesday        1\n2010-01-06  30.770000  14.855769  7.534643  Wednesday        1\n2010-01-07  30.450001  15.625000  7.520714   Thursday        1\n2010-01-08  30.660000  15.961538  7.570714     Friday        1\n2010-01-09        NaN        NaN       NaN   Saturday        1\n2010-01-10        NaN        NaN       NaN     Sunday        1\n2010-01-11  30.270000  16.115385  7.503929     Monday        1\n2010-01-12  30.070000  16.125000  7.418571    Tuesday        1\n2010-01-13  30.350000  16.182692  7.523214  Wednesday        1\n2010-01-14  30.959999  16.057692  7.479643   Thursday        1",
      "text/html": "<div>\n<style scoped>\n    .dataframe tbody tr th:only-of-type {\n        vertical-align: middle;\n    }\n\n    .dataframe tbody tr th {\n        vertical-align: top;\n    }\n\n    .dataframe thead th {\n        text-align: right;\n    }\n</style>\n<table border=\"1\" class=\"dataframe\">\n  <thead>\n    <tr style=\"text-align: right;\">\n      <th>Symbols</th>\n      <th>MSFT</th>\n      <th>GE</th>\n      <th>AAPL</th>\n      <th>Day</th>\n      <th>Quarter</th>\n    </tr>\n  </thead>\n  <tbody>\n    <tr>\n      <th>2009-12-31</th>\n      <td>NaN</td>\n      <td>NaN</td>\n      <td>NaN</td>\n      <td>Thursday</td>\n      <td>4</td>\n    </tr>\n    <tr>\n      <th>2010-01-01</th>\n      <td>NaN</td>\n      <td>NaN</td>\n      <td>NaN</td>\n      <td>Friday</td>\n      <td>1</td>\n    </tr>\n    <tr>\n      <th>2010-01-02</th>\n      <td>NaN</td>\n      <td>NaN</td>\n      <td>NaN</td>\n      <td>Saturday</td>\n      <td>1</td>\n    </tr>\n    <tr>\n      <th>2010-01-03</th>\n      <td>NaN</td>\n      <td>NaN</td>\n      <td>NaN</td>\n      <td>Sunday</td>\n      <td>1</td>\n    </tr>\n    <tr>\n      <th>2010-01-04</th>\n      <td>30.950001</td>\n      <td>14.855769</td>\n      <td>7.643214</td>\n      <td>Monday</td>\n      <td>1</td>\n    </tr>\n    <tr>\n      <th>2010-01-05</th>\n      <td>30.959999</td>\n      <td>14.932692</td>\n      <td>7.656429</td>\n      <td>Tuesday</td>\n      <td>1</td>\n    </tr>\n    <tr>\n      <th>2010-01-06</th>\n      <td>30.770000</td>\n      <td>14.855769</td>\n      <td>7.534643</td>\n      <td>Wednesday</td>\n      <td>1</td>\n    </tr>\n    <tr>\n      <th>2010-01-07</th>\n      <td>30.450001</td>\n      <td>15.625000</td>\n      <td>7.520714</td>\n      <td>Thursday</td>\n      <td>1</td>\n    </tr>\n    <tr>\n      <th>2010-01-08</th>\n      <td>30.660000</td>\n      <td>15.961538</td>\n      <td>7.570714</td>\n      <td>Friday</td>\n      <td>1</td>\n    </tr>\n    <tr>\n      <th>2010-01-09</th>\n      <td>NaN</td>\n      <td>NaN</td>\n      <td>NaN</td>\n      <td>Saturday</td>\n      <td>1</td>\n    </tr>\n    <tr>\n      <th>2010-01-10</th>\n      <td>NaN</td>\n      <td>NaN</td>\n      <td>NaN</td>\n      <td>Sunday</td>\n      <td>1</td>\n    </tr>\n    <tr>\n      <th>2010-01-11</th>\n      <td>30.270000</td>\n      <td>16.115385</td>\n      <td>7.503929</td>\n      <td>Monday</td>\n      <td>1</td>\n    </tr>\n    <tr>\n      <th>2010-01-12</th>\n      <td>30.070000</td>\n      <td>16.125000</td>\n      <td>7.418571</td>\n      <td>Tuesday</td>\n      <td>1</td>\n    </tr>\n    <tr>\n      <th>2010-01-13</th>\n      <td>30.350000</td>\n      <td>16.182692</td>\n      <td>7.523214</td>\n      <td>Wednesday</td>\n      <td>1</td>\n    </tr>\n    <tr>\n      <th>2010-01-14</th>\n      <td>30.959999</td>\n      <td>16.057692</td>\n      <td>7.479643</td>\n      <td>Thursday</td>\n      <td>1</td>\n    </tr>\n  </tbody>\n</table>\n</div>"
     },
     "execution_count": 138,
     "metadata": {},
     "output_type": "execute_result"
    }
   ]
  },
  {
   "cell_type": "markdown",
   "source": [
    "#145 시간대 변환하기(파트1)"
   ],
   "metadata": {
    "id": "a3GzLkXC9v6u"
   }
  },
  {
   "cell_type": "code",
   "source": [
    "import pandas as pd"
   ],
   "metadata": {
    "id": "SjiDSCl_1N59"
   },
   "execution_count": 139,
   "outputs": []
  },
  {
   "cell_type": "code",
   "source": [
    "ge = pd.read_csv(\"../data/GE_prices.csv\", index_col=\"date\", parse_dates=[\"date\"])"
   ],
   "metadata": {
    "id": "Ya3EwWqv1fPl"
   },
   "execution_count": 140,
   "outputs": []
  },
  {
   "cell_type": "code",
   "source": [
    "ge.head()"
   ],
   "metadata": {
    "colab": {
     "base_uri": "https://localhost:8080/",
     "height": 237
    },
    "id": "AB5g6X671fSG",
    "outputId": "2573c9e2-a6ae-4844-d316-fed49942d85b"
   },
   "execution_count": 141,
   "outputs": [
    {
     "data": {
      "text/plain": "                     1. open  2. high   3. low  4. close  5. volume\ndate                                                               \n2019-07-29 10:00:00  10.5000  10.5800  10.4300   10.4400  4840329.0\n2019-07-29 10:30:00  10.4404  10.4847  10.3997   10.4104  3860280.0\n2019-07-29 11:00:00  10.4200  10.5000  10.4100   10.5000  1912153.0\n2019-07-29 11:30:00  10.4931  10.5300  10.4800   10.4850  1916453.0\n2019-07-29 12:00:00  10.4900  10.5000  10.4400   10.4500  2467638.0",
      "text/html": "<div>\n<style scoped>\n    .dataframe tbody tr th:only-of-type {\n        vertical-align: middle;\n    }\n\n    .dataframe tbody tr th {\n        vertical-align: top;\n    }\n\n    .dataframe thead th {\n        text-align: right;\n    }\n</style>\n<table border=\"1\" class=\"dataframe\">\n  <thead>\n    <tr style=\"text-align: right;\">\n      <th></th>\n      <th>1. open</th>\n      <th>2. high</th>\n      <th>3. low</th>\n      <th>4. close</th>\n      <th>5. volume</th>\n    </tr>\n    <tr>\n      <th>date</th>\n      <th></th>\n      <th></th>\n      <th></th>\n      <th></th>\n      <th></th>\n    </tr>\n  </thead>\n  <tbody>\n    <tr>\n      <th>2019-07-29 10:00:00</th>\n      <td>10.5000</td>\n      <td>10.5800</td>\n      <td>10.4300</td>\n      <td>10.4400</td>\n      <td>4840329.0</td>\n    </tr>\n    <tr>\n      <th>2019-07-29 10:30:00</th>\n      <td>10.4404</td>\n      <td>10.4847</td>\n      <td>10.3997</td>\n      <td>10.4104</td>\n      <td>3860280.0</td>\n    </tr>\n    <tr>\n      <th>2019-07-29 11:00:00</th>\n      <td>10.4200</td>\n      <td>10.5000</td>\n      <td>10.4100</td>\n      <td>10.5000</td>\n      <td>1912153.0</td>\n    </tr>\n    <tr>\n      <th>2019-07-29 11:30:00</th>\n      <td>10.4931</td>\n      <td>10.5300</td>\n      <td>10.4800</td>\n      <td>10.4850</td>\n      <td>1916453.0</td>\n    </tr>\n    <tr>\n      <th>2019-07-29 12:00:00</th>\n      <td>10.4900</td>\n      <td>10.5000</td>\n      <td>10.4400</td>\n      <td>10.4500</td>\n      <td>2467638.0</td>\n    </tr>\n  </tbody>\n</table>\n</div>"
     },
     "execution_count": 141,
     "metadata": {},
     "output_type": "execute_result"
    }
   ]
  },
  {
   "cell_type": "code",
   "source": [
    "ge.info()"
   ],
   "metadata": {
    "colab": {
     "base_uri": "https://localhost:8080/"
    },
    "id": "dPpnQ-UZ1fUi",
    "outputId": "f9108b38-e733-4e2e-85a3-a121d917f8fc"
   },
   "execution_count": 142,
   "outputs": [
    {
     "name": "stdout",
     "output_type": "stream",
     "text": [
      "<class 'pandas.core.frame.DataFrame'>\n",
      "DatetimeIndex: 389 entries, 2019-07-29 10:00:00 to 2019-09-09 16:00:00\n",
      "Data columns (total 5 columns):\n",
      " #   Column     Non-Null Count  Dtype  \n",
      "---  ------     --------------  -----  \n",
      " 0   1. open    389 non-null    float64\n",
      " 1   2. high    389 non-null    float64\n",
      " 2   3. low     389 non-null    float64\n",
      " 3   4. close   389 non-null    float64\n",
      " 4   5. volume  389 non-null    float64\n",
      "dtypes: float64(5)\n",
      "memory usage: 18.2 KB\n"
     ]
    }
   ]
  },
  {
   "cell_type": "code",
   "source": [
    "ge.index"
   ],
   "metadata": {
    "colab": {
     "base_uri": "https://localhost:8080/"
    },
    "id": "TLA3Fc7a1fXB",
    "outputId": "99e87ac4-5a5e-4c10-fe37-f1b896a26c64"
   },
   "execution_count": 143,
   "outputs": [
    {
     "data": {
      "text/plain": "DatetimeIndex(['2019-07-29 10:00:00', '2019-07-29 10:30:00',\n               '2019-07-29 11:00:00', '2019-07-29 11:30:00',\n               '2019-07-29 12:00:00', '2019-07-29 12:30:00',\n               '2019-07-29 13:00:00', '2019-07-29 13:30:00',\n               '2019-07-29 14:00:00', '2019-07-29 14:30:00',\n               ...\n               '2019-09-09 11:30:00', '2019-09-09 12:00:00',\n               '2019-09-09 12:30:00', '2019-09-09 13:00:00',\n               '2019-09-09 13:30:00', '2019-09-09 14:00:00',\n               '2019-09-09 14:30:00', '2019-09-09 15:00:00',\n               '2019-09-09 15:30:00', '2019-09-09 16:00:00'],\n              dtype='datetime64[ns]', name='date', length=389, freq=None)"
     },
     "execution_count": 143,
     "metadata": {},
     "output_type": "execute_result"
    }
   ]
  },
  {
   "cell_type": "code",
   "source": [
    "print(ge.index.tz)"
   ],
   "metadata": {
    "colab": {
     "base_uri": "https://localhost:8080/"
    },
    "id": "fScAfLlx1fZh",
    "outputId": "c3efdf3e-9951-4221-8797-b398fa3db9a6"
   },
   "execution_count": 144,
   "outputs": [
    {
     "name": "stdout",
     "output_type": "stream",
     "text": [
      "None\n"
     ]
    }
   ]
  },
  {
   "cell_type": "code",
   "source": [
    "ge.tz_localize(\"UTC\")"
   ],
   "metadata": {
    "colab": {
     "base_uri": "https://localhost:8080/",
     "height": 455
    },
    "id": "_uy5d7M614-f",
    "outputId": "c3f0bcb0-54c5-4f43-d846-466fc67c1817"
   },
   "execution_count": 145,
   "outputs": [
    {
     "data": {
      "text/plain": "                           1. open  2. high   3. low  4. close  5. volume\ndate                                                                     \n2019-07-29 10:00:00+00:00  10.5000  10.5800  10.4300   10.4400  4840329.0\n2019-07-29 10:30:00+00:00  10.4404  10.4847  10.3997   10.4104  3860280.0\n2019-07-29 11:00:00+00:00  10.4200  10.5000  10.4100   10.5000  1912153.0\n2019-07-29 11:30:00+00:00  10.4931  10.5300  10.4800   10.4850  1916453.0\n2019-07-29 12:00:00+00:00  10.4900  10.5000  10.4400   10.4500  2467638.0\n...                            ...      ...      ...       ...        ...\n2019-09-09 14:00:00+00:00   8.9900   8.9950   8.9700    8.9800  1740722.0\n2019-09-09 14:30:00+00:00   8.9735   9.0000   8.9700    8.9835  1412823.0\n2019-09-09 15:00:00+00:00   8.9900   9.0100   8.9350    8.9500  4177838.0\n2019-09-09 15:30:00+00:00   8.9453   8.9700   8.9300    8.9603  2254279.0\n2019-09-09 16:00:00+00:00   8.9600   8.9900   8.9200    8.9700  6887530.0\n\n[389 rows x 5 columns]",
      "text/html": "<div>\n<style scoped>\n    .dataframe tbody tr th:only-of-type {\n        vertical-align: middle;\n    }\n\n    .dataframe tbody tr th {\n        vertical-align: top;\n    }\n\n    .dataframe thead th {\n        text-align: right;\n    }\n</style>\n<table border=\"1\" class=\"dataframe\">\n  <thead>\n    <tr style=\"text-align: right;\">\n      <th></th>\n      <th>1. open</th>\n      <th>2. high</th>\n      <th>3. low</th>\n      <th>4. close</th>\n      <th>5. volume</th>\n    </tr>\n    <tr>\n      <th>date</th>\n      <th></th>\n      <th></th>\n      <th></th>\n      <th></th>\n      <th></th>\n    </tr>\n  </thead>\n  <tbody>\n    <tr>\n      <th>2019-07-29 10:00:00+00:00</th>\n      <td>10.5000</td>\n      <td>10.5800</td>\n      <td>10.4300</td>\n      <td>10.4400</td>\n      <td>4840329.0</td>\n    </tr>\n    <tr>\n      <th>2019-07-29 10:30:00+00:00</th>\n      <td>10.4404</td>\n      <td>10.4847</td>\n      <td>10.3997</td>\n      <td>10.4104</td>\n      <td>3860280.0</td>\n    </tr>\n    <tr>\n      <th>2019-07-29 11:00:00+00:00</th>\n      <td>10.4200</td>\n      <td>10.5000</td>\n      <td>10.4100</td>\n      <td>10.5000</td>\n      <td>1912153.0</td>\n    </tr>\n    <tr>\n      <th>2019-07-29 11:30:00+00:00</th>\n      <td>10.4931</td>\n      <td>10.5300</td>\n      <td>10.4800</td>\n      <td>10.4850</td>\n      <td>1916453.0</td>\n    </tr>\n    <tr>\n      <th>2019-07-29 12:00:00+00:00</th>\n      <td>10.4900</td>\n      <td>10.5000</td>\n      <td>10.4400</td>\n      <td>10.4500</td>\n      <td>2467638.0</td>\n    </tr>\n    <tr>\n      <th>...</th>\n      <td>...</td>\n      <td>...</td>\n      <td>...</td>\n      <td>...</td>\n      <td>...</td>\n    </tr>\n    <tr>\n      <th>2019-09-09 14:00:00+00:00</th>\n      <td>8.9900</td>\n      <td>8.9950</td>\n      <td>8.9700</td>\n      <td>8.9800</td>\n      <td>1740722.0</td>\n    </tr>\n    <tr>\n      <th>2019-09-09 14:30:00+00:00</th>\n      <td>8.9735</td>\n      <td>9.0000</td>\n      <td>8.9700</td>\n      <td>8.9835</td>\n      <td>1412823.0</td>\n    </tr>\n    <tr>\n      <th>2019-09-09 15:00:00+00:00</th>\n      <td>8.9900</td>\n      <td>9.0100</td>\n      <td>8.9350</td>\n      <td>8.9500</td>\n      <td>4177838.0</td>\n    </tr>\n    <tr>\n      <th>2019-09-09 15:30:00+00:00</th>\n      <td>8.9453</td>\n      <td>8.9700</td>\n      <td>8.9300</td>\n      <td>8.9603</td>\n      <td>2254279.0</td>\n    </tr>\n    <tr>\n      <th>2019-09-09 16:00:00+00:00</th>\n      <td>8.9600</td>\n      <td>8.9900</td>\n      <td>8.9200</td>\n      <td>8.9700</td>\n      <td>6887530.0</td>\n    </tr>\n  </tbody>\n</table>\n<p>389 rows × 5 columns</p>\n</div>"
     },
     "execution_count": 145,
     "metadata": {},
     "output_type": "execute_result"
    }
   ]
  },
  {
   "cell_type": "code",
   "source": [
    "ge.tz_localize(\"America/New_York\")"
   ],
   "metadata": {
    "colab": {
     "base_uri": "https://localhost:8080/",
     "height": 455
    },
    "id": "-8uoNB9615Bb",
    "outputId": "036d8b42-3e7c-4853-f846-087e732b92d5"
   },
   "execution_count": 146,
   "outputs": [
    {
     "data": {
      "text/plain": "                           1. open  2. high   3. low  4. close  5. volume\ndate                                                                     \n2019-07-29 10:00:00-04:00  10.5000  10.5800  10.4300   10.4400  4840329.0\n2019-07-29 10:30:00-04:00  10.4404  10.4847  10.3997   10.4104  3860280.0\n2019-07-29 11:00:00-04:00  10.4200  10.5000  10.4100   10.5000  1912153.0\n2019-07-29 11:30:00-04:00  10.4931  10.5300  10.4800   10.4850  1916453.0\n2019-07-29 12:00:00-04:00  10.4900  10.5000  10.4400   10.4500  2467638.0\n...                            ...      ...      ...       ...        ...\n2019-09-09 14:00:00-04:00   8.9900   8.9950   8.9700    8.9800  1740722.0\n2019-09-09 14:30:00-04:00   8.9735   9.0000   8.9700    8.9835  1412823.0\n2019-09-09 15:00:00-04:00   8.9900   9.0100   8.9350    8.9500  4177838.0\n2019-09-09 15:30:00-04:00   8.9453   8.9700   8.9300    8.9603  2254279.0\n2019-09-09 16:00:00-04:00   8.9600   8.9900   8.9200    8.9700  6887530.0\n\n[389 rows x 5 columns]",
      "text/html": "<div>\n<style scoped>\n    .dataframe tbody tr th:only-of-type {\n        vertical-align: middle;\n    }\n\n    .dataframe tbody tr th {\n        vertical-align: top;\n    }\n\n    .dataframe thead th {\n        text-align: right;\n    }\n</style>\n<table border=\"1\" class=\"dataframe\">\n  <thead>\n    <tr style=\"text-align: right;\">\n      <th></th>\n      <th>1. open</th>\n      <th>2. high</th>\n      <th>3. low</th>\n      <th>4. close</th>\n      <th>5. volume</th>\n    </tr>\n    <tr>\n      <th>date</th>\n      <th></th>\n      <th></th>\n      <th></th>\n      <th></th>\n      <th></th>\n    </tr>\n  </thead>\n  <tbody>\n    <tr>\n      <th>2019-07-29 10:00:00-04:00</th>\n      <td>10.5000</td>\n      <td>10.5800</td>\n      <td>10.4300</td>\n      <td>10.4400</td>\n      <td>4840329.0</td>\n    </tr>\n    <tr>\n      <th>2019-07-29 10:30:00-04:00</th>\n      <td>10.4404</td>\n      <td>10.4847</td>\n      <td>10.3997</td>\n      <td>10.4104</td>\n      <td>3860280.0</td>\n    </tr>\n    <tr>\n      <th>2019-07-29 11:00:00-04:00</th>\n      <td>10.4200</td>\n      <td>10.5000</td>\n      <td>10.4100</td>\n      <td>10.5000</td>\n      <td>1912153.0</td>\n    </tr>\n    <tr>\n      <th>2019-07-29 11:30:00-04:00</th>\n      <td>10.4931</td>\n      <td>10.5300</td>\n      <td>10.4800</td>\n      <td>10.4850</td>\n      <td>1916453.0</td>\n    </tr>\n    <tr>\n      <th>2019-07-29 12:00:00-04:00</th>\n      <td>10.4900</td>\n      <td>10.5000</td>\n      <td>10.4400</td>\n      <td>10.4500</td>\n      <td>2467638.0</td>\n    </tr>\n    <tr>\n      <th>...</th>\n      <td>...</td>\n      <td>...</td>\n      <td>...</td>\n      <td>...</td>\n      <td>...</td>\n    </tr>\n    <tr>\n      <th>2019-09-09 14:00:00-04:00</th>\n      <td>8.9900</td>\n      <td>8.9950</td>\n      <td>8.9700</td>\n      <td>8.9800</td>\n      <td>1740722.0</td>\n    </tr>\n    <tr>\n      <th>2019-09-09 14:30:00-04:00</th>\n      <td>8.9735</td>\n      <td>9.0000</td>\n      <td>8.9700</td>\n      <td>8.9835</td>\n      <td>1412823.0</td>\n    </tr>\n    <tr>\n      <th>2019-09-09 15:00:00-04:00</th>\n      <td>8.9900</td>\n      <td>9.0100</td>\n      <td>8.9350</td>\n      <td>8.9500</td>\n      <td>4177838.0</td>\n    </tr>\n    <tr>\n      <th>2019-09-09 15:30:00-04:00</th>\n      <td>8.9453</td>\n      <td>8.9700</td>\n      <td>8.9300</td>\n      <td>8.9603</td>\n      <td>2254279.0</td>\n    </tr>\n    <tr>\n      <th>2019-09-09 16:00:00-04:00</th>\n      <td>8.9600</td>\n      <td>8.9900</td>\n      <td>8.9200</td>\n      <td>8.9700</td>\n      <td>6887530.0</td>\n    </tr>\n  </tbody>\n</table>\n<p>389 rows × 5 columns</p>\n</div>"
     },
     "execution_count": 146,
     "metadata": {},
     "output_type": "execute_result"
    }
   ]
  },
  {
   "cell_type": "code",
   "source": [
    "ge = ge.tz_localize(\"America/New_York\")"
   ],
   "metadata": {
    "id": "JpElUxNg15EG"
   },
   "execution_count": 147,
   "outputs": []
  },
  {
   "cell_type": "code",
   "source": [
    "ge.head()"
   ],
   "metadata": {
    "colab": {
     "base_uri": "https://localhost:8080/",
     "height": 237
    },
    "id": "p_mGrZJ115Gt",
    "outputId": "de824466-1e83-458a-e825-0d89fa929b04"
   },
   "execution_count": 148,
   "outputs": [
    {
     "data": {
      "text/plain": "                           1. open  2. high   3. low  4. close  5. volume\ndate                                                                     \n2019-07-29 10:00:00-04:00  10.5000  10.5800  10.4300   10.4400  4840329.0\n2019-07-29 10:30:00-04:00  10.4404  10.4847  10.3997   10.4104  3860280.0\n2019-07-29 11:00:00-04:00  10.4200  10.5000  10.4100   10.5000  1912153.0\n2019-07-29 11:30:00-04:00  10.4931  10.5300  10.4800   10.4850  1916453.0\n2019-07-29 12:00:00-04:00  10.4900  10.5000  10.4400   10.4500  2467638.0",
      "text/html": "<div>\n<style scoped>\n    .dataframe tbody tr th:only-of-type {\n        vertical-align: middle;\n    }\n\n    .dataframe tbody tr th {\n        vertical-align: top;\n    }\n\n    .dataframe thead th {\n        text-align: right;\n    }\n</style>\n<table border=\"1\" class=\"dataframe\">\n  <thead>\n    <tr style=\"text-align: right;\">\n      <th></th>\n      <th>1. open</th>\n      <th>2. high</th>\n      <th>3. low</th>\n      <th>4. close</th>\n      <th>5. volume</th>\n    </tr>\n    <tr>\n      <th>date</th>\n      <th></th>\n      <th></th>\n      <th></th>\n      <th></th>\n      <th></th>\n    </tr>\n  </thead>\n  <tbody>\n    <tr>\n      <th>2019-07-29 10:00:00-04:00</th>\n      <td>10.5000</td>\n      <td>10.5800</td>\n      <td>10.4300</td>\n      <td>10.4400</td>\n      <td>4840329.0</td>\n    </tr>\n    <tr>\n      <th>2019-07-29 10:30:00-04:00</th>\n      <td>10.4404</td>\n      <td>10.4847</td>\n      <td>10.3997</td>\n      <td>10.4104</td>\n      <td>3860280.0</td>\n    </tr>\n    <tr>\n      <th>2019-07-29 11:00:00-04:00</th>\n      <td>10.4200</td>\n      <td>10.5000</td>\n      <td>10.4100</td>\n      <td>10.5000</td>\n      <td>1912153.0</td>\n    </tr>\n    <tr>\n      <th>2019-07-29 11:30:00-04:00</th>\n      <td>10.4931</td>\n      <td>10.5300</td>\n      <td>10.4800</td>\n      <td>10.4850</td>\n      <td>1916453.0</td>\n    </tr>\n    <tr>\n      <th>2019-07-29 12:00:00-04:00</th>\n      <td>10.4900</td>\n      <td>10.5000</td>\n      <td>10.4400</td>\n      <td>10.4500</td>\n      <td>2467638.0</td>\n    </tr>\n  </tbody>\n</table>\n</div>"
     },
     "execution_count": 148,
     "metadata": {},
     "output_type": "execute_result"
    }
   ]
  },
  {
   "cell_type": "markdown",
   "source": [
    "#146 시간대 변환하기(파트2)"
   ],
   "metadata": {
    "id": "942HxIJM9yu7"
   }
  },
  {
   "cell_type": "code",
   "source": [
    "ge.index.tz"
   ],
   "metadata": {
    "colab": {
     "base_uri": "https://localhost:8080/"
    },
    "id": "Yma-ebgP2TuF",
    "outputId": "2b49fce0-5f13-42c2-be76-cce707f1149d"
   },
   "execution_count": 149,
   "outputs": [
    {
     "data": {
      "text/plain": "<DstTzInfo 'America/New_York' LMT-1 day, 19:04:00 STD>"
     },
     "execution_count": 149,
     "metadata": {},
     "output_type": "execute_result"
    }
   ]
  },
  {
   "cell_type": "code",
   "source": [
    "ge.tz_convert(\"UTC\")"
   ],
   "metadata": {
    "colab": {
     "base_uri": "https://localhost:8080/",
     "height": 455
    },
    "id": "v6Ueq_Fb2TxC",
    "outputId": "f8002f21-1857-4ee5-dea3-f21def86394e"
   },
   "execution_count": 150,
   "outputs": [
    {
     "data": {
      "text/plain": "                           1. open  2. high   3. low  4. close  5. volume\ndate                                                                     \n2019-07-29 14:00:00+00:00  10.5000  10.5800  10.4300   10.4400  4840329.0\n2019-07-29 14:30:00+00:00  10.4404  10.4847  10.3997   10.4104  3860280.0\n2019-07-29 15:00:00+00:00  10.4200  10.5000  10.4100   10.5000  1912153.0\n2019-07-29 15:30:00+00:00  10.4931  10.5300  10.4800   10.4850  1916453.0\n2019-07-29 16:00:00+00:00  10.4900  10.5000  10.4400   10.4500  2467638.0\n...                            ...      ...      ...       ...        ...\n2019-09-09 18:00:00+00:00   8.9900   8.9950   8.9700    8.9800  1740722.0\n2019-09-09 18:30:00+00:00   8.9735   9.0000   8.9700    8.9835  1412823.0\n2019-09-09 19:00:00+00:00   8.9900   9.0100   8.9350    8.9500  4177838.0\n2019-09-09 19:30:00+00:00   8.9453   8.9700   8.9300    8.9603  2254279.0\n2019-09-09 20:00:00+00:00   8.9600   8.9900   8.9200    8.9700  6887530.0\n\n[389 rows x 5 columns]",
      "text/html": "<div>\n<style scoped>\n    .dataframe tbody tr th:only-of-type {\n        vertical-align: middle;\n    }\n\n    .dataframe tbody tr th {\n        vertical-align: top;\n    }\n\n    .dataframe thead th {\n        text-align: right;\n    }\n</style>\n<table border=\"1\" class=\"dataframe\">\n  <thead>\n    <tr style=\"text-align: right;\">\n      <th></th>\n      <th>1. open</th>\n      <th>2. high</th>\n      <th>3. low</th>\n      <th>4. close</th>\n      <th>5. volume</th>\n    </tr>\n    <tr>\n      <th>date</th>\n      <th></th>\n      <th></th>\n      <th></th>\n      <th></th>\n      <th></th>\n    </tr>\n  </thead>\n  <tbody>\n    <tr>\n      <th>2019-07-29 14:00:00+00:00</th>\n      <td>10.5000</td>\n      <td>10.5800</td>\n      <td>10.4300</td>\n      <td>10.4400</td>\n      <td>4840329.0</td>\n    </tr>\n    <tr>\n      <th>2019-07-29 14:30:00+00:00</th>\n      <td>10.4404</td>\n      <td>10.4847</td>\n      <td>10.3997</td>\n      <td>10.4104</td>\n      <td>3860280.0</td>\n    </tr>\n    <tr>\n      <th>2019-07-29 15:00:00+00:00</th>\n      <td>10.4200</td>\n      <td>10.5000</td>\n      <td>10.4100</td>\n      <td>10.5000</td>\n      <td>1912153.0</td>\n    </tr>\n    <tr>\n      <th>2019-07-29 15:30:00+00:00</th>\n      <td>10.4931</td>\n      <td>10.5300</td>\n      <td>10.4800</td>\n      <td>10.4850</td>\n      <td>1916453.0</td>\n    </tr>\n    <tr>\n      <th>2019-07-29 16:00:00+00:00</th>\n      <td>10.4900</td>\n      <td>10.5000</td>\n      <td>10.4400</td>\n      <td>10.4500</td>\n      <td>2467638.0</td>\n    </tr>\n    <tr>\n      <th>...</th>\n      <td>...</td>\n      <td>...</td>\n      <td>...</td>\n      <td>...</td>\n      <td>...</td>\n    </tr>\n    <tr>\n      <th>2019-09-09 18:00:00+00:00</th>\n      <td>8.9900</td>\n      <td>8.9950</td>\n      <td>8.9700</td>\n      <td>8.9800</td>\n      <td>1740722.0</td>\n    </tr>\n    <tr>\n      <th>2019-09-09 18:30:00+00:00</th>\n      <td>8.9735</td>\n      <td>9.0000</td>\n      <td>8.9700</td>\n      <td>8.9835</td>\n      <td>1412823.0</td>\n    </tr>\n    <tr>\n      <th>2019-09-09 19:00:00+00:00</th>\n      <td>8.9900</td>\n      <td>9.0100</td>\n      <td>8.9350</td>\n      <td>8.9500</td>\n      <td>4177838.0</td>\n    </tr>\n    <tr>\n      <th>2019-09-09 19:30:00+00:00</th>\n      <td>8.9453</td>\n      <td>8.9700</td>\n      <td>8.9300</td>\n      <td>8.9603</td>\n      <td>2254279.0</td>\n    </tr>\n    <tr>\n      <th>2019-09-09 20:00:00+00:00</th>\n      <td>8.9600</td>\n      <td>8.9900</td>\n      <td>8.9200</td>\n      <td>8.9700</td>\n      <td>6887530.0</td>\n    </tr>\n  </tbody>\n</table>\n<p>389 rows × 5 columns</p>\n</div>"
     },
     "execution_count": 150,
     "metadata": {},
     "output_type": "execute_result"
    }
   ]
  },
  {
   "cell_type": "code",
   "source": [
    "ge.tz_convert(\"America/Los_Angeles\")"
   ],
   "metadata": {
    "colab": {
     "base_uri": "https://localhost:8080/",
     "height": 455
    },
    "id": "lDgTGSS-2T1X",
    "outputId": "a8d556cc-910b-48a1-e47c-9cb5531c32d2"
   },
   "execution_count": 151,
   "outputs": [
    {
     "data": {
      "text/plain": "                           1. open  2. high   3. low  4. close  5. volume\ndate                                                                     \n2019-07-29 07:00:00-07:00  10.5000  10.5800  10.4300   10.4400  4840329.0\n2019-07-29 07:30:00-07:00  10.4404  10.4847  10.3997   10.4104  3860280.0\n2019-07-29 08:00:00-07:00  10.4200  10.5000  10.4100   10.5000  1912153.0\n2019-07-29 08:30:00-07:00  10.4931  10.5300  10.4800   10.4850  1916453.0\n2019-07-29 09:00:00-07:00  10.4900  10.5000  10.4400   10.4500  2467638.0\n...                            ...      ...      ...       ...        ...\n2019-09-09 11:00:00-07:00   8.9900   8.9950   8.9700    8.9800  1740722.0\n2019-09-09 11:30:00-07:00   8.9735   9.0000   8.9700    8.9835  1412823.0\n2019-09-09 12:00:00-07:00   8.9900   9.0100   8.9350    8.9500  4177838.0\n2019-09-09 12:30:00-07:00   8.9453   8.9700   8.9300    8.9603  2254279.0\n2019-09-09 13:00:00-07:00   8.9600   8.9900   8.9200    8.9700  6887530.0\n\n[389 rows x 5 columns]",
      "text/html": "<div>\n<style scoped>\n    .dataframe tbody tr th:only-of-type {\n        vertical-align: middle;\n    }\n\n    .dataframe tbody tr th {\n        vertical-align: top;\n    }\n\n    .dataframe thead th {\n        text-align: right;\n    }\n</style>\n<table border=\"1\" class=\"dataframe\">\n  <thead>\n    <tr style=\"text-align: right;\">\n      <th></th>\n      <th>1. open</th>\n      <th>2. high</th>\n      <th>3. low</th>\n      <th>4. close</th>\n      <th>5. volume</th>\n    </tr>\n    <tr>\n      <th>date</th>\n      <th></th>\n      <th></th>\n      <th></th>\n      <th></th>\n      <th></th>\n    </tr>\n  </thead>\n  <tbody>\n    <tr>\n      <th>2019-07-29 07:00:00-07:00</th>\n      <td>10.5000</td>\n      <td>10.5800</td>\n      <td>10.4300</td>\n      <td>10.4400</td>\n      <td>4840329.0</td>\n    </tr>\n    <tr>\n      <th>2019-07-29 07:30:00-07:00</th>\n      <td>10.4404</td>\n      <td>10.4847</td>\n      <td>10.3997</td>\n      <td>10.4104</td>\n      <td>3860280.0</td>\n    </tr>\n    <tr>\n      <th>2019-07-29 08:00:00-07:00</th>\n      <td>10.4200</td>\n      <td>10.5000</td>\n      <td>10.4100</td>\n      <td>10.5000</td>\n      <td>1912153.0</td>\n    </tr>\n    <tr>\n      <th>2019-07-29 08:30:00-07:00</th>\n      <td>10.4931</td>\n      <td>10.5300</td>\n      <td>10.4800</td>\n      <td>10.4850</td>\n      <td>1916453.0</td>\n    </tr>\n    <tr>\n      <th>2019-07-29 09:00:00-07:00</th>\n      <td>10.4900</td>\n      <td>10.5000</td>\n      <td>10.4400</td>\n      <td>10.4500</td>\n      <td>2467638.0</td>\n    </tr>\n    <tr>\n      <th>...</th>\n      <td>...</td>\n      <td>...</td>\n      <td>...</td>\n      <td>...</td>\n      <td>...</td>\n    </tr>\n    <tr>\n      <th>2019-09-09 11:00:00-07:00</th>\n      <td>8.9900</td>\n      <td>8.9950</td>\n      <td>8.9700</td>\n      <td>8.9800</td>\n      <td>1740722.0</td>\n    </tr>\n    <tr>\n      <th>2019-09-09 11:30:00-07:00</th>\n      <td>8.9735</td>\n      <td>9.0000</td>\n      <td>8.9700</td>\n      <td>8.9835</td>\n      <td>1412823.0</td>\n    </tr>\n    <tr>\n      <th>2019-09-09 12:00:00-07:00</th>\n      <td>8.9900</td>\n      <td>9.0100</td>\n      <td>8.9350</td>\n      <td>8.9500</td>\n      <td>4177838.0</td>\n    </tr>\n    <tr>\n      <th>2019-09-09 12:30:00-07:00</th>\n      <td>8.9453</td>\n      <td>8.9700</td>\n      <td>8.9300</td>\n      <td>8.9603</td>\n      <td>2254279.0</td>\n    </tr>\n    <tr>\n      <th>2019-09-09 13:00:00-07:00</th>\n      <td>8.9600</td>\n      <td>8.9900</td>\n      <td>8.9200</td>\n      <td>8.9700</td>\n      <td>6887530.0</td>\n    </tr>\n  </tbody>\n</table>\n<p>389 rows × 5 columns</p>\n</div>"
     },
     "execution_count": 151,
     "metadata": {},
     "output_type": "execute_result"
    }
   ]
  },
  {
   "cell_type": "code",
   "source": [
    "ge_la = ge.tz_convert(\"America/Los_Angeles\")"
   ],
   "metadata": {
    "id": "oOZpZOAI2h3e"
   },
   "execution_count": 152,
   "outputs": []
  },
  {
   "cell_type": "code",
   "source": [
    "ge.head()"
   ],
   "metadata": {
    "colab": {
     "base_uri": "https://localhost:8080/",
     "height": 237
    },
    "id": "So0XgKVW2nkx",
    "outputId": "c8c7608a-af78-4a6c-b94a-010a65f8e933"
   },
   "execution_count": 153,
   "outputs": [
    {
     "data": {
      "text/plain": "                           1. open  2. high   3. low  4. close  5. volume\ndate                                                                     \n2019-07-29 10:00:00-04:00  10.5000  10.5800  10.4300   10.4400  4840329.0\n2019-07-29 10:30:00-04:00  10.4404  10.4847  10.3997   10.4104  3860280.0\n2019-07-29 11:00:00-04:00  10.4200  10.5000  10.4100   10.5000  1912153.0\n2019-07-29 11:30:00-04:00  10.4931  10.5300  10.4800   10.4850  1916453.0\n2019-07-29 12:00:00-04:00  10.4900  10.5000  10.4400   10.4500  2467638.0",
      "text/html": "<div>\n<style scoped>\n    .dataframe tbody tr th:only-of-type {\n        vertical-align: middle;\n    }\n\n    .dataframe tbody tr th {\n        vertical-align: top;\n    }\n\n    .dataframe thead th {\n        text-align: right;\n    }\n</style>\n<table border=\"1\" class=\"dataframe\">\n  <thead>\n    <tr style=\"text-align: right;\">\n      <th></th>\n      <th>1. open</th>\n      <th>2. high</th>\n      <th>3. low</th>\n      <th>4. close</th>\n      <th>5. volume</th>\n    </tr>\n    <tr>\n      <th>date</th>\n      <th></th>\n      <th></th>\n      <th></th>\n      <th></th>\n      <th></th>\n    </tr>\n  </thead>\n  <tbody>\n    <tr>\n      <th>2019-07-29 10:00:00-04:00</th>\n      <td>10.5000</td>\n      <td>10.5800</td>\n      <td>10.4300</td>\n      <td>10.4400</td>\n      <td>4840329.0</td>\n    </tr>\n    <tr>\n      <th>2019-07-29 10:30:00-04:00</th>\n      <td>10.4404</td>\n      <td>10.4847</td>\n      <td>10.3997</td>\n      <td>10.4104</td>\n      <td>3860280.0</td>\n    </tr>\n    <tr>\n      <th>2019-07-29 11:00:00-04:00</th>\n      <td>10.4200</td>\n      <td>10.5000</td>\n      <td>10.4100</td>\n      <td>10.5000</td>\n      <td>1912153.0</td>\n    </tr>\n    <tr>\n      <th>2019-07-29 11:30:00-04:00</th>\n      <td>10.4931</td>\n      <td>10.5300</td>\n      <td>10.4800</td>\n      <td>10.4850</td>\n      <td>1916453.0</td>\n    </tr>\n    <tr>\n      <th>2019-07-29 12:00:00-04:00</th>\n      <td>10.4900</td>\n      <td>10.5000</td>\n      <td>10.4400</td>\n      <td>10.4500</td>\n      <td>2467638.0</td>\n    </tr>\n  </tbody>\n</table>\n</div>"
     },
     "execution_count": 153,
     "metadata": {},
     "output_type": "execute_result"
    }
   ]
  },
  {
   "cell_type": "code",
   "source": [
    "comb = pd.concat([ge, ge_la], axis=1)"
   ],
   "metadata": {
    "id": "LGi3AB1m2pEF"
   },
   "execution_count": 154,
   "outputs": []
  },
  {
   "cell_type": "code",
   "source": [
    "comb.head()"
   ],
   "metadata": {
    "colab": {
     "base_uri": "https://localhost:8080/",
     "height": 237
    },
    "id": "YYyRFbrY2xKX",
    "outputId": "51065faf-deca-48eb-80d4-709f70cf3167"
   },
   "execution_count": 155,
   "outputs": [
    {
     "data": {
      "text/plain": "                           1. open  2. high   3. low  4. close  5. volume  \\\ndate                                                                        \n2019-07-29 14:00:00+00:00  10.5000  10.5800  10.4300   10.4400  4840329.0   \n2019-07-29 14:30:00+00:00  10.4404  10.4847  10.3997   10.4104  3860280.0   \n2019-07-29 15:00:00+00:00  10.4200  10.5000  10.4100   10.5000  1912153.0   \n2019-07-29 15:30:00+00:00  10.4931  10.5300  10.4800   10.4850  1916453.0   \n2019-07-29 16:00:00+00:00  10.4900  10.5000  10.4400   10.4500  2467638.0   \n\n                           1. open  2. high   3. low  4. close  5. volume  \ndate                                                                       \n2019-07-29 14:00:00+00:00  10.5000  10.5800  10.4300   10.4400  4840329.0  \n2019-07-29 14:30:00+00:00  10.4404  10.4847  10.3997   10.4104  3860280.0  \n2019-07-29 15:00:00+00:00  10.4200  10.5000  10.4100   10.5000  1912153.0  \n2019-07-29 15:30:00+00:00  10.4931  10.5300  10.4800   10.4850  1916453.0  \n2019-07-29 16:00:00+00:00  10.4900  10.5000  10.4400   10.4500  2467638.0  ",
      "text/html": "<div>\n<style scoped>\n    .dataframe tbody tr th:only-of-type {\n        vertical-align: middle;\n    }\n\n    .dataframe tbody tr th {\n        vertical-align: top;\n    }\n\n    .dataframe thead th {\n        text-align: right;\n    }\n</style>\n<table border=\"1\" class=\"dataframe\">\n  <thead>\n    <tr style=\"text-align: right;\">\n      <th></th>\n      <th>1. open</th>\n      <th>2. high</th>\n      <th>3. low</th>\n      <th>4. close</th>\n      <th>5. volume</th>\n      <th>1. open</th>\n      <th>2. high</th>\n      <th>3. low</th>\n      <th>4. close</th>\n      <th>5. volume</th>\n    </tr>\n    <tr>\n      <th>date</th>\n      <th></th>\n      <th></th>\n      <th></th>\n      <th></th>\n      <th></th>\n      <th></th>\n      <th></th>\n      <th></th>\n      <th></th>\n      <th></th>\n    </tr>\n  </thead>\n  <tbody>\n    <tr>\n      <th>2019-07-29 14:00:00+00:00</th>\n      <td>10.5000</td>\n      <td>10.5800</td>\n      <td>10.4300</td>\n      <td>10.4400</td>\n      <td>4840329.0</td>\n      <td>10.5000</td>\n      <td>10.5800</td>\n      <td>10.4300</td>\n      <td>10.4400</td>\n      <td>4840329.0</td>\n    </tr>\n    <tr>\n      <th>2019-07-29 14:30:00+00:00</th>\n      <td>10.4404</td>\n      <td>10.4847</td>\n      <td>10.3997</td>\n      <td>10.4104</td>\n      <td>3860280.0</td>\n      <td>10.4404</td>\n      <td>10.4847</td>\n      <td>10.3997</td>\n      <td>10.4104</td>\n      <td>3860280.0</td>\n    </tr>\n    <tr>\n      <th>2019-07-29 15:00:00+00:00</th>\n      <td>10.4200</td>\n      <td>10.5000</td>\n      <td>10.4100</td>\n      <td>10.5000</td>\n      <td>1912153.0</td>\n      <td>10.4200</td>\n      <td>10.5000</td>\n      <td>10.4100</td>\n      <td>10.5000</td>\n      <td>1912153.0</td>\n    </tr>\n    <tr>\n      <th>2019-07-29 15:30:00+00:00</th>\n      <td>10.4931</td>\n      <td>10.5300</td>\n      <td>10.4800</td>\n      <td>10.4850</td>\n      <td>1916453.0</td>\n      <td>10.4931</td>\n      <td>10.5300</td>\n      <td>10.4800</td>\n      <td>10.4850</td>\n      <td>1916453.0</td>\n    </tr>\n    <tr>\n      <th>2019-07-29 16:00:00+00:00</th>\n      <td>10.4900</td>\n      <td>10.5000</td>\n      <td>10.4400</td>\n      <td>10.4500</td>\n      <td>2467638.0</td>\n      <td>10.4900</td>\n      <td>10.5000</td>\n      <td>10.4400</td>\n      <td>10.4500</td>\n      <td>2467638.0</td>\n    </tr>\n  </tbody>\n</table>\n</div>"
     },
     "execution_count": 155,
     "metadata": {},
     "output_type": "execute_result"
    }
   ]
  },
  {
   "cell_type": "code",
   "source": [
    "import pytz"
   ],
   "metadata": {
    "id": "V6vaAB2f2yld"
   },
   "execution_count": 156,
   "outputs": []
  },
  {
   "cell_type": "code",
   "source": [
    "len(pytz.all_timezones)"
   ],
   "metadata": {
    "colab": {
     "base_uri": "https://localhost:8080/"
    },
    "id": "GVcRrpny3Mkn",
    "outputId": "fdf9703a-5a03-4698-b194-3e9ffadb6e67"
   },
   "execution_count": 157,
   "outputs": [
    {
     "data": {
      "text/plain": "594"
     },
     "execution_count": 157,
     "metadata": {},
     "output_type": "execute_result"
    }
   ]
  },
  {
   "cell_type": "code",
   "source": [
    "pytz.common_timezones"
   ],
   "metadata": {
    "colab": {
     "base_uri": "https://localhost:8080/"
    },
    "id": "kt2AR5Qz3Pfn",
    "outputId": "a89a9292-74a8-4f87-e0be-bd4b8059cf71"
   },
   "execution_count": 158,
   "outputs": [
    {
     "data": {
      "text/plain": "['Africa/Abidjan', 'Africa/Accra', 'Africa/Addis_Ababa', 'Africa/Algiers', 'Africa/Asmara', 'Africa/Bamako', 'Africa/Bangui', 'Africa/Banjul', 'Africa/Bissau', 'Africa/Blantyre', 'Africa/Brazzaville', 'Africa/Bujumbura', 'Africa/Cairo', 'Africa/Casablanca', 'Africa/Ceuta', 'Africa/Conakry', 'Africa/Dakar', 'Africa/Dar_es_Salaam', 'Africa/Djibouti', 'Africa/Douala', 'Africa/El_Aaiun', 'Africa/Freetown', 'Africa/Gaborone', 'Africa/Harare', 'Africa/Johannesburg', 'Africa/Juba', 'Africa/Kampala', 'Africa/Khartoum', 'Africa/Kigali', 'Africa/Kinshasa', 'Africa/Lagos', 'Africa/Libreville', 'Africa/Lome', 'Africa/Luanda', 'Africa/Lubumbashi', 'Africa/Lusaka', 'Africa/Malabo', 'Africa/Maputo', 'Africa/Maseru', 'Africa/Mbabane', 'Africa/Mogadishu', 'Africa/Monrovia', 'Africa/Nairobi', 'Africa/Ndjamena', 'Africa/Niamey', 'Africa/Nouakchott', 'Africa/Ouagadougou', 'Africa/Porto-Novo', 'Africa/Sao_Tome', 'Africa/Tripoli', 'Africa/Tunis', 'Africa/Windhoek', 'America/Adak', 'America/Anchorage', 'America/Anguilla', 'America/Antigua', 'America/Araguaina', 'America/Argentina/Buenos_Aires', 'America/Argentina/Catamarca', 'America/Argentina/Cordoba', 'America/Argentina/Jujuy', 'America/Argentina/La_Rioja', 'America/Argentina/Mendoza', 'America/Argentina/Rio_Gallegos', 'America/Argentina/Salta', 'America/Argentina/San_Juan', 'America/Argentina/San_Luis', 'America/Argentina/Tucuman', 'America/Argentina/Ushuaia', 'America/Aruba', 'America/Asuncion', 'America/Atikokan', 'America/Bahia', 'America/Bahia_Banderas', 'America/Barbados', 'America/Belem', 'America/Belize', 'America/Blanc-Sablon', 'America/Boa_Vista', 'America/Bogota', 'America/Boise', 'America/Cambridge_Bay', 'America/Campo_Grande', 'America/Cancun', 'America/Caracas', 'America/Cayenne', 'America/Cayman', 'America/Chicago', 'America/Chihuahua', 'America/Costa_Rica', 'America/Creston', 'America/Cuiaba', 'America/Curacao', 'America/Danmarkshavn', 'America/Dawson', 'America/Dawson_Creek', 'America/Denver', 'America/Detroit', 'America/Dominica', 'America/Edmonton', 'America/Eirunepe', 'America/El_Salvador', 'America/Fort_Nelson', 'America/Fortaleza', 'America/Glace_Bay', 'America/Goose_Bay', 'America/Grand_Turk', 'America/Grenada', 'America/Guadeloupe', 'America/Guatemala', 'America/Guayaquil', 'America/Guyana', 'America/Halifax', 'America/Havana', 'America/Hermosillo', 'America/Indiana/Indianapolis', 'America/Indiana/Knox', 'America/Indiana/Marengo', 'America/Indiana/Petersburg', 'America/Indiana/Tell_City', 'America/Indiana/Vevay', 'America/Indiana/Vincennes', 'America/Indiana/Winamac', 'America/Inuvik', 'America/Iqaluit', 'America/Jamaica', 'America/Juneau', 'America/Kentucky/Louisville', 'America/Kentucky/Monticello', 'America/Kralendijk', 'America/La_Paz', 'America/Lima', 'America/Los_Angeles', 'America/Lower_Princes', 'America/Maceio', 'America/Managua', 'America/Manaus', 'America/Marigot', 'America/Martinique', 'America/Matamoros', 'America/Mazatlan', 'America/Menominee', 'America/Merida', 'America/Metlakatla', 'America/Mexico_City', 'America/Miquelon', 'America/Moncton', 'America/Monterrey', 'America/Montevideo', 'America/Montserrat', 'America/Nassau', 'America/New_York', 'America/Nipigon', 'America/Nome', 'America/Noronha', 'America/North_Dakota/Beulah', 'America/North_Dakota/Center', 'America/North_Dakota/New_Salem', 'America/Nuuk', 'America/Ojinaga', 'America/Panama', 'America/Pangnirtung', 'America/Paramaribo', 'America/Phoenix', 'America/Port-au-Prince', 'America/Port_of_Spain', 'America/Porto_Velho', 'America/Puerto_Rico', 'America/Punta_Arenas', 'America/Rainy_River', 'America/Rankin_Inlet', 'America/Recife', 'America/Regina', 'America/Resolute', 'America/Rio_Branco', 'America/Santarem', 'America/Santiago', 'America/Santo_Domingo', 'America/Sao_Paulo', 'America/Scoresbysund', 'America/Sitka', 'America/St_Barthelemy', 'America/St_Johns', 'America/St_Kitts', 'America/St_Lucia', 'America/St_Thomas', 'America/St_Vincent', 'America/Swift_Current', 'America/Tegucigalpa', 'America/Thule', 'America/Thunder_Bay', 'America/Tijuana', 'America/Toronto', 'America/Tortola', 'America/Vancouver', 'America/Whitehorse', 'America/Winnipeg', 'America/Yakutat', 'America/Yellowknife', 'Antarctica/Casey', 'Antarctica/Davis', 'Antarctica/DumontDUrville', 'Antarctica/Macquarie', 'Antarctica/Mawson', 'Antarctica/McMurdo', 'Antarctica/Palmer', 'Antarctica/Rothera', 'Antarctica/Syowa', 'Antarctica/Troll', 'Antarctica/Vostok', 'Arctic/Longyearbyen', 'Asia/Aden', 'Asia/Almaty', 'Asia/Amman', 'Asia/Anadyr', 'Asia/Aqtau', 'Asia/Aqtobe', 'Asia/Ashgabat', 'Asia/Atyrau', 'Asia/Baghdad', 'Asia/Bahrain', 'Asia/Baku', 'Asia/Bangkok', 'Asia/Barnaul', 'Asia/Beirut', 'Asia/Bishkek', 'Asia/Brunei', 'Asia/Chita', 'Asia/Choibalsan', 'Asia/Colombo', 'Asia/Damascus', 'Asia/Dhaka', 'Asia/Dili', 'Asia/Dubai', 'Asia/Dushanbe', 'Asia/Famagusta', 'Asia/Gaza', 'Asia/Hebron', 'Asia/Ho_Chi_Minh', 'Asia/Hong_Kong', 'Asia/Hovd', 'Asia/Irkutsk', 'Asia/Jakarta', 'Asia/Jayapura', 'Asia/Jerusalem', 'Asia/Kabul', 'Asia/Kamchatka', 'Asia/Karachi', 'Asia/Kathmandu', 'Asia/Khandyga', 'Asia/Kolkata', 'Asia/Krasnoyarsk', 'Asia/Kuala_Lumpur', 'Asia/Kuching', 'Asia/Kuwait', 'Asia/Macau', 'Asia/Magadan', 'Asia/Makassar', 'Asia/Manila', 'Asia/Muscat', 'Asia/Nicosia', 'Asia/Novokuznetsk', 'Asia/Novosibirsk', 'Asia/Omsk', 'Asia/Oral', 'Asia/Phnom_Penh', 'Asia/Pontianak', 'Asia/Pyongyang', 'Asia/Qatar', 'Asia/Qostanay', 'Asia/Qyzylorda', 'Asia/Riyadh', 'Asia/Sakhalin', 'Asia/Samarkand', 'Asia/Seoul', 'Asia/Shanghai', 'Asia/Singapore', 'Asia/Srednekolymsk', 'Asia/Taipei', 'Asia/Tashkent', 'Asia/Tbilisi', 'Asia/Tehran', 'Asia/Thimphu', 'Asia/Tokyo', 'Asia/Tomsk', 'Asia/Ulaanbaatar', 'Asia/Urumqi', 'Asia/Ust-Nera', 'Asia/Vientiane', 'Asia/Vladivostok', 'Asia/Yakutsk', 'Asia/Yangon', 'Asia/Yekaterinburg', 'Asia/Yerevan', 'Atlantic/Azores', 'Atlantic/Bermuda', 'Atlantic/Canary', 'Atlantic/Cape_Verde', 'Atlantic/Faroe', 'Atlantic/Madeira', 'Atlantic/Reykjavik', 'Atlantic/South_Georgia', 'Atlantic/St_Helena', 'Atlantic/Stanley', 'Australia/Adelaide', 'Australia/Brisbane', 'Australia/Broken_Hill', 'Australia/Darwin', 'Australia/Eucla', 'Australia/Hobart', 'Australia/Lindeman', 'Australia/Lord_Howe', 'Australia/Melbourne', 'Australia/Perth', 'Australia/Sydney', 'Canada/Atlantic', 'Canada/Central', 'Canada/Eastern', 'Canada/Mountain', 'Canada/Newfoundland', 'Canada/Pacific', 'Europe/Amsterdam', 'Europe/Andorra', 'Europe/Astrakhan', 'Europe/Athens', 'Europe/Belgrade', 'Europe/Berlin', 'Europe/Bratislava', 'Europe/Brussels', 'Europe/Bucharest', 'Europe/Budapest', 'Europe/Busingen', 'Europe/Chisinau', 'Europe/Copenhagen', 'Europe/Dublin', 'Europe/Gibraltar', 'Europe/Guernsey', 'Europe/Helsinki', 'Europe/Isle_of_Man', 'Europe/Istanbul', 'Europe/Jersey', 'Europe/Kaliningrad', 'Europe/Kiev', 'Europe/Kirov', 'Europe/Lisbon', 'Europe/Ljubljana', 'Europe/London', 'Europe/Luxembourg', 'Europe/Madrid', 'Europe/Malta', 'Europe/Mariehamn', 'Europe/Minsk', 'Europe/Monaco', 'Europe/Moscow', 'Europe/Oslo', 'Europe/Paris', 'Europe/Podgorica', 'Europe/Prague', 'Europe/Riga', 'Europe/Rome', 'Europe/Samara', 'Europe/San_Marino', 'Europe/Sarajevo', 'Europe/Saratov', 'Europe/Simferopol', 'Europe/Skopje', 'Europe/Sofia', 'Europe/Stockholm', 'Europe/Tallinn', 'Europe/Tirane', 'Europe/Ulyanovsk', 'Europe/Uzhgorod', 'Europe/Vaduz', 'Europe/Vatican', 'Europe/Vienna', 'Europe/Vilnius', 'Europe/Volgograd', 'Europe/Warsaw', 'Europe/Zagreb', 'Europe/Zaporozhye', 'Europe/Zurich', 'GMT', 'Indian/Antananarivo', 'Indian/Chagos', 'Indian/Christmas', 'Indian/Cocos', 'Indian/Comoro', 'Indian/Kerguelen', 'Indian/Mahe', 'Indian/Maldives', 'Indian/Mauritius', 'Indian/Mayotte', 'Indian/Reunion', 'Pacific/Apia', 'Pacific/Auckland', 'Pacific/Bougainville', 'Pacific/Chatham', 'Pacific/Chuuk', 'Pacific/Easter', 'Pacific/Efate', 'Pacific/Fakaofo', 'Pacific/Fiji', 'Pacific/Funafuti', 'Pacific/Galapagos', 'Pacific/Gambier', 'Pacific/Guadalcanal', 'Pacific/Guam', 'Pacific/Honolulu', 'Pacific/Kanton', 'Pacific/Kiritimati', 'Pacific/Kosrae', 'Pacific/Kwajalein', 'Pacific/Majuro', 'Pacific/Marquesas', 'Pacific/Midway', 'Pacific/Nauru', 'Pacific/Niue', 'Pacific/Norfolk', 'Pacific/Noumea', 'Pacific/Pago_Pago', 'Pacific/Palau', 'Pacific/Pitcairn', 'Pacific/Pohnpei', 'Pacific/Port_Moresby', 'Pacific/Rarotonga', 'Pacific/Saipan', 'Pacific/Tahiti', 'Pacific/Tarawa', 'Pacific/Tongatapu', 'Pacific/Wake', 'Pacific/Wallis', 'US/Alaska', 'US/Arizona', 'US/Central', 'US/Eastern', 'US/Hawaii', 'US/Mountain', 'US/Pacific', 'UTC']"
     },
     "execution_count": 158,
     "metadata": {},
     "output_type": "execute_result"
    }
   ]
  },
  {
   "cell_type": "code",
   "source": [
    ""
   ],
   "metadata": {
    "id": "x4F9pPYr3VcF"
   },
   "execution_count": 158,
   "outputs": []
  }
 ]
}